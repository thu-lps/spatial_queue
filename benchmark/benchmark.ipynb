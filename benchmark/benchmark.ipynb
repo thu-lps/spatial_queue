{
 "cells": [
  {
   "cell_type": "markdown",
   "metadata": {},
   "source": [
    "### Benchmark\n",
    "compare the loop and vectorized implementation.\n",
    "\n",
    "  * Loop through each node: [model/queue_class_ce170.py](model/queue_class_ce170.py)\n",
    "  * Vectorized: [model/spatial_queue_array.py](model/spatial_queue_array.py)"
   ]
  },
  {
   "cell_type": "code",
   "execution_count": 1,
   "metadata": {},
   "outputs": [
    {
     "name": "stderr",
     "output_type": "stream",
     "text": [
      "/Users/apple/anaconda3/lib/python3.6/site-packages/IPython/core/interactiveshell.py:2785: DtypeWarning: Columns (0) have mixed types.Specify dtype option on import or set low_memory=False.\n",
      "  interactivity=interactivity, compiler=compiler, result=result)\n"
     ]
    }
   ],
   "source": [
    "import sys\n",
    "import time \n",
    "import random\n",
    "import numpy as np\n",
    "import pandas as pd \n",
    "import matplotlib.pyplot as plt \n",
    "random.seed(0)\n",
    "np.random.seed(0)\n",
    "\n",
    "### profiler\n",
    "#%load_ext line_profiler\n",
    "\n",
    "### spatial queue model\n",
    "sys.path.insert(0, '../../..')\n",
    "sys.path.insert(0, '..')\n",
    "import model.queue_class_ce170 as sq_loop\n",
<<<<<<< Updated upstream
    "#import model.queue_class_ce170_separate as sq_loop_separate\n",
    "import model.spatial_queue_array as sq_vect"
=======
    "import model.spatial_queue_array as sq_vect\n",
    "\n",
    "\n",
    "# In[11]:\n",
    "\n",
    "\n",
    "### Read network and demand\n",
    "case='fairfax'\n",
    "bg_exist = 1 # 1 represents bg exists, 0 represents bg does not exist\n",
    "nodes_df = pd.read_csv('traffic_inputs/{}/new_{}_nodes.csv'.format(case,case))\n",
    "links_df = pd.read_csv('traffic_inputs/{}/new_{}_links.csv'.format(case,case))"
>>>>>>> Stashed changes
   ]
  },
  {
   "cell_type": "code",
   "execution_count": 10,
   "metadata": {},
   "outputs": [
    {
     "name": "stderr",
     "output_type": "stream",
     "text": [
      "/Users/bingyu/opt/anaconda3/envs/cities/lib/python3.8/site-packages/IPython/core/interactiveshell.py:3444: DtypeWarning: Columns (0) have mixed types.Specify dtype option on import or set low_memory=False.\n",
      "  exec(code_obj, self.user_global_ns, self.user_ns)\n"
     ]
    },
    {
     "name": "stdout",
     "output_type": "stream",
     "text": [
<<<<<<< Updated upstream
      "# nodes 206421, # links 507842, # ods 116160\n"
=======
      "# nodes 206421, # links 507842, # ods 112106\n"
>>>>>>> Stashed changes
     ]
    },
    {
     "data": {
      "text/html": [
       "<div>\n",
       "<style scoped>\n",
       "    .dataframe tbody tr th:only-of-type {\n",
       "        vertical-align: middle;\n",
       "    }\n",
       "\n",
       "    .dataframe tbody tr th {\n",
       "        vertical-align: top;\n",
       "    }\n",
       "\n",
       "    .dataframe thead th {\n",
       "        text-align: right;\n",
       "    }\n",
       "</style>\n",
       "<table border=\"1\" class=\"dataframe\">\n",
       "  <thead>\n",
       "    <tr style=\"text-align: right;\">\n",
       "      <th></th>\n",
       "      <th>node_grp</th>\n",
       "      <th>lon</th>\n",
       "      <th>lat</th>\n",
       "      <th>new_nid</th>\n",
       "      <th>node_id</th>\n",
       "      <th>type</th>\n",
       "      <th>node_osmid</th>\n",
       "    </tr>\n",
       "  </thead>\n",
       "  <tbody>\n",
       "    <tr>\n",
       "      <th>206419</th>\n",
       "      <td>g9998</td>\n",
       "      <td>-122.131677</td>\n",
       "      <td>38.230875</td>\n",
       "      <td>206419</td>\n",
       "      <td>206419</td>\n",
       "      <td>real</td>\n",
       "      <td>206419</td>\n",
       "    </tr>\n",
       "    <tr>\n",
       "      <th>206420</th>\n",
       "      <td>g9999</td>\n",
       "      <td>-122.607582</td>\n",
       "      <td>38.122272</td>\n",
       "      <td>206420</td>\n",
       "      <td>206420</td>\n",
       "      <td>real</td>\n",
       "      <td>206420</td>\n",
       "    </tr>\n",
       "  </tbody>\n",
       "</table>\n",
       "</div>"
      ],
      "text/plain": [
       "       node_grp         lon        lat  new_nid  node_id  type  node_osmid\n",
       "206419    g9998 -122.131677  38.230875   206419   206419  real      206419\n",
       "206420    g9999 -122.607582  38.122272   206420   206420  real      206420"
      ]
     },
     "metadata": {},
     "output_type": "display_data"
    },
    {
     "data": {
      "text/html": [
       "<div>\n",
       "<style scoped>\n",
       "    .dataframe tbody tr th:only-of-type {\n",
       "        vertical-align: middle;\n",
       "    }\n",
       "\n",
       "    .dataframe tbody tr th {\n",
       "        vertical-align: top;\n",
       "    }\n",
       "\n",
       "    .dataframe thead th {\n",
       "        text-align: right;\n",
       "    }\n",
       "</style>\n",
       "<table border=\"1\" class=\"dataframe\">\n",
       "  <thead>\n",
       "    <tr style=\"text-align: right;\">\n",
       "      <th></th>\n",
       "      <th>start_node_id</th>\n",
       "      <th>end_node_id</th>\n",
       "      <th>nid_s_old</th>\n",
       "      <th>nid_e_old</th>\n",
       "      <th>length</th>\n",
       "      <th>lanes</th>\n",
       "      <th>type</th>\n",
       "      <th>capacity</th>\n",
       "      <th>maxmph</th>\n",
       "      <th>geometry</th>\n",
       "      <th>link_id</th>\n",
       "    </tr>\n",
       "  </thead>\n",
       "  <tbody>\n",
       "    <tr>\n",
       "      <th>507840</th>\n",
       "      <td>99885</td>\n",
       "      <td>192503</td>\n",
       "      <td>116554</td>\n",
       "      <td>224223</td>\n",
       "      <td>1000.0</td>\n",
       "      <td>1000</td>\n",
       "      <td>vl_out</td>\n",
       "      <td>1000000</td>\n",
       "      <td>1000</td>\n",
       "      <td>LINESTRING(-122.6079542 38.0005342, -122.5823 ...</td>\n",
       "      <td>507840</td>\n",
       "    </tr>\n",
       "    <tr>\n",
       "      <th>507841</th>\n",
       "      <td>119384</td>\n",
       "      <td>192503</td>\n",
       "      <td>139862</td>\n",
       "      <td>224223</td>\n",
       "      <td>1000.0</td>\n",
       "      <td>1000</td>\n",
       "      <td>vl_out</td>\n",
       "      <td>1000000</td>\n",
       "      <td>1000</td>\n",
       "      <td>LINESTRING(-122.5811396 37.9866327, -122.5823 ...</td>\n",
       "      <td>507841</td>\n",
       "    </tr>\n",
       "  </tbody>\n",
       "</table>\n",
       "</div>"
      ],
      "text/plain": [
       "        start_node_id  end_node_id  nid_s_old  nid_e_old  length  lanes  \\\n",
       "507840          99885       192503     116554     224223  1000.0   1000   \n",
       "507841         119384       192503     139862     224223  1000.0   1000   \n",
       "\n",
       "          type  capacity  maxmph  \\\n",
       "507840  vl_out   1000000    1000   \n",
       "507841  vl_out   1000000    1000   \n",
       "\n",
       "                                                 geometry  link_id  \n",
       "507840  LINESTRING(-122.6079542 38.0005342, -122.5823 ...   507840  \n",
       "507841  LINESTRING(-122.5811396 37.9866327, -122.5823 ...   507841  "
      ]
     },
     "metadata": {},
     "output_type": "display_data"
    }
   ],
   "source": [
<<<<<<< Updated upstream
    "### Read network and demand\n",
    "case='new_fairfax' ### or new_fairfax\n",
    "nodes_df = pd.read_csv('traffic_inputs/{}_nodes.csv'.format(case))\n",
    "links_df = pd.read_csv('traffic_inputs/{}_links.csv'.format(case))\n",
    "od_df = pd.read_csv('traffic_inputs/{}_ods_day.csv'.format(case))\n",
    "#od_df = pd.concat([od_df]*100)\n",
    "\n",
    "### these are done for the vectorized implementation\n",
    "if case == 'berkeley':\n",
    "    osmid2nid_dict = {getattr(n, 'node_osmid'): getattr(n, 'node_id') for n in nodes_df.itertuples()}\n",
    "    od_df['origin_nid'] = od_df['origin_osmid'].map(osmid2nid_dict)\n",
    "    od_df['destin_nid'] = od_df['destin_osmid'].map(osmid2nid_dict)\n",
    "    special_nodes = {'first_priority':[], 'second_priority':[]}\n",
    "if case == 'new_fairfax':\n",
    "    special_nodes = {'first_priority':[], 'second_priority':[]}\n",
    "    background_od = pd.read_csv('traffic_inputs/{}_ods_background.csv'.format(case))\n",
    "    od_df = pd.concat([od_df, background_od]).sample(frac=1)\n",
    "    #od_df = background_od.sample(frac=0.5)\n",
    "    od_df = od_df[od_df['origin_nid']!=od_df['destin_nid']]\n",
    "    od_df['departure_hour'] = od_df['departure_hour'].fillna(6)\n",
    "    od_df['departure_quarter'] = od_df['departure_quarter'].fillna(0)\n",
    "    od_df['departure_time'] = (\n",
    "        od_df['departure_hour']-6)*3600 + od_df['departure_quarter']*900 \n",
    "    nodes_df['node_id'] = nodes_df['new_nid'].astype(int)\n",
    "    nodes_df['type'] = 'real'\n",
    "    nodes_df['node_osmid'] = nodes_df['node_id']\n",
    "print('# nodes {}, # links {}, # ods {}'.format(nodes_df.shape[0], links_df.shape[0], od_df.shape[0]))\n",
    "display(nodes_df.tail(2))\n",
    "display(links_df.tail(2))"
=======
    "od_df = pd.DataFrame()\n",
    "### these are done for the vectorized implementation\n",
    "if bg_exist == 1:\n",
    "    special_nodes = {'fiddrst_priority':[], 'second_priority':[]}\n",
    "    background_od = pd.read_csv('traffic_inputs/{}/{}_ods_background_new.csv'.format(case,case))\n",
    "    background_od = background_od.sample(frac=1)\n",
    "    od_df = pd.concat([od_df, background_od]).sample(frac=1)\n",
    "od_df = od_df[od_df['origin_nid']!=od_df['destin_nid']]\n",
    "od_df['agent_id'] = np.arange(len(od_df))\n",
    "nodes_df['node_id'] = nodes_df['new_nid'].astype(int)\n",
    "print('# nodes {}, # links {}, # ods {}'.format(nodes_df.shape[0], links_df.shape[0], od_df.shape[0]))"
>>>>>>> Stashed changes
   ]
  },
  {
   "cell_type": "code",
   "execution_count": 3,
   "metadata": {},
   "outputs": [
    {
     "name": "stdout",
     "output_type": "stream",
     "text": [
      "agents departure times not specified; assume leave immediately.\n"
     ]
    }
   ],
   "source": [
    "### initialize simulation\n",
    "simulation_vect = sq_vect.Simulation()\n",
    "simulation_vect.initialize_simulation(nodes_df, links_df, od_df)"
   ]
  },
  {
   "cell_type": "code",
   "execution_count": 4,
   "metadata": {},
   "outputs": [],
   "source": [
    "simulation_vect.agents.load_agents(network=simulation_vect.network, t=0)"
   ]
  },
  {
   "cell_type": "code",
   "execution_count": 6,
   "metadata": {},
   "outputs": [
    {
     "name": "stdout",
     "output_type": "stream",
     "text": [
<<<<<<< Updated upstream
      "Agent IDs not specified; use sequential number.\n",
      "At 0 seconds, 0 evacuees successfully reached the destination\n",
      "0 1645819562.958213\n",
      "At 1000 seconds, 1762 evacuees successfully reached the destination\n",
      "1000 1645820142.5948548\n",
      "At 2000 seconds, 4362 evacuees successfully reached the destination\n",
      "2000 1645820591.3516579\n",
      "At 3000 seconds, 6906 evacuees successfully reached the destination\n",
      "3000 1645821057.657741\n",
      "3599 1645821323.830533\n",
      "simulation completed\n",
      "Simulation took 1765.8138468265533s\n"
=======
      "323803\n",
      "323803\n"
>>>>>>> Stashed changes
     ]
    }
   ],
   "source": [
<<<<<<< Updated upstream
    "# count the number of evacuees that have successfully reach their destination\n",
    "def arrival_counts_vect(t, simulation, save_path):\n",
    "    arrival_cnts = np.sum(simulation.agents.agents['agent_status']==-1)\n",
    "    print('At {} seconds, {} evacuees successfully reached the destination'.format(t, arrival_cnts))\n",
    "    if arrival_cnts == simulation.agents.agents.shape[0]:\n",
    "        print(\"all agents arrive at destinations at time {} seconds.\".format(t))\n",
    "        return False\n",
    "    with open(save_path, 'a') as t_stats_outfile:\n",
    "        t_stats_outfile.write(\"{},{}\".format(t, arrival_cnts) + \"\\n\")\n",
    "    return True\n",
    "\n",
    "# write a csv file that contains the numbers of queuing and running vehicles on each link\n",
    "def write_link_outputs_vect(simulation, save_path):\n",
    "    link_output = simulation.network.links.loc[\n",
    "        simulation.network.links['link_type'].isin(['real', 'virtual']), \n",
    "        ['link_id', 'queue', 'run', 'undeparted', 'length', 'geometry']].copy()\n",
    "    link_output = link_output[\n",
    "        (link_output['queue']>0) | (link_output['run']>0)\n",
    "        | (link_output['undeparted']>0)\n",
    "    ]\n",
    "    link_output.to_csv(save_path, index=False)\n",
    "\n",
    "\n",
    "### initialize simulation\n",
    "simulation_vect = sq_vect.Simulation()\n",
    "simulation_vect.initialize_simulation(nodes_df, links_df, od_df)\n",
    "\n",
    "### specify some parameters\n",
    "scenario_name = '{}_vect'.format(case)\n",
    "t_end = 3600\n",
    "arrival_output_path = 'traffic_outputs/{}/t_stats/arrivals_{}.csv'.format(case, scenario_name)\n",
    "\n",
    "### run simulation and output results\n",
    "with open(arrival_output_path, 'w') as t_stats_outfile:\n",
    "    t_stats_outfile.write(\"t,arrival_count\"+\"\\n\")\n",
    "\n",
    "# iterate through each time step\n",
    "t_start_vect = time.time()\n",
    "for t in range(t_end):\n",
    "        \n",
    "    # run the spatial-queue simulation for one step\n",
    "    simulation_vect.run_one_step(t, reroute_frequency=None, special_nodes=special_nodes)\n",
    "\n",
    "    # output time-step results every 100 seconds\n",
    "    if t%1000 == 0:\n",
    "        if not arrival_counts_vect(t, simulation_vect, arrival_output_path):\n",
    "            break\n",
    "        link_output_path = 'traffic_outputs/{}/link_stats/l{}_at_{}.csv'.format(case, scenario_name, t)\n",
    "        #node_output_path = 'traffic_outputs/berkeley/node_stats/n{}_at_{}.csv'.format(scenario_name, t)\n",
    "        write_link_outputs_vect(simulation_vect, link_output_path)\n",
    "        #write_node_outputs(simulation_vect, node_output_path)\n",
    "        print(t, time.time())\n",
    "\n",
    "print(t, time.time())\n",
    "print (\"simulation completed\")\n",
    "t_end_vect = time.time()\n",
    "print('Simulation took {}s'.format(t_end_vect - t_start_vect))\n",
    "    "
=======
    "link_nid_dict = simulation_vect.network.link_nid_dict\n",
    "keys = link_nid_dict.keys()\n",
    "print(link_nid_dict[(193404,206352)])\n",
    "t = 0\n",
    "for (i,j) in link_nid_dict.keys():\n",
    "    if (i == 193404) & (j == 206352):\n",
    "        print(link_nid_dict[(i,j)])"
>>>>>>> Stashed changes
   ]
  },
  {
   "cell_type": "code",
   "execution_count": 7,
   "metadata": {},
   "outputs": [],
   "source": [
    "agent_routes = simulation_vect.agents.agent_routes\n",
    "agent_routes_new = {}\n",
    "for agent_id in agent_routes.keys():\n",
    "    routes = []\n",
    "    for (i, j) in agent_routes[agent_id].items():\n",
    "        routes.append(link_nid_dict[(i,j)])\n",
    "    agent_routes_new[agent_id] = routes"
   ]
  },
  {
   "cell_type": "code",
<<<<<<< Updated upstream
   "execution_count": 11,
=======
   "execution_count": 14,
>>>>>>> Stashed changes
   "metadata": {},
   "outputs": [],
   "source": [
    "agent_observed_1 = []\n",
    "for agent_id in agent_routes_new.keys():\n",
    "\n",
    "    if 281398 in agent_routes_new[agent_id]:\n",
    "        if 323803 in agent_routes_new[agent_id]:\n",
    "            agent_observed_1.append(agent_id)\n",
    "    else:\n",
    "        continue;"
   ]
  },
  {
   "cell_type": "code",
   "execution_count": 20,
   "metadata": {},
   "outputs": [
    {
     "name": "stdout",
     "output_type": "stream",
     "text": [
      "35\n",
      "[2995, 3296, 5688, 5727, 8583, 9902, 12256, 13815, 15008, 21347, 26429, 26667, 27311, 34699, 34767, 39495, 41233, 43372, 52715, 54202, 55144, 55425, 65337, 66564, 75707, 80098, 83590, 88484, 90120, 93663, 93668, 99218, 110190, 111494, 111760]\n"
     ]
    }
   ],
   "source": [
    "print(len(agent_observed_1))\n",
    "print(agent_observed_1)\n",
    "#print(agent_routes_new[agent_observed_1[1]])"
   ]
  },
  {
   "cell_type": "code",
   "execution_count": 21,
   "metadata": {},
   "outputs": [
    {
     "name": "stdout",
     "output_type": "stream",
     "text": [
      "28\n",
      "[1824, 8528, 10288, 10592, 11573, 13196, 15032, 32063, 36189, 37139, 39609, 55653, 59968, 62155, 63290, 70854, 71010, 73664, 74544, 77393, 82533, 90636, 94481, 96232, 96517, 99619, 103198, 109305]\n"
     ]
    }
   ],
   "source": [
    "agent_observed_2 = []\n",
    "for agent_id in agent_routes_new.keys():\n",
    "\n",
    "    if 323900 in agent_routes_new[agent_id]:\n",
    "        if 285161 in agent_routes_new[agent_id]:\n",
    "            agent_observed_2.append(agent_id)\n",
    "    else:\n",
    "        continue;\n",
    "print(len(agent_observed_2))\n",
    "print(agent_observed_2)"
   ]
  },
  {
   "cell_type": "code",
   "execution_count": 24,
   "metadata": {},
   "outputs": [
    {
     "name": "stdout",
     "output_type": "stream",
     "text": [
      "10\n",
      "[3927, 7000, 10714, 29667, 36924, 48872, 64480, 70709, 99018, 105213]\n"
     ]
    }
   ],
   "source": [
    "agent_observed_3 = []\n",
    "for agent_id in agent_routes_new.keys():\n",
    "\n",
    "    if 323892 in agent_routes_new[agent_id]:\n",
    "        if 323897 in agent_routes_new[agent_id]:\n",
    "            if 285161 in agent_routes_new[agent_id]:\n",
    "                agent_observed_3.append(agent_id)\n",
    "    else:\n",
    "        continue;\n",
    "print(len(agent_observed_3))\n",
    "print(agent_observed_3)"
   ]
  },
  {
   "cell_type": "code",
   "execution_count": 25,
   "metadata": {},
   "outputs": [
    {
     "name": "stdout",
     "output_type": "stream",
     "text": [
      "2\n",
      "[6906, 80449]\n"
     ]
    }
   ],
   "source": [
    "agent_observed_4 = []\n",
    "for agent_id in agent_routes_new.keys():\n",
    "\n",
    "    if 285161 in agent_routes_new[agent_id]:\n",
    "        if 324489 in agent_routes_new[agent_id]:\n",
    "            agent_observed_4.append(agent_id)\n",
    "    else:\n",
    "        continue;\n",
    "print(len(agent_observed_4))\n",
    "print(agent_observed_4)"
   ]
  },
  {
   "cell_type": "code",
   "execution_count": 26,
   "metadata": {},
   "outputs": [
    {
     "name": "stdout",
     "output_type": "stream",
     "text": [
      "31\n",
      "[2106, 27469, 27917, 35047, 38950, 39223, 47694, 48541, 51323, 59125, 62521, 64143, 64893, 68720, 72582, 77628, 77776, 77809, 80090, 82836, 84057, 86733, 87825, 90254, 91750, 92158, 95533, 96523, 97326, 102642, 109317]\n"
     ]
    }
   ],
   "source": [
    "agent_observed_5 = []\n",
    "for agent_id in agent_routes_new.keys():\n",
    "\n",
    "    if 91169 in agent_routes_new[agent_id]:\n",
    "        if 297982 in agent_routes_new[agent_id]:\n",
    "            agent_observed_5.append(agent_id)\n",
    "    else:\n",
    "        continue;\n",
    "print(len(agent_observed_5))\n",
    "print(agent_observed_5)"
   ]
  },
  {
   "cell_type": "code",
   "execution_count": 27,
   "metadata": {},
   "outputs": [
    {
     "name": "stdout",
     "output_type": "stream",
     "text": [
      "1\n",
      "[44804]\n"
     ]
    }
   ],
   "source": [
    "agent_observed_6 = []\n",
    "for agent_id in agent_routes_new.keys():\n",
    "\n",
<<<<<<< Updated upstream
    "# count the number of evacuees that have successfully reach their destination\n",
    "def arrival_counts(t,simulation,save_path):\n",
    "    arrival_cnts = np.sum([1 for a in simulation.all_agents.values() if a.status=='arr'])\n",
    "    print('At {} seconds, {} evacuees successfully reached the destination, {}'.format(t, arrival_cnts, time.time()))\n",
    "    if arrival_cnts == len(simulation.all_agents):\n",
    "        print(\"all agents arrive at destinations at time {} seconds.\".format(t))\n",
    "        return False\n",
    "    with open(save_path, 'a') as t_stats_outfile:\n",
    "        t_stats_outfile.write(\"{},{}\".format(t, arrival_cnts) + \"\\n\")\n",
    "    return True\n",
=======
    "    if 248566 in agent_routes_new[agent_id]:\n",
    "        if 91169 in agent_routes_new[agent_id]:\n",
    "            agent_observed_6.append(agent_id)\n",
    "    else:\n",
    "        continue;\n",
    "print(len(agent_observed_6))\n",
    "print(agent_observed_6)"
   ]
  },
  {
   "cell_type": "code",
   "execution_count": 28,
   "metadata": {},
   "outputs": [
    {
     "name": "stdout",
     "output_type": "stream",
     "text": [
      "5\n",
      "[10725, 41238, 68710, 78304, 98307]\n"
     ]
    }
   ],
   "source": [
    "agent_observed_7 = []\n",
    "for agent_id in agent_routes_new.keys():\n",
>>>>>>> Stashed changes
    "\n",
    "    if 323957 in agent_routes_new[agent_id]:\n",
    "        if 259105 in agent_routes_new[agent_id]:\n",
    "            agent_observed_7.append(agent_id)\n",
    "    else:\n",
    "        continue;\n",
    "print(len(agent_observed_7))\n",
    "print(agent_observed_7)"
   ]
  },
  {
   "cell_type": "code",
   "execution_count": 29,
   "metadata": {},
   "outputs": [
    {
     "name": "stdout",
     "output_type": "stream",
     "text": [
      "13\n",
      "[6854, 25682, 29025, 37421, 38503, 38839, 49670, 54973, 59792, 65705, 99571, 104206, 111572]\n"
     ]
    }
   ],
   "source": [
    "agent_observed_8 = []\n",
    "for agent_id in agent_routes_new.keys():\n",
    "\n",
    "    if 248650 in agent_routes_new[agent_id]:\n",
    "        if 323859 in agent_routes_new[agent_id]:\n",
    "            agent_observed_8.append(agent_id)\n",
    "    else:\n",
    "        continue;\n",
    "print(len(agent_observed_8))\n",
    "print(agent_observed_8)"
   ]
  },
  {
   "cell_type": "code",
   "execution_count": 30,
   "metadata": {},
   "outputs": [
    {
     "name": "stdout",
     "output_type": "stream",
     "text": [
      "1\n",
      "[49104]\n"
     ]
    }
   ],
   "source": [
    "agent_observed_9 = []\n",
    "for agent_id in agent_routes_new.keys():\n",
    "\n",
    "    if 323842 in agent_routes_new[agent_id]:\n",
    "        if 247581 in agent_routes_new[agent_id]:\n",
    "            agent_observed_9.append(agent_id)\n",
    "    else:\n",
    "        continue;\n",
    "print(len(agent_observed_9))\n",
    "print(agent_observed_9)"
   ]
  },
  {
   "cell_type": "code",
   "execution_count": 45,
   "metadata": {},
   "outputs": [
    {
     "name": "stdout",
     "output_type": "stream",
     "text": [
      "8\n",
      "[18976, 23568, 51202, 52333, 60227, 66540, 93007, 108154]\n",
      "[159060, 180900, 227465, 251123, 262538, 262539, 17921, 17923, 257961, 257946, 22120, 30581, 22095, 22101, 30634, 18351, 133406, 133398, 257920, 250983, 202112, 302564, 263094, 136061, 136206, 271304, 315708, 257603, 263360, 252404, 260969, 426601, 251316, 2456, 2402, 251311, 250527, 250524, 259737, 334969, 91465, 91534, 249456, 269099, 261073, 334959, 259100, 259103, 259105, 248650, 247581, 309240, 323804]\n"
     ]
    }
   ],
   "source": [
    "agent_observed_10 = []\n",
    "for agent_id in agent_routes_new.keys():\n",
    "\n",
    "    if 309240 in agent_routes_new[agent_id]:\n",
    "        if 323804 in agent_routes_new[agent_id]:\n",
    "            agent_observed_10.append(agent_id)\n",
    "    else:\n",
    "        continue;\n",
    "print(len(agent_observed_10))\n",
    "print(agent_observed_10)\n",
    "print(agent_routes_new[agent_observed_10[0]])"
   ]
  },
  {
   "cell_type": "code",
   "execution_count": 44,
   "metadata": {},
   "outputs": [
    {
     "name": "stdout",
     "output_type": "stream",
     "text": [
      "7\n",
      "[21804, 29107, 34962, 37894, 76405, 84810, 111913]\n",
      "[323400, 264827, 176301, 301392, 304233, 452250, 324593, 298383, 326766, 272118, 322518, 291147, 291146, 304049, 323776, 291174, 323806, 201619, 323803, 268800]\n"
     ]
    }
   ],
   "source": [
    "agent_observed_11 = []\n",
    "for agent_id in agent_routes_new.keys():\n",
    "\n",
    "    if 323803 in agent_routes_new[agent_id]:\n",
    "        if 268800 in agent_routes_new[agent_id]:\n",
    "            agent_observed_11.append(agent_id)\n",
    "    else:\n",
    "        continue;\n",
    "print(len(agent_observed_11))\n",
    "print(agent_observed_11)\n",
    "print(agent_routes_new[agent_observed_11[0]])"
   ]
  },
  {
   "cell_type": "code",
   "execution_count": 43,
   "metadata": {},
   "outputs": [
    {
     "name": "stdout",
     "output_type": "stream",
     "text": [
      "54\n",
      "[326, 7181, 8376, 10751, 11300, 12046, 17851, 18308, 18545, 22402, 24984, 25057, 25353, 25914, 30860, 31197, 33607, 36538, 37517, 39237, 41041, 41623, 43883, 43886, 47058, 48527, 50178, 52705, 56062, 59204, 60028, 61780, 62467, 68579, 69475, 72387, 79909, 81515, 81604, 81809, 82292, 89132, 90856, 91417, 92168, 94992, 96123, 96500, 97534, 99710, 101382, 103332, 107515, 108095]\n",
      "[275881, 298540, 269586, 320080, 320084, 318687, 305908, 305900, 306049, 306047, 291795, 54519, 291784, 291774, 287703, 291767, 291766, 291761, 283261, 291757, 291755, 291748, 271892, 291746, 248037, 107291, 7872, 399960, 48855, 252309, 399767]\n"
     ]
    }
   ],
   "source": [
    "agent_observed_12 = []\n",
    "for agent_id in agent_routes_new.keys():\n",
    "\n",
    "    if 48855 in agent_routes_new[agent_id]:\n",
    "        if 252309 in agent_routes_new[agent_id]:\n",
    "            if 399767 in agent_routes_new[agent_id]:\n",
    "                if 399960 in agent_routes_new[agent_id]:\n",
    "                    agent_observed_12.append(agent_id)\n",
    "    else:\n",
    "        continue;\n",
    "print(len(agent_observed_12))\n",
    "print(agent_observed_12)\n",
    "print(agent_routes_new[agent_observed_12[0]])"
   ]
  },
  {
   "cell_type": "code",
   "execution_count": 42,
   "metadata": {},
   "outputs": [
    {
     "name": "stdout",
     "output_type": "stream",
     "text": [
      "13\n",
      "[568, 2539, 18819, 28034, 32501, 38322, 59357, 77148, 77467, 85369, 88634, 97610, 101964]\n",
      "[275418, 330290, 318319, 325011, 309050, 287489, 311128, 311130, 307070, 294656, 311148, 114601, 292214, 281803, 296634, 153083, 105186, 105195, 309367, 311233, 309779, 311236, 307112, 277252, 311241, 291051, 299034, 308657, 124481, 279511, 305599, 118812, 286528, 476111, 118863, 286537, 462589, 418924, 239999, 239944, 239915, 240002, 369471, 301087, 292715, 370300, 284806, 118940, 284821, 284417, 256663, 263795, 263793, 247524, 303535, 284579, 303661, 334951, 307725, 252554, 252542, 164867, 247582, 307834, 426754, 426755, 426729, 91490, 91516, 426731, 426728, 164881, 250296, 2616, 2344, 136250, 108638, 263359, 2319, 359756, 252330, 48855, 252309, 399767]\n"
     ]
    }
   ],
   "source": [
    "agent_observed_13 = []\n",
    "for agent_id in agent_routes_new.keys():\n",
    "\n",
    "    if 48855 in agent_routes_new[agent_id]:\n",
    "        if 252309 in agent_routes_new[agent_id]:\n",
    "            if 399767 in agent_routes_new[agent_id]:\n",
    "                if 252330 in agent_routes_new[agent_id]:\n",
    "                    agent_observed_13.append(agent_id)\n",
    "    else:\n",
    "        continue;\n",
    "print(len(agent_observed_13))\n",
    "print(agent_observed_13)\n",
    "print(agent_routes_new[agent_observed_13[3]])"
   ]
  },
  {
   "cell_type": "code",
<<<<<<< Updated upstream
   "execution_count": 12,
=======
   "execution_count": 54,
>>>>>>> Stashed changes
   "metadata": {},
   "outputs": [
    {
     "name": "stdout",
     "output_type": "stream",
     "text": [
<<<<<<< Updated upstream
      "# o-d pairs whose paths cannot be found: 12927\n",
      "# o-d pairs/trips 103233\n",
      "At 0 seconds, 0.0 evacuees successfully reached the destination, 1645826853.071358\n",
      "At 100 seconds, 28 evacuees successfully reached the destination, 1645827046.006558\n",
      "At 200 seconds, 112 evacuees successfully reached the destination, 1645827241.78203\n",
      "At 300 seconds, 256 evacuees successfully reached the destination, 1645827430.369696\n",
      "At 400 seconds, 449 evacuees successfully reached the destination, 1645827609.248009\n",
      "At 500 seconds, 697 evacuees successfully reached the destination, 1645827785.222172\n",
      "At 600 seconds, 1003 evacuees successfully reached the destination, 1645827950.138737\n",
      "At 700 seconds, 1338 evacuees successfully reached the destination, 1645828116.3957162\n",
      "At 800 seconds, 1764 evacuees successfully reached the destination, 1645828286.98115\n",
      "At 900 seconds, 2182 evacuees successfully reached the destination, 1645828464.74982\n",
      "At 1000 seconds, 2630 evacuees successfully reached the destination, 1645828638.6816661\n",
      "At 1100 seconds, 3086 evacuees successfully reached the destination, 1645828810.453879\n",
      "At 1200 seconds, 3602 evacuees successfully reached the destination, 1645828979.488479\n",
      "At 1300 seconds, 4122 evacuees successfully reached the destination, 1645829148.820551\n",
      "At 1400 seconds, 4676 evacuees successfully reached the destination, 1645829320.6414652\n",
      "simulation completed\n",
      "Simulation took 2477.3282177448273s\n"
=======
      "70\n",
      "[10204, 12507, 14554, 15311, 17335, 17597, 18248, 19534, 21864, 25256, 25327, 25639, 29053, 30215, 30536, 31112, 33177, 33899, 35381, 35531, 36715, 37489, 38015, 38033, 42662, 42970, 43942, 47521, 47889, 51456, 52569, 53186, 53735, 54541, 55617, 56653, 57876, 59101, 60398, 60775, 61076, 64071, 65003, 67763, 69761, 70995, 72625, 77376, 78532, 79261, 79527, 82173, 83372, 87520, 89050, 89860, 90897, 94927, 96775, 98491, 99752, 101321, 103218, 106081, 106568, 107701, 109731, 109833, 110175, 111660]\n",
      "[263921, 291741, 273032, 273042, 248037, 107291, 7872, 399960, 48855, 252311, 429302, 399901, 451827, 399680, 250977, 202588, 22043, 22013, 21998, 261124, 261132, 30758, 22063, 21965, 131226, 131227, 22121, 227343, 172941, 241401, 330460, 166394, 166398, 166403, 216478, 208398, 233729, 216669, 216441, 159632, 325281, 188850, 188858, 188865, 188862, 256234, 261216]\n"
>>>>>>> Stashed changes
     ]
    }
   ],
   "source": [
    "agent_observed_14 = []\n",
    "for agent_id in agent_routes_new.keys():\n",
    "\n",
    "    if 291741 in agent_routes_new[agent_id]:\n",
    "        if 273032 in agent_routes_new[agent_id]:\n",
    "            if 273042 in agent_routes_new[agent_id]:\n",
    "                agent_observed_14.append(agent_id)\n",
    "    else:\n",
    "        continue;\n",
    "print(len(agent_observed_14))\n",
    "print(agent_observed_14)\n",
    "print(agent_routes_new[agent_observed_14[0]])"
   ]
  },
  {
   "cell_type": "code",
   "execution_count": 47,
   "metadata": {},
   "outputs": [],
   "source": []
  },
  {
   "cell_type": "code",
   "execution_count": 56,
   "metadata": {},
   "outputs": [
    {
     "name": "stdout",
     "output_type": "stream",
     "text": [
      "5\n",
      "[33247, 52137, 56461, 62730, 91483]\n",
      "[294602, 242894, 273899, 242889, 112723, 343070, 343069, 58847, 58865, 253144, 41973, 426972, 260563, 260354, 426957, 40725, 40690, 426935, 107291, 7871, 164888, 13288, 263803, 429298, 426617, 426601, 251316, 2456, 2402, 251311, 250527, 250524, 259737, 334969, 91465, 91534, 249456, 269099, 261073, 334959, 259100, 259102, 248575, 248574, 247590, 301427, 251665, 248025, 307772, 251663, 164866, 303618, 251729, 437055, 247093, 179622, 247060, 256670, 167669]\n"
     ]
    }
   ],
   "source": [
    "agent_observed_15 = []\n",
    "for agent_id in agent_routes_new.keys():\n",
    "\n",
    "    if 294602 in agent_routes_new[agent_id]:\n",
    "        if 242894 in agent_routes_new[agent_id]:\n",
    "            agent_observed_15.append(agent_id)\n",
    "    else:\n",
    "        continue;\n",
    "print(len(agent_observed_15))\n",
    "print(agent_observed_15)\n",
    "print(agent_routes_new[agent_observed_15[0]])"
   ]
  },
  {
   "cell_type": "code",
   "execution_count": 58,
   "metadata": {},
   "outputs": [
    {
     "name": "stdout",
     "output_type": "stream",
     "text": [
      "23\n",
      "[5330, 12389, 18318, 21199, 24456, 26779, 26818, 27550, 28210, 32038, 33702, 37523, 55612, 58828, 64283, 64644, 71622, 79701, 81114, 91815, 102495, 104572, 107820]\n",
      "[36981, 104873, 210649, 307662, 307657, 307654, 307640, 74469, 104789, 253291, 197042, 199120, 284636, 253555, 197836, 253549, 261678, 427085, 427077, 427070, 61464, 61452, 164911, 61326, 7882, 427002, 252698, 252676, 426966, 426968, 426958, 164898, 249491, 38393, 249492, 242873, 295320, 112723]\n"
     ]
    }
   ],
   "source": [
    "agent_observed_16 = []\n",
    "for agent_id in agent_routes_new.keys():\n",
    "\n",
    "    if 164898 in agent_routes_new[agent_id]:\n",
    "        if 295320 in agent_routes_new[agent_id]:\n",
    "            agent_observed_16.append(agent_id)\n",
    "    else:\n",
    "        continue;\n",
    "print(len(agent_observed_16))\n",
    "print(agent_observed_16)\n",
    "print(agent_routes_new[agent_observed_16[0]])"
   ]
  },
  {
   "cell_type": "code",
   "execution_count": 61,
   "metadata": {},
   "outputs": [
    {
     "data": {
      "text/plain": [
<<<<<<< Updated upstream
       "<model.queue_class_ce170.Simulation at 0x7fdd71817d30>"
      ]
     },
     "execution_count": 12,
=======
       "306"
      ]
     },
     "execution_count": 61,
>>>>>>> Stashed changes
     "metadata": {},
     "output_type": "execute_result"
    }
   ],
   "source": [
<<<<<<< Updated upstream
    "simulation = init_sq_simulation(nodes_df,links_df,od_df)\n",
    "spatial_queue_simulation(1401, simulation, '{}_loop'.format(case), 36000)"
   ]
  },
  {
   "cell_type": "markdown",
   "metadata": {},
   "source": [
    "### Unvectorized but separate the classes"
   ]
  },
  {
   "cell_type": "code",
   "execution_count": 4,
   "metadata": {},
   "outputs": [],
   "source": [
    "# remove vehicles from the simulation if no path can be found for it\n",
    "def remove_no_path_agents(simulation):\n",
    "    cannot_find_path = []\n",
    "    for vehicle_id, vehicle in simulation.all_agents.items():\n",
    "        routing_status = vehicle.get_path( g=simulation.g )\n",
    "        if routing_status == 'no_path_found':\n",
    "            cannot_find_path.append(vehicle_id)\n",
    "\n",
    "    for vehicle_id in cannot_find_path:\n",
    "        del simulation.all_agents[vehicle_id]\n",
    "      \n",
    "    print('# o-d pairs whose paths cannot be found: {}'.format(len(cannot_find_path)))\n",
    "    print('# o-d pairs/trips {}'.format(len(simulation.all_agents)))\n",
    "    return simulation\n",
    "\n",
    "# initialize the spatial-queue model\n",
    "def init_sq_simulation(nodes_df, links_df, od_df):\n",
    "\n",
    "    simulation = sq_loop_separate.Simulation()\n",
    "    simulation.create_network(nodes_df, links_df)\n",
    "    simulation.create_demand(od_df)\n",
    "\n",
    "    simulation = remove_no_path_agents(simulation)\n",
    "    return simulation\n",
    "\n",
    "# run the spatial-queue simulation for one time step\n",
    "def single_step_sq_sim(simulation,t,reroute_frequency):\n",
    "    ### load agents\n",
    "    for agent_id, agent in simulation.all_agents.items(): \n",
    "        agent.load_trips(t)\n",
    "        ### reroute\n",
    "        if (t>0) and (t%reroute_frequency == 0):\n",
    "            routing_status = agent.get_path( g=simulation.g )\n",
    "    ### run link model\n",
    "    for link_id, link in simulation.all_links.items():\n",
    "        simulation.all_agents = link.run_link_model(t, {'g': simulation.g, 'all_agents': simulation.all_agents})\n",
    "    ### run node model\n",
    "    node_ids_to_run = set([link.end_nid for link in simulation.all_links.values() if len(link.queue_veh)>0])\n",
    "    for node_id in node_ids_to_run:\n",
    "        node = simulation.all_nodes[node_id] \n",
    "        node.run_node_model(t)\n",
    "    return simulation\n",
    "\n",
    "# count the number of evacuees that have successfully reach their destination\n",
    "def arrival_counts(t,simulation,save_path):\n",
    "    arrival_cnts = np.sum([1 for a in simulation.all_agents.values() if a.status=='arr'])\n",
    "    print('At {} seconds, {} evacuees successfully reached the destination'.format(t, arrival_cnts))\n",
    "    if arrival_cnts == len(simulation.all_agents):\n",
    "        print(\"all agents arrive at destinations at time {} seconds.\".format(t))\n",
    "        return False\n",
    "    with open(save_path, 'a') as t_stats_outfile:\n",
    "        t_stats_outfile.write(\"{},{}\".format(t, arrival_cnts) + \"\\n\")\n",
    "    return True\n",
    "\n",
    "# write a csv file that contains the numbers of queuing and running vehicles on each link\n",
    "def write_link_outputs(simulation,save_path):\n",
    "    link_output = pd.DataFrame(\n",
    "        [(link.lid, len(link.queue_veh), len(link.run_veh), \n",
    "          np.round((len(link.queue_veh)+len(link.run_veh))/(link.length * link.lanes+0.00001)*100, 2), \n",
    "          link.geometry) for link in simulation.all_links.values() \n",
    "         #if link.ltype[0:2]!='vl'\n",
    "        ], \n",
    "        columns=['link_id', 'queue_vehicle_count', 'run_vehicle_count', 'vehicle_per_100m', 'geometry'])\n",
    "    link_output = link_output[(link_output['queue_vehicle_count']>0) | (link_output['run_vehicle_count']>0)].reset_index(drop=True)\n",
    "    link_output.to_csv(save_path, index=False)\n",
    "\n",
    "# write a csv file that contains the numbers of vehicles that have not departed and waiting at each node\n",
    "def write_node_outputs(simulation,save_path):\n",
    "    node_predepart = pd.DataFrame([(agent.cle, 1) for agent in simulation.all_agents.values() if (agent.status in [None, 'loaded'])], columns=['node_id', 'predepart_cnt']).groupby('node_id').agg({'predepart_cnt': np.sum}).reset_index()\n",
    "    if node_predepart.shape[0]>0:\n",
    "        node_predepart = node_predepart.merge(nodes_df[['node_id', 'lat', 'lon']], how='left', on='node_id')\n",
    "        node_predepart.to_csv(save_path, index=False)\n",
    "\n",
    "def spatial_queue_simulation(t_end,simulation,scenario_name,reroute_frequency):\n",
    "    # paths \n",
    "    arrival_output_path = 'traffic_outputs/{}/t_stats/arrivals_{}.csv'.format(case, scenario_name)\n",
    "    with open(arrival_output_path, 'w') as t_stats_outfile:\n",
    "        t_stats_outfile.write(\"t,arrival_count\"+\"\\n\")\n",
    "\n",
    "    t_start_loop = time.time()\n",
    "    # iterate through each time step\n",
    "    for t in range(t_end):\n",
    "\n",
    "        # run the spatial-queue simulation for one step\n",
    "        simulation = single_step_sq_sim(simulation,t,reroute_frequency)\n",
    "\n",
    "        # output time-step results every 100 seconds\n",
    "        if t%100 == 0:\n",
    "            if not arrival_counts(t,simulation,arrival_output_path):\n",
    "                break\n",
    "            link_output_path = 'traffic_outputs/{}/link_stats/l{}_at_{}.csv'.format(case, scenario_name, t)\n",
    "            node_output_path = 'traffic_outputs/{}/node_stats/n{}_at_{}.csv'.format(case, scenario_name, t)\n",
    "            write_link_outputs(simulation,link_output_path)\n",
    "            write_node_outputs(simulation,node_output_path)\n",
    "\n",
    "    print (\"simulation completed\")\n",
    "    t_end_loop = time.time()\n",
    "    print(\"Simulation took {}s\".format(t_end_loop-t_start_loop))\n",
    "    return simulation"
   ]
  },
  {
   "cell_type": "code",
   "execution_count": 5,
   "metadata": {},
   "outputs": [
    {
     "name": "stdout",
     "output_type": "stream",
     "text": [
      "# o-d pairs whose paths cannot be found: 0\n",
      "# o-d pairs/trips 3947\n"
     ]
    }
   ],
   "source": [
    "simulation = init_sq_simulation(nodes_df,links_df,od_df)\n",
    "spatial_queue_simulation(1, simulation, '{}_loop_separate'.format(case), 36000)\n",
    "#%lprun -f spatial_queue_simulation(1, simulation, '{}_loop'.format(case), 36000)"
=======
    "agent_observed = agent_observed_1 + agent_observed_2 + agent_observed_3 + agent_observed_4 + agent_observed_5 + agent_observed_6 + agent_observed_7 + agent_observed_8 +agent_observed_9 +agent_observed_10 + agent_observed_11 + agent_observed_12 +agent_observed_13 + agent_observed_14 + agent_observed_15 + agent_observed_16\n",
    "agent_observed = np.unique(np.array(agent_observed))\n",
    "len(agent_observed)"
>>>>>>> Stashed changes
   ]
  },
  {
   "cell_type": "code",
   "execution_count": 65,
   "metadata": {},
   "outputs": [],
   "source": [
    "od_df1 = od_df.loc[~od_df['agent_id'].isin(agent_observed), :]\n",
    "od_df1.to_csv('traffic_inputs/ods_background_edited_delete.csv', header = True, index = False)"
   ]
  },
  {
   "cell_type": "code",
<<<<<<< Updated upstream
   "execution_count": 6,
=======
   "execution_count": 70,
   "metadata": {},
   "outputs": [
    {
     "name": "stdout",
     "output_type": "stream",
     "text": [
      "13\n",
      "[17739, 18289, 54429, 66420, 74197, 76381, 80093, 83317, 88907, 90308, 91174, 96221, 108739]\n",
      "[256669, 256668, 251817, 256664, 256663, 263795, 263793, 247524, 303535, 284579, 303661, 334951, 307725, 252554, 252542, 164867, 247582, 307834]\n"
     ]
    }
   ],
   "source": [
    "agent_observed_17 = []\n",
    "for agent_id in agent_routes_new.keys():\n",
    "\n",
    "    if 256668 in agent_routes_new[agent_id]:\n",
    "        if 251817 in agent_routes_new[agent_id]:\n",
    "            if 263795 in agent_routes_new[agent_id]:\n",
    "                if 256669 in agent_routes_new[agent_id]:\n",
    "                    agent_observed_17.append(agent_id)\n",
    "    else:\n",
    "        continue;\n",
    "print(len(agent_observed_17))\n",
    "print(agent_observed_17)\n",
    "print(agent_routes_new[agent_observed_17[0]])"
   ]
  },
  {
   "cell_type": "code",
   "execution_count": 83,
   "metadata": {},
   "outputs": [
    {
     "name": "stdout",
     "output_type": "stream",
     "text": [
      "53\n",
      "[1943, 4321, 11092, 12913, 14452, 17273, 18459, 20703, 23006, 23591, 27299, 28342, 32356, 32815, 34512, 34781, 37307, 39264, 41426, 42521, 42726, 43998, 44422, 45330, 50431, 53743, 57813, 57907, 58019, 59065, 62597, 64206, 64668, 68223, 71291, 71954, 74948, 75511, 77920, 77951, 80327, 81146, 81437, 81614, 83503, 84341, 89704, 91898, 97325, 100360, 108223, 111029, 111088]\n",
      "[1943, 4321, 10637, 11092, 12913, 14452, 17273, 18459, 20703, 23006, 23441, 23591, 27151, 27299, 28342, 32356, 32815, 34512, 34781, 37307, 39264, 41426, 42521, 42726, 43668, 43998, 44422, 44578, 45330, 50431, 53743, 57813, 57907, 58019, 59065, 62597, 64206, 64668, 67278, 68223, 71291, 71954, 74948, 75511, 77294, 77920, 77951, 80327, 81146, 81437, 81614, 81851, 83503, 84341, 89704, 91898, 92856, 96522, 97325, 98295, 100360, 107569, 108223, 111029, 111088]\n",
      "[169285, 198992, 412169, 451790, 255715, 383455, 306056, 350174, 306053, 305900, 306049, 306048, 265877, 293313, 287706, 304019, 306042, 306039, 283265, 289383, 274973, 296650, 296652, 293707, 293703, 262198, 253107, 253113, 296703, 258529, 258530, 252103, 252178, 252182, 261532, 261546, 253283, 60356, 60426, 252865, 261399, 263451, 252672, 252705, 335080, 335084, 335098, 261121, 255073, 335107, 335109, 320257, 253211, 253204, 261674, 212334, 212571, 394699, 212603, 212608, 212616, 168855, 212630, 278126, 45122]\n"
     ]
    }
   ],
   "source": [
    "agent_observed_18 = []\n",
    "agent_observed_19 = []\n",
    "for agent_id in agent_routes_new.keys():\n",
    "\n",
    "    \n",
    "    if 169285 in agent_routes_new[agent_id]:\n",
    "        if 198992 in agent_routes_new[agent_id]:\n",
    "            agent_observed_19.append(agent_id)\n",
    "            if 312017 in agent_routes_new[agent_id]:\n",
    "                agent_observed_18.append(agent_id)\n",
    "    else:\n",
    "        continue;\n",
    "print(len(agent_observed_18))\n",
    "print(agent_observed_18)\n",
    "print(agent_observed_19)\n",
    "print(agent_routes_new[10637])"
   ]
  },
  {
   "cell_type": "code",
   "execution_count": 91,
   "metadata": {},
   "outputs": [
    {
     "name": "stdout",
     "output_type": "stream",
     "text": [
      "53\n",
      "[2570, 2572, 3844, 6384, 8973, 10311, 14825, 17631, 18680, 18740, 19889, 22128, 22653, 23960, 25583, 28489, 29757, 29822, 31397, 35545, 37713, 39773, 39858, 46297, 46667, 46685, 50007, 50395, 51092, 51742, 52388, 55807, 56683, 57307, 59937, 65363, 68248, 71035, 71120, 72845, 75983, 79218, 79389, 85953, 86694, 90451, 93852, 96759, 101513, 101652, 101741, 101837, 110886]\n",
      "[306176, 289057, 118571, 264543, 136682, 308880, 306274, 299301, 276888, 314486, 300230, 314491, 313094, 276874, 314492, 236851, 236085, 314502, 506987, 97952, 97902, 97890, 265345, 289024, 263519, 136280, 263359, 2319, 359756, 252330, 48855, 252309, 399766, 303908, 303914, 303917, 303163, 300787]\n"
     ]
    }
   ],
   "source": [
    "agent_observed_20 = []\n",
    "\n",
    "for agent_id in agent_routes_new.keys():\n",
    "\n",
    "    \n",
    "    if 136682 in agent_routes_new[agent_id]:\n",
    "        if 308880 in agent_routes_new[agent_id]:\n",
    "            agent_observed_20.append(agent_id)\n",
    "    else:\n",
    "        continue;\n",
    "print(len(agent_observed_20))\n",
    "print(agent_observed_20)\n",
    "print(agent_routes_new[agent_observed_20[4]])"
   ]
  },
  {
   "cell_type": "code",
   "execution_count": 124,
   "metadata": {},
   "outputs": [
    {
     "name": "stdout",
     "output_type": "stream",
     "text": [
      "7\n",
      "[21804, 29107, 34962, 37894, 76405, 84810, 111913]\n",
      "[294815, 310230, 311587, 311582, 335725, 337048, 179408, 265469, 333406, 333402, 201624, 323806, 201619, 323803, 268800]\n"
     ]
    }
   ],
   "source": [
    "agent_observed_20 = []\n",
    "agent_observed_21 = []\n",
    "\n",
    "for agent_id in agent_routes_new.keys():\n",
    "\n",
    "    \n",
    "    if 323803 in agent_routes_new[agent_id]:\n",
    "        if 268800 in agent_routes_new[agent_id]:\n",
    "            agent_observed_20.append(agent_id)\n",
    "            #if 281399 in agent_routes_new[agent_id]:\n",
    "            #   agent_observed_21.append(agent_id)\n",
    "    else:\n",
    "        continue;\n",
    "print(len(agent_observed_20))\n",
    "print(agent_observed_20)\n",
    "#print(len(agent_observed_21))\n",
    "print(agent_routes_new[111913])"
   ]
  },
  {
   "cell_type": "code",
   "execution_count": 223,
   "metadata": {},
   "outputs": [],
   "source": [
    "path = '/Users/apple/Downloads/fairfax_vect_at_62000_bg_1_agent_real_departure_time_pure_bg_with_38126_112106_evacuated.csv'\n",
    "agent_data = pd.read_csv(path)\n",
    "#agent_data.head(1)\n",
    "agent_data['current_link'] = agent_data['current_link'].apply(lambda x: int(eval(x)) if x[0] != 'v' else -2)"
   ]
  },
  {
   "cell_type": "code",
   "execution_count": 235,
>>>>>>> Stashed changes
   "metadata": {},
   "outputs": [
    {
     "data": {
      "text/html": [
       "<div>\n",
       "<style scoped>\n",
       "    .dataframe tbody tr th:only-of-type {\n",
       "        vertical-align: middle;\n",
       "    }\n",
       "\n",
       "    .dataframe tbody tr th {\n",
       "        vertical-align: top;\n",
       "    }\n",
       "\n",
       "    .dataframe thead th {\n",
       "        text-align: right;\n",
       "    }\n",
       "</style>\n",
       "<table border=\"1\" class=\"dataframe\">\n",
       "  <thead>\n",
       "    <tr style=\"text-align: right;\">\n",
       "      <th></th>\n",
<<<<<<< Updated upstream
       "      <th>t</th>\n",
       "      <th>arrival_count</th>\n",
=======
       "      <th>agent_id</th>\n",
       "      <th>current_link</th>\n",
       "      <th>next_link</th>\n",
       "      <th>current_link_enter_time</th>\n",
       "      <th>agent_status</th>\n",
       "      <th>origin_nid</th>\n",
       "      <th>destin_nid</th>\n",
       "      <th>current_link_storage_remain</th>\n",
       "      <th>next_link_storage_remain</th>\n",
>>>>>>> Stashed changes
       "    </tr>\n",
       "  </thead>\n",
       "  <tbody>\n",
       "    <tr>\n",
<<<<<<< Updated upstream
       "      <th>10</th>\n",
       "      <td>1000</td>\n",
       "      <td>1637.0</td>\n",
       "    </tr>\n",
       "    <tr>\n",
       "      <th>11</th>\n",
       "      <td>1100</td>\n",
       "      <td>1789.0</td>\n",
       "    </tr>\n",
       "    <tr>\n",
       "      <th>12</th>\n",
       "      <td>1200</td>\n",
       "      <td>1929.0</td>\n",
       "    </tr>\n",
       "    <tr>\n",
       "      <th>13</th>\n",
       "      <td>1300</td>\n",
       "      <td>2064.0</td>\n",
       "    </tr>\n",
       "    <tr>\n",
       "      <th>14</th>\n",
       "      <td>1400</td>\n",
       "      <td>2196.0</td>\n",
       "    </tr>\n",
       "  </tbody>\n",
       "</table>\n",
       "</div>"
      ],
      "text/plain": [
       "       t  arrival_count\n",
       "10  1000         1637.0\n",
       "11  1100         1789.0\n",
       "12  1200         1929.0\n",
       "13  1300         2064.0\n",
       "14  1400         2196.0"
      ]
     },
     "metadata": {},
     "output_type": "display_data"
    },
    {
     "data": {
      "image/png": "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\n",
=======
       "      <th>66478</th>\n",
       "      <td>100721</td>\n",
       "      <td>61464</td>\n",
       "      <td>61452.0</td>\n",
       "      <td>21430.0</td>\n",
       "      <td>2</td>\n",
       "      <td>86295</td>\n",
       "      <td>198538</td>\n",
       "      <td>-0.505</td>\n",
       "      <td>-0.548</td>\n",
       "    </tr>\n",
       "    <tr>\n",
       "      <th>4937</th>\n",
       "      <td>7431</td>\n",
       "      <td>61464</td>\n",
       "      <td>61452.0</td>\n",
       "      <td>21431.0</td>\n",
       "      <td>2</td>\n",
       "      <td>113438</td>\n",
       "      <td>115416</td>\n",
       "      <td>-0.505</td>\n",
       "      <td>-0.548</td>\n",
       "    </tr>\n",
       "    <tr>\n",
       "      <th>12317</th>\n",
       "      <td>18558</td>\n",
       "      <td>61464</td>\n",
       "      <td>61452.0</td>\n",
       "      <td>21433.0</td>\n",
       "      <td>2</td>\n",
       "      <td>150577</td>\n",
       "      <td>163143</td>\n",
       "      <td>-0.505</td>\n",
       "      <td>-0.548</td>\n",
       "    </tr>\n",
       "    <tr>\n",
       "      <th>34729</th>\n",
       "      <td>52565</td>\n",
       "      <td>61464</td>\n",
       "      <td>61452.0</td>\n",
       "      <td>21434.0</td>\n",
       "      <td>2</td>\n",
       "      <td>107371</td>\n",
       "      <td>45594</td>\n",
       "      <td>-0.505</td>\n",
       "      <td>-0.548</td>\n",
       "    </tr>\n",
       "    <tr>\n",
       "      <th>24693</th>\n",
       "      <td>37249</td>\n",
       "      <td>61464</td>\n",
       "      <td>61452.0</td>\n",
       "      <td>21436.0</td>\n",
       "      <td>2</td>\n",
       "      <td>124364</td>\n",
       "      <td>115111</td>\n",
       "      <td>-0.505</td>\n",
       "      <td>-0.548</td>\n",
       "    </tr>\n",
       "    <tr>\n",
       "      <th>...</th>\n",
       "      <td>...</td>\n",
       "      <td>...</td>\n",
       "      <td>...</td>\n",
       "      <td>...</td>\n",
       "      <td>...</td>\n",
       "      <td>...</td>\n",
       "      <td>...</td>\n",
       "      <td>...</td>\n",
       "      <td>...</td>\n",
       "    </tr>\n",
       "    <tr>\n",
       "      <th>60719</th>\n",
       "      <td>91948</td>\n",
       "      <td>61464</td>\n",
       "      <td>61452.0</td>\n",
       "      <td>22907.0</td>\n",
       "      <td>2</td>\n",
       "      <td>164092</td>\n",
       "      <td>99637</td>\n",
       "      <td>-0.505</td>\n",
       "      <td>-0.548</td>\n",
       "    </tr>\n",
       "    <tr>\n",
       "      <th>66537</th>\n",
       "      <td>100806</td>\n",
       "      <td>61464</td>\n",
       "      <td>61452.0</td>\n",
       "      <td>22908.0</td>\n",
       "      <td>2</td>\n",
       "      <td>147895</td>\n",
       "      <td>180645</td>\n",
       "      <td>-0.505</td>\n",
       "      <td>-0.548</td>\n",
       "    </tr>\n",
       "    <tr>\n",
       "      <th>55567</th>\n",
       "      <td>84123</td>\n",
       "      <td>61464</td>\n",
       "      <td>61452.0</td>\n",
       "      <td>22940.0</td>\n",
       "      <td>2</td>\n",
       "      <td>112805</td>\n",
       "      <td>27094</td>\n",
       "      <td>-0.505</td>\n",
       "      <td>-0.548</td>\n",
       "    </tr>\n",
       "    <tr>\n",
       "      <th>260</th>\n",
       "      <td>395</td>\n",
       "      <td>61464</td>\n",
       "      <td>61452.0</td>\n",
       "      <td>22941.0</td>\n",
       "      <td>2</td>\n",
       "      <td>16276</td>\n",
       "      <td>23557</td>\n",
       "      <td>-0.505</td>\n",
       "      <td>-0.548</td>\n",
       "    </tr>\n",
       "    <tr>\n",
       "      <th>7495</th>\n",
       "      <td>11259</td>\n",
       "      <td>61464</td>\n",
       "      <td>61452.0</td>\n",
       "      <td>22979.0</td>\n",
       "      <td>2</td>\n",
       "      <td>99903</td>\n",
       "      <td>111972</td>\n",
       "      <td>-0.505</td>\n",
       "      <td>-0.548</td>\n",
       "    </tr>\n",
       "  </tbody>\n",
       "</table>\n",
       "<p>182 rows × 9 columns</p>\n",
       "</div>"
      ],
>>>>>>> Stashed changes
      "text/plain": [
       "       agent_id  current_link  next_link  current_link_enter_time  \\\n",
       "66478    100721         61464    61452.0                  21430.0   \n",
       "4937       7431         61464    61452.0                  21431.0   \n",
       "12317     18558         61464    61452.0                  21433.0   \n",
       "34729     52565         61464    61452.0                  21434.0   \n",
       "24693     37249         61464    61452.0                  21436.0   \n",
       "...         ...           ...        ...                      ...   \n",
       "60719     91948         61464    61452.0                  22907.0   \n",
       "66537    100806         61464    61452.0                  22908.0   \n",
       "55567     84123         61464    61452.0                  22940.0   \n",
       "260         395         61464    61452.0                  22941.0   \n",
       "7495      11259         61464    61452.0                  22979.0   \n",
       "\n",
       "       agent_status  origin_nid  destin_nid  current_link_storage_remain  \\\n",
       "66478             2       86295      198538                       -0.505   \n",
       "4937              2      113438      115416                       -0.505   \n",
       "12317             2      150577      163143                       -0.505   \n",
       "34729             2      107371       45594                       -0.505   \n",
       "24693             2      124364      115111                       -0.505   \n",
       "...             ...         ...         ...                          ...   \n",
       "60719             2      164092       99637                       -0.505   \n",
       "66537             2      147895      180645                       -0.505   \n",
       "55567             2      112805       27094                       -0.505   \n",
       "260               2       16276       23557                       -0.505   \n",
       "7495              2       99903      111972                       -0.505   \n",
       "\n",
       "       next_link_storage_remain  \n",
       "66478                    -0.548  \n",
       "4937                     -0.548  \n",
       "12317                    -0.548  \n",
       "34729                    -0.548  \n",
       "24693                    -0.548  \n",
       "...                         ...  \n",
       "60719                    -0.548  \n",
       "66537                    -0.548  \n",
       "55567                    -0.548  \n",
       "260                      -0.548  \n",
       "7495                     -0.548  \n",
       "\n",
       "[182 rows x 9 columns]"
      ]
     },
     "execution_count": 235,
     "metadata": {},
     "output_type": "execute_result"
    }
   ],
   "source": [
    "agent_data.loc[agent_data.current_link == 61464, :].sort_values(by = 'current_link_enter_time', ascending = True)"
   ]
  },
  {
   "cell_type": "code",
   "execution_count": 239,
   "metadata": {},
   "outputs": [
    {
     "name": "stdout",
     "output_type": "stream",
     "text": [
      "23\n"
     ]
    },
    {
     "data": {
      "text/plain": [
       "array([324489.])"
      ]
     },
     "execution_count": 239,
     "metadata": {},
     "output_type": "execute_result"
    }
   ],
   "source": [
<<<<<<< Updated upstream
    "### plot the arrival curve\n",
    "fig, ax = plt.subplots(figsize=(8, 4))\n",
    "\n",
    "### base scenario arrival\n",
    "t_stats_loop_df = pd.read_csv('traffic_outputs/{}/t_stats/arrivals_{}_loop.csv'.format(case, case))\n",
    "ax.plot(t_stats_loop_df['t'], t_stats_loop_df['arrival_count'], label='loop')\n",
    "display(t_stats_loop_df.tail())\n",
    "\n",
    "t_stats_vect_df = pd.read_csv('traffic_outputs/{}/t_stats/arrivals_{}_vect.csv'.format(case, case))\n",
    "ax.plot(t_stats_vect_df['t'], t_stats_vect_df['arrival_count'], label='vect')\n",
    "\n",
    "ax.set_xlabel('Time since the start of the evacuation')\n",
    "ax.set_ylabel('# arrived vehicles')\n",
    "ax.set_xlim([0, 4800])\n",
    "plt.legend()\n",
    "plt.title('{}, loop {}s, vect {}s'.format(case, 29, 98))\n",
    "plt.show()"
=======
    "special_data = agent_data.loc[agent_data.current_link == 91169, :]\n",
    "print(len(special_data))\n",
    "np.unique(special_data['next_link'])"
   ]
  },
  {
   "cell_type": "code",
   "execution_count": 236,
   "metadata": {},
   "outputs": [
    {
     "name": "stdout",
     "output_type": "stream",
     "text": [
      "160469\n",
      "248566\n",
      "253109\n",
      "259103\n",
      "271925\n",
      "287777\n",
      "310756\n",
      "426934\n",
      "426958\n",
      "429298\n"
     ]
    }
   ],
   "source": [
    "current_link_list = np.unique(agent_data['current_link']).tolist()\n",
    "current_link_list.remove(-2)\n",
    "for current_link_tmp in current_link_list:\n",
    "    special_data = agent_data.loc[agent_data.current_link == current_link_tmp, :]\n",
    "    length_link = len(np.unique(special_data['next_link']))\n",
    "    if length_link >= 2:\n",
    "        next_link_list = np.unique(special_data['next_link'])\n",
    "        point = 0\n",
    "        for next_link_tmp in next_link_list:\n",
    "            if next_link_tmp in current_link_list:\n",
    "                point += 1\n",
    "        if point >= 2:\n",
    "            print(current_link_tmp)"
>>>>>>> Stashed changes
   ]
  },
  {
   "cell_type": "code",
   "execution_count": 16,
   "metadata": {},
   "outputs": [
    {
     "data": {
      "text/html": [
       "<div>\n",
       "<style scoped>\n",
       "    .dataframe tbody tr th:only-of-type {\n",
       "        vertical-align: middle;\n",
       "    }\n",
       "\n",
       "    .dataframe tbody tr th {\n",
       "        vertical-align: top;\n",
       "    }\n",
       "\n",
       "    .dataframe thead th {\n",
       "        text-align: right;\n",
       "    }\n",
       "</style>\n",
       "<table border=\"1\" class=\"dataframe\">\n",
       "  <thead>\n",
       "    <tr style=\"text-align: right;\">\n",
       "      <th></th>\n",
       "      <th>start_node_id</th>\n",
       "      <th>end_node_id</th>\n",
       "      <th>nid_s_old</th>\n",
       "      <th>nid_e_old</th>\n",
       "      <th>length</th>\n",
       "      <th>lanes</th>\n",
       "      <th>type</th>\n",
       "      <th>capacity</th>\n",
       "      <th>maxmph</th>\n",
       "      <th>geometry</th>\n",
       "      <th>link_id</th>\n",
       "    </tr>\n",
       "  </thead>\n",
       "  <tbody>\n",
       "    <tr>\n",
       "      <th>0</th>\n",
       "      <td>0</td>\n",
       "      <td>2</td>\n",
       "      <td>0</td>\n",
       "      <td>2</td>\n",
       "      <td>175.637</td>\n",
       "      <td>1</td>\n",
       "      <td>residential</td>\n",
       "      <td>950</td>\n",
       "      <td>25</td>\n",
       "      <td>LINESTRING(-122.7694487 38.4353358, -122.76926...</td>\n",
       "      <td>0</td>\n",
       "    </tr>\n",
       "  </tbody>\n",
       "</table>\n",
       "</div>"
      ],
      "text/plain": [
       "   start_node_id  end_node_id  nid_s_old  nid_e_old   length  lanes  \\\n",
       "0              0            2          0          2  175.637      1   \n",
       "\n",
       "          type  capacity  maxmph  \\\n",
       "0  residential       950      25   \n",
       "\n",
       "                                            geometry  link_id  \n",
       "0  LINESTRING(-122.7694487 38.4353358, -122.76926...        0  "
      ]
     },
     "metadata": {},
     "output_type": "display_data"
    },
    {
     "data": {
      "text/html": [
       "<div>\n",
       "<style scoped>\n",
       "    .dataframe tbody tr th:only-of-type {\n",
       "        vertical-align: middle;\n",
       "    }\n",
       "\n",
       "    .dataframe tbody tr th {\n",
       "        vertical-align: top;\n",
       "    }\n",
       "\n",
       "    .dataframe thead th {\n",
       "        text-align: right;\n",
       "    }\n",
       "</style>\n",
       "<table border=\"1\" class=\"dataframe\">\n",
       "  <thead>\n",
       "    <tr style=\"text-align: right;\">\n",
       "      <th></th>\n",
       "      <th>link_id</th>\n",
       "      <th>queue</th>\n",
       "      <th>run</th>\n",
       "      <th>undeparted</th>\n",
       "      <th>length</th>\n",
       "      <th>geometry</th>\n",
       "    </tr>\n",
       "  </thead>\n",
       "  <tbody>\n",
       "  </tbody>\n",
       "</table>\n",
       "</div>"
      ],
      "text/plain": [
       "Empty DataFrame\n",
       "Columns: [link_id, queue, run, undeparted, length, geometry]\n",
       "Index: []"
      ]
     },
     "metadata": {},
     "output_type": "display_data"
    },
    {
     "data": {
      "text/html": [
       "<div>\n",
       "<style scoped>\n",
       "    .dataframe tbody tr th:only-of-type {\n",
       "        vertical-align: middle;\n",
       "    }\n",
       "\n",
       "    .dataframe tbody tr th {\n",
       "        vertical-align: top;\n",
       "    }\n",
       "\n",
       "    .dataframe thead th {\n",
       "        text-align: right;\n",
       "    }\n",
       "</style>\n",
       "<table border=\"1\" class=\"dataframe\">\n",
       "  <thead>\n",
       "    <tr style=\"text-align: right;\">\n",
       "      <th></th>\n",
       "      <th>link_id</th>\n",
       "      <th>queue</th>\n",
       "      <th>run</th>\n",
       "      <th>undeparted</th>\n",
       "      <th>length</th>\n",
       "      <th>geometry</th>\n",
       "    </tr>\n",
       "  </thead>\n",
       "  <tbody>\n",
       "  </tbody>\n",
       "</table>\n",
       "</div>"
      ],
      "text/plain": [
       "Empty DataFrame\n",
       "Columns: [link_id, queue, run, undeparted, length, geometry]\n",
       "Index: []"
      ]
     },
     "metadata": {},
     "output_type": "display_data"
    },
    {
     "data": {
      "text/html": [
       "<div>\n",
       "<style scoped>\n",
       "    .dataframe tbody tr th:only-of-type {\n",
       "        vertical-align: middle;\n",
       "    }\n",
       "\n",
       "    .dataframe tbody tr th {\n",
       "        vertical-align: top;\n",
       "    }\n",
       "\n",
       "    .dataframe thead th {\n",
       "        text-align: right;\n",
       "    }\n",
       "</style>\n",
       "<table border=\"1\" class=\"dataframe\">\n",
       "  <thead>\n",
       "    <tr style=\"text-align: right;\">\n",
       "      <th></th>\n",
       "      <th>link_id</th>\n",
       "      <th>queue</th>\n",
       "      <th>run</th>\n",
       "      <th>undeparted</th>\n",
       "      <th>length</th>\n",
       "      <th>geometry</th>\n",
       "    </tr>\n",
       "  </thead>\n",
       "  <tbody>\n",
       "  </tbody>\n",
       "</table>\n",
       "</div>"
      ],
      "text/plain": [
       "Empty DataFrame\n",
       "Columns: [link_id, queue, run, undeparted, length, geometry]\n",
       "Index: []"
      ]
     },
     "metadata": {},
     "output_type": "display_data"
    },
    {
     "data": {
      "text/html": [
       "<div>\n",
       "<style scoped>\n",
       "    .dataframe tbody tr th:only-of-type {\n",
       "        vertical-align: middle;\n",
       "    }\n",
       "\n",
       "    .dataframe tbody tr th {\n",
       "        vertical-align: top;\n",
       "    }\n",
       "\n",
       "    .dataframe thead th {\n",
       "        text-align: right;\n",
       "    }\n",
       "</style>\n",
       "<table border=\"1\" class=\"dataframe\">\n",
       "  <thead>\n",
       "    <tr style=\"text-align: right;\">\n",
       "      <th></th>\n",
       "      <th>link_id</th>\n",
       "      <th>queue</th>\n",
       "      <th>run</th>\n",
       "      <th>undeparted</th>\n",
       "      <th>length</th>\n",
       "      <th>geometry</th>\n",
       "    </tr>\n",
       "  </thead>\n",
       "  <tbody>\n",
       "  </tbody>\n",
       "</table>\n",
       "</div>"
      ],
      "text/plain": [
       "Empty DataFrame\n",
       "Columns: [link_id, queue, run, undeparted, length, geometry]\n",
       "Index: []"
      ]
     },
     "metadata": {},
     "output_type": "display_data"
    },
    {
     "data": {
      "text/html": [
       "<div>\n",
       "<style scoped>\n",
       "    .dataframe tbody tr th:only-of-type {\n",
       "        vertical-align: middle;\n",
       "    }\n",
       "\n",
       "    .dataframe tbody tr th {\n",
       "        vertical-align: top;\n",
       "    }\n",
       "\n",
       "    .dataframe thead th {\n",
       "        text-align: right;\n",
       "    }\n",
       "</style>\n",
       "<table border=\"1\" class=\"dataframe\">\n",
       "  <thead>\n",
       "    <tr style=\"text-align: right;\">\n",
       "      <th></th>\n",
       "      <th>link_id</th>\n",
       "      <th>queue</th>\n",
       "      <th>run</th>\n",
       "      <th>undeparted</th>\n",
       "      <th>length</th>\n",
       "      <th>geometry</th>\n",
       "    </tr>\n",
       "  </thead>\n",
       "  <tbody>\n",
       "  </tbody>\n",
       "</table>\n",
       "</div>"
      ],
      "text/plain": [
       "Empty DataFrame\n",
       "Columns: [link_id, queue, run, undeparted, length, geometry]\n",
       "Index: []"
      ]
     },
     "metadata": {},
     "output_type": "display_data"
    },
    {
     "data": {
      "text/html": [
       "<div>\n",
       "<style scoped>\n",
       "    .dataframe tbody tr th:only-of-type {\n",
       "        vertical-align: middle;\n",
       "    }\n",
       "\n",
       "    .dataframe tbody tr th {\n",
       "        vertical-align: top;\n",
       "    }\n",
       "\n",
       "    .dataframe thead th {\n",
       "        text-align: right;\n",
       "    }\n",
       "</style>\n",
       "<table border=\"1\" class=\"dataframe\">\n",
       "  <thead>\n",
       "    <tr style=\"text-align: right;\">\n",
       "      <th></th>\n",
       "      <th>link_id</th>\n",
       "      <th>queue</th>\n",
       "      <th>run</th>\n",
       "      <th>undeparted</th>\n",
       "      <th>length</th>\n",
       "      <th>geometry</th>\n",
       "    </tr>\n",
       "  </thead>\n",
       "  <tbody>\n",
       "  </tbody>\n",
       "</table>\n",
       "</div>"
      ],
      "text/plain": [
       "Empty DataFrame\n",
       "Columns: [link_id, queue, run, undeparted, length, geometry]\n",
       "Index: []"
      ]
     },
     "metadata": {},
     "output_type": "display_data"
    },
    {
     "data": {
      "text/html": [
       "<div>\n",
       "<style scoped>\n",
       "    .dataframe tbody tr th:only-of-type {\n",
       "        vertical-align: middle;\n",
       "    }\n",
       "\n",
       "    .dataframe tbody tr th {\n",
       "        vertical-align: top;\n",
       "    }\n",
       "\n",
       "    .dataframe thead th {\n",
       "        text-align: right;\n",
       "    }\n",
       "</style>\n",
       "<table border=\"1\" class=\"dataframe\">\n",
       "  <thead>\n",
       "    <tr style=\"text-align: right;\">\n",
       "      <th></th>\n",
       "      <th>link_id</th>\n",
       "      <th>queue</th>\n",
       "      <th>run</th>\n",
       "      <th>undeparted</th>\n",
       "      <th>length</th>\n",
       "      <th>geometry</th>\n",
       "    </tr>\n",
       "  </thead>\n",
       "  <tbody>\n",
       "  </tbody>\n",
       "</table>\n",
       "</div>"
      ],
      "text/plain": [
       "Empty DataFrame\n",
       "Columns: [link_id, queue, run, undeparted, length, geometry]\n",
       "Index: []"
      ]
     },
     "metadata": {},
     "output_type": "display_data"
    },
    {
     "data": {
      "text/html": [
       "<div>\n",
       "<style scoped>\n",
       "    .dataframe tbody tr th:only-of-type {\n",
       "        vertical-align: middle;\n",
       "    }\n",
       "\n",
       "    .dataframe tbody tr th {\n",
       "        vertical-align: top;\n",
       "    }\n",
       "\n",
       "    .dataframe thead th {\n",
       "        text-align: right;\n",
       "    }\n",
       "</style>\n",
       "<table border=\"1\" class=\"dataframe\">\n",
       "  <thead>\n",
       "    <tr style=\"text-align: right;\">\n",
       "      <th></th>\n",
       "      <th>link_id</th>\n",
       "      <th>queue</th>\n",
       "      <th>run</th>\n",
       "      <th>undeparted</th>\n",
       "      <th>length</th>\n",
       "      <th>geometry</th>\n",
       "    </tr>\n",
       "  </thead>\n",
       "  <tbody>\n",
       "  </tbody>\n",
       "</table>\n",
       "</div>"
      ],
      "text/plain": [
       "Empty DataFrame\n",
       "Columns: [link_id, queue, run, undeparted, length, geometry]\n",
       "Index: []"
      ]
     },
     "metadata": {},
     "output_type": "display_data"
    },
    {
     "data": {
      "text/html": [
       "<div>\n",
       "<style scoped>\n",
       "    .dataframe tbody tr th:only-of-type {\n",
       "        vertical-align: middle;\n",
       "    }\n",
       "\n",
       "    .dataframe tbody tr th {\n",
       "        vertical-align: top;\n",
       "    }\n",
       "\n",
       "    .dataframe thead th {\n",
       "        text-align: right;\n",
       "    }\n",
       "</style>\n",
       "<table border=\"1\" class=\"dataframe\">\n",
       "  <thead>\n",
       "    <tr style=\"text-align: right;\">\n",
       "      <th></th>\n",
       "      <th>link_id</th>\n",
       "      <th>queue</th>\n",
       "      <th>run</th>\n",
       "      <th>undeparted</th>\n",
       "      <th>length</th>\n",
       "      <th>geometry</th>\n",
       "    </tr>\n",
       "  </thead>\n",
       "  <tbody>\n",
       "  </tbody>\n",
       "</table>\n",
       "</div>"
      ],
      "text/plain": [
       "Empty DataFrame\n",
       "Columns: [link_id, queue, run, undeparted, length, geometry]\n",
       "Index: []"
      ]
     },
     "metadata": {},
     "output_type": "display_data"
    },
    {
     "data": {
      "text/html": [
       "<div>\n",
       "<style scoped>\n",
       "    .dataframe tbody tr th:only-of-type {\n",
       "        vertical-align: middle;\n",
       "    }\n",
       "\n",
       "    .dataframe tbody tr th {\n",
       "        vertical-align: top;\n",
       "    }\n",
       "\n",
       "    .dataframe thead th {\n",
       "        text-align: right;\n",
       "    }\n",
       "</style>\n",
       "<table border=\"1\" class=\"dataframe\">\n",
       "  <thead>\n",
       "    <tr style=\"text-align: right;\">\n",
       "      <th></th>\n",
       "      <th>link_id</th>\n",
       "      <th>queue</th>\n",
       "      <th>run</th>\n",
       "      <th>undeparted</th>\n",
       "      <th>length</th>\n",
       "      <th>geometry</th>\n",
       "    </tr>\n",
       "  </thead>\n",
       "  <tbody>\n",
       "  </tbody>\n",
       "</table>\n",
       "</div>"
      ],
      "text/plain": [
       "Empty DataFrame\n",
       "Columns: [link_id, queue, run, undeparted, length, geometry]\n",
       "Index: []"
      ]
     },
     "metadata": {},
     "output_type": "display_data"
    },
    {
     "data": {
      "text/html": [
       "<div>\n",
       "<style scoped>\n",
       "    .dataframe tbody tr th:only-of-type {\n",
       "        vertical-align: middle;\n",
       "    }\n",
       "\n",
       "    .dataframe tbody tr th {\n",
       "        vertical-align: top;\n",
       "    }\n",
       "\n",
       "    .dataframe thead th {\n",
       "        text-align: right;\n",
       "    }\n",
       "</style>\n",
       "<table border=\"1\" class=\"dataframe\">\n",
       "  <thead>\n",
       "    <tr style=\"text-align: right;\">\n",
       "      <th></th>\n",
       "      <th>link_id</th>\n",
       "      <th>queue</th>\n",
       "      <th>run</th>\n",
       "      <th>undeparted</th>\n",
       "      <th>length</th>\n",
       "      <th>geometry</th>\n",
       "    </tr>\n",
       "  </thead>\n",
       "  <tbody>\n",
       "  </tbody>\n",
       "</table>\n",
       "</div>"
      ],
      "text/plain": [
       "Empty DataFrame\n",
       "Columns: [link_id, queue, run, undeparted, length, geometry]\n",
       "Index: []"
      ]
     },
     "metadata": {},
     "output_type": "display_data"
    },
    {
     "data": {
      "text/html": [
       "<div>\n",
       "<style scoped>\n",
       "    .dataframe tbody tr th:only-of-type {\n",
       "        vertical-align: middle;\n",
       "    }\n",
       "\n",
       "    .dataframe tbody tr th {\n",
       "        vertical-align: top;\n",
       "    }\n",
       "\n",
       "    .dataframe thead th {\n",
       "        text-align: right;\n",
       "    }\n",
       "</style>\n",
       "<table border=\"1\" class=\"dataframe\">\n",
       "  <thead>\n",
       "    <tr style=\"text-align: right;\">\n",
       "      <th></th>\n",
       "      <th>link_id</th>\n",
       "      <th>queue</th>\n",
       "      <th>run</th>\n",
       "      <th>undeparted</th>\n",
       "      <th>length</th>\n",
       "      <th>geometry</th>\n",
       "    </tr>\n",
       "  </thead>\n",
       "  <tbody>\n",
       "  </tbody>\n",
       "</table>\n",
       "</div>"
      ],
      "text/plain": [
       "Empty DataFrame\n",
       "Columns: [link_id, queue, run, undeparted, length, geometry]\n",
       "Index: []"
      ]
     },
     "metadata": {},
     "output_type": "display_data"
    },
    {
     "data": {
      "text/html": [
       "<div>\n",
       "<style scoped>\n",
       "    .dataframe tbody tr th:only-of-type {\n",
       "        vertical-align: middle;\n",
       "    }\n",
       "\n",
       "    .dataframe tbody tr th {\n",
       "        vertical-align: top;\n",
       "    }\n",
       "\n",
       "    .dataframe thead th {\n",
       "        text-align: right;\n",
       "    }\n",
       "</style>\n",
       "<table border=\"1\" class=\"dataframe\">\n",
       "  <thead>\n",
       "    <tr style=\"text-align: right;\">\n",
       "      <th></th>\n",
       "      <th>link_id</th>\n",
       "      <th>queue</th>\n",
       "      <th>run</th>\n",
       "      <th>undeparted</th>\n",
       "      <th>length</th>\n",
       "      <th>geometry</th>\n",
       "    </tr>\n",
       "  </thead>\n",
       "  <tbody>\n",
       "  </tbody>\n",
       "</table>\n",
       "</div>"
      ],
      "text/plain": [
       "Empty DataFrame\n",
       "Columns: [link_id, queue, run, undeparted, length, geometry]\n",
       "Index: []"
      ]
     },
     "metadata": {},
     "output_type": "display_data"
    },
    {
     "data": {
      "text/html": [
       "<div>\n",
       "<style scoped>\n",
       "    .dataframe tbody tr th:only-of-type {\n",
       "        vertical-align: middle;\n",
       "    }\n",
       "\n",
       "    .dataframe tbody tr th {\n",
       "        vertical-align: top;\n",
       "    }\n",
       "\n",
       "    .dataframe thead th {\n",
       "        text-align: right;\n",
       "    }\n",
       "</style>\n",
       "<table border=\"1\" class=\"dataframe\">\n",
       "  <thead>\n",
       "    <tr style=\"text-align: right;\">\n",
       "      <th></th>\n",
       "      <th>link_id</th>\n",
       "      <th>queue</th>\n",
       "      <th>run</th>\n",
       "      <th>undeparted</th>\n",
       "      <th>length</th>\n",
       "      <th>geometry</th>\n",
       "    </tr>\n",
       "  </thead>\n",
       "  <tbody>\n",
       "  </tbody>\n",
       "</table>\n",
       "</div>"
      ],
      "text/plain": [
       "Empty DataFrame\n",
       "Columns: [link_id, queue, run, undeparted, length, geometry]\n",
       "Index: []"
      ]
     },
     "metadata": {},
     "output_type": "display_data"
    },
    {
     "data": {
      "text/html": [
       "<div>\n",
       "<style scoped>\n",
       "    .dataframe tbody tr th:only-of-type {\n",
       "        vertical-align: middle;\n",
       "    }\n",
       "\n",
       "    .dataframe tbody tr th {\n",
       "        vertical-align: top;\n",
       "    }\n",
       "\n",
       "    .dataframe thead th {\n",
       "        text-align: right;\n",
       "    }\n",
       "</style>\n",
       "<table border=\"1\" class=\"dataframe\">\n",
       "  <thead>\n",
       "    <tr style=\"text-align: right;\">\n",
       "      <th></th>\n",
       "      <th>link_id</th>\n",
       "      <th>queue</th>\n",
       "      <th>run</th>\n",
       "      <th>undeparted</th>\n",
       "      <th>length</th>\n",
       "      <th>geometry</th>\n",
       "    </tr>\n",
       "  </thead>\n",
       "  <tbody>\n",
       "  </tbody>\n",
       "</table>\n",
       "</div>"
      ],
      "text/plain": [
       "Empty DataFrame\n",
       "Columns: [link_id, queue, run, undeparted, length, geometry]\n",
       "Index: []"
      ]
     },
     "metadata": {},
     "output_type": "display_data"
    },
    {
     "data": {
      "text/html": [
       "<div>\n",
       "<style scoped>\n",
       "    .dataframe tbody tr th:only-of-type {\n",
       "        vertical-align: middle;\n",
       "    }\n",
       "\n",
       "    .dataframe tbody tr th {\n",
       "        vertical-align: top;\n",
       "    }\n",
       "\n",
       "    .dataframe thead th {\n",
       "        text-align: right;\n",
       "    }\n",
       "</style>\n",
       "<table border=\"1\" class=\"dataframe\">\n",
       "  <thead>\n",
       "    <tr style=\"text-align: right;\">\n",
       "      <th></th>\n",
       "      <th>link_id</th>\n",
       "      <th>queue</th>\n",
       "      <th>run</th>\n",
       "      <th>undeparted</th>\n",
       "      <th>length</th>\n",
       "      <th>geometry</th>\n",
       "    </tr>\n",
       "  </thead>\n",
       "  <tbody>\n",
       "  </tbody>\n",
       "</table>\n",
       "</div>"
      ],
      "text/plain": [
       "Empty DataFrame\n",
       "Columns: [link_id, queue, run, undeparted, length, geometry]\n",
       "Index: []"
      ]
     },
     "metadata": {},
     "output_type": "display_data"
    },
    {
     "data": {
      "text/html": [
       "<div>\n",
       "<style scoped>\n",
       "    .dataframe tbody tr th:only-of-type {\n",
       "        vertical-align: middle;\n",
       "    }\n",
       "\n",
       "    .dataframe tbody tr th {\n",
       "        vertical-align: top;\n",
       "    }\n",
       "\n",
       "    .dataframe thead th {\n",
       "        text-align: right;\n",
       "    }\n",
       "</style>\n",
       "<table border=\"1\" class=\"dataframe\">\n",
       "  <thead>\n",
       "    <tr style=\"text-align: right;\">\n",
       "      <th></th>\n",
       "      <th>link_id</th>\n",
       "      <th>queue</th>\n",
       "      <th>run</th>\n",
       "      <th>undeparted</th>\n",
       "      <th>length</th>\n",
       "      <th>geometry</th>\n",
       "    </tr>\n",
       "  </thead>\n",
       "  <tbody>\n",
       "  </tbody>\n",
       "</table>\n",
       "</div>"
      ],
      "text/plain": [
       "Empty DataFrame\n",
       "Columns: [link_id, queue, run, undeparted, length, geometry]\n",
       "Index: []"
      ]
     },
     "metadata": {},
     "output_type": "display_data"
    },
    {
     "data": {
      "text/html": [
       "<div>\n",
       "<style scoped>\n",
       "    .dataframe tbody tr th:only-of-type {\n",
       "        vertical-align: middle;\n",
       "    }\n",
       "\n",
       "    .dataframe tbody tr th {\n",
       "        vertical-align: top;\n",
       "    }\n",
       "\n",
       "    .dataframe thead th {\n",
       "        text-align: right;\n",
       "    }\n",
       "</style>\n",
       "<table border=\"1\" class=\"dataframe\">\n",
       "  <thead>\n",
       "    <tr style=\"text-align: right;\">\n",
       "      <th></th>\n",
       "      <th>link_id</th>\n",
       "      <th>queue</th>\n",
       "      <th>run</th>\n",
       "      <th>undeparted</th>\n",
       "      <th>length</th>\n",
       "      <th>geometry</th>\n",
       "    </tr>\n",
       "  </thead>\n",
       "  <tbody>\n",
       "  </tbody>\n",
       "</table>\n",
       "</div>"
      ],
      "text/plain": [
       "Empty DataFrame\n",
       "Columns: [link_id, queue, run, undeparted, length, geometry]\n",
       "Index: []"
      ]
     },
     "metadata": {},
     "output_type": "display_data"
    },
    {
     "data": {
      "text/html": [
       "<div>\n",
       "<style scoped>\n",
       "    .dataframe tbody tr th:only-of-type {\n",
       "        vertical-align: middle;\n",
       "    }\n",
       "\n",
       "    .dataframe tbody tr th {\n",
       "        vertical-align: top;\n",
       "    }\n",
       "\n",
       "    .dataframe thead th {\n",
       "        text-align: right;\n",
       "    }\n",
       "</style>\n",
       "<table border=\"1\" class=\"dataframe\">\n",
       "  <thead>\n",
       "    <tr style=\"text-align: right;\">\n",
       "      <th></th>\n",
       "      <th>link_id</th>\n",
       "      <th>queue</th>\n",
       "      <th>run</th>\n",
       "      <th>undeparted</th>\n",
       "      <th>length</th>\n",
       "      <th>geometry</th>\n",
       "    </tr>\n",
       "  </thead>\n",
       "  <tbody>\n",
       "  </tbody>\n",
       "</table>\n",
       "</div>"
      ],
      "text/plain": [
       "Empty DataFrame\n",
       "Columns: [link_id, queue, run, undeparted, length, geometry]\n",
       "Index: []"
      ]
     },
     "metadata": {},
     "output_type": "display_data"
    },
    {
     "data": {
      "text/html": [
       "<div>\n",
       "<style scoped>\n",
       "    .dataframe tbody tr th:only-of-type {\n",
       "        vertical-align: middle;\n",
       "    }\n",
       "\n",
       "    .dataframe tbody tr th {\n",
       "        vertical-align: top;\n",
       "    }\n",
       "\n",
       "    .dataframe thead th {\n",
       "        text-align: right;\n",
       "    }\n",
       "</style>\n",
       "<table border=\"1\" class=\"dataframe\">\n",
       "  <thead>\n",
       "    <tr style=\"text-align: right;\">\n",
       "      <th></th>\n",
       "      <th>link_id</th>\n",
       "      <th>queue</th>\n",
       "      <th>run</th>\n",
       "      <th>undeparted</th>\n",
       "      <th>length</th>\n",
       "      <th>geometry</th>\n",
       "    </tr>\n",
       "  </thead>\n",
       "  <tbody>\n",
       "  </tbody>\n",
       "</table>\n",
       "</div>"
      ],
      "text/plain": [
       "Empty DataFrame\n",
       "Columns: [link_id, queue, run, undeparted, length, geometry]\n",
       "Index: []"
      ]
     },
     "metadata": {},
     "output_type": "display_data"
    },
    {
     "data": {
      "text/html": [
       "<div>\n",
       "<style scoped>\n",
       "    .dataframe tbody tr th:only-of-type {\n",
       "        vertical-align: middle;\n",
       "    }\n",
       "\n",
       "    .dataframe tbody tr th {\n",
       "        vertical-align: top;\n",
       "    }\n",
       "\n",
       "    .dataframe thead th {\n",
       "        text-align: right;\n",
       "    }\n",
       "</style>\n",
       "<table border=\"1\" class=\"dataframe\">\n",
       "  <thead>\n",
       "    <tr style=\"text-align: right;\">\n",
       "      <th></th>\n",
       "      <th>link_id</th>\n",
       "      <th>queue</th>\n",
       "      <th>run</th>\n",
       "      <th>undeparted</th>\n",
       "      <th>length</th>\n",
       "      <th>geometry</th>\n",
       "    </tr>\n",
       "  </thead>\n",
       "  <tbody>\n",
       "  </tbody>\n",
       "</table>\n",
       "</div>"
      ],
      "text/plain": [
       "Empty DataFrame\n",
       "Columns: [link_id, queue, run, undeparted, length, geometry]\n",
       "Index: []"
      ]
     },
     "metadata": {},
     "output_type": "display_data"
    },
    {
     "data": {
      "text/html": [
       "<div>\n",
       "<style scoped>\n",
       "    .dataframe tbody tr th:only-of-type {\n",
       "        vertical-align: middle;\n",
       "    }\n",
       "\n",
       "    .dataframe tbody tr th {\n",
       "        vertical-align: top;\n",
       "    }\n",
       "\n",
       "    .dataframe thead th {\n",
       "        text-align: right;\n",
       "    }\n",
       "</style>\n",
       "<table border=\"1\" class=\"dataframe\">\n",
       "  <thead>\n",
       "    <tr style=\"text-align: right;\">\n",
       "      <th></th>\n",
       "      <th>link_id</th>\n",
       "      <th>queue</th>\n",
       "      <th>run</th>\n",
       "      <th>undeparted</th>\n",
       "      <th>length</th>\n",
       "      <th>geometry</th>\n",
       "    </tr>\n",
       "  </thead>\n",
       "  <tbody>\n",
       "  </tbody>\n",
       "</table>\n",
       "</div>"
      ],
      "text/plain": [
       "Empty DataFrame\n",
       "Columns: [link_id, queue, run, undeparted, length, geometry]\n",
       "Index: []"
      ]
     },
     "metadata": {},
     "output_type": "display_data"
    },
    {
     "data": {
      "text/html": [
       "<div>\n",
       "<style scoped>\n",
       "    .dataframe tbody tr th:only-of-type {\n",
       "        vertical-align: middle;\n",
       "    }\n",
       "\n",
       "    .dataframe tbody tr th {\n",
       "        vertical-align: top;\n",
       "    }\n",
       "\n",
       "    .dataframe thead th {\n",
       "        text-align: right;\n",
       "    }\n",
       "</style>\n",
       "<table border=\"1\" class=\"dataframe\">\n",
       "  <thead>\n",
       "    <tr style=\"text-align: right;\">\n",
       "      <th></th>\n",
       "      <th>link_id</th>\n",
       "      <th>queue</th>\n",
       "      <th>run</th>\n",
       "      <th>undeparted</th>\n",
       "      <th>length</th>\n",
       "      <th>geometry</th>\n",
       "    </tr>\n",
       "  </thead>\n",
       "  <tbody>\n",
       "  </tbody>\n",
       "</table>\n",
       "</div>"
      ],
      "text/plain": [
       "Empty DataFrame\n",
       "Columns: [link_id, queue, run, undeparted, length, geometry]\n",
       "Index: []"
      ]
     },
     "metadata": {},
     "output_type": "display_data"
    },
    {
     "data": {
      "text/html": [
       "<div>\n",
       "<style scoped>\n",
       "    .dataframe tbody tr th:only-of-type {\n",
       "        vertical-align: middle;\n",
       "    }\n",
       "\n",
       "    .dataframe tbody tr th {\n",
       "        vertical-align: top;\n",
       "    }\n",
       "\n",
       "    .dataframe thead th {\n",
       "        text-align: right;\n",
       "    }\n",
       "</style>\n",
       "<table border=\"1\" class=\"dataframe\">\n",
       "  <thead>\n",
       "    <tr style=\"text-align: right;\">\n",
       "      <th></th>\n",
       "      <th>link_id</th>\n",
       "      <th>queue</th>\n",
       "      <th>run</th>\n",
       "      <th>undeparted</th>\n",
       "      <th>length</th>\n",
       "      <th>geometry</th>\n",
       "    </tr>\n",
       "  </thead>\n",
       "  <tbody>\n",
       "  </tbody>\n",
       "</table>\n",
       "</div>"
      ],
      "text/plain": [
       "Empty DataFrame\n",
       "Columns: [link_id, queue, run, undeparted, length, geometry]\n",
       "Index: []"
      ]
     },
     "metadata": {},
     "output_type": "display_data"
    },
    {
     "data": {
      "text/html": [
       "<div>\n",
       "<style scoped>\n",
       "    .dataframe tbody tr th:only-of-type {\n",
       "        vertical-align: middle;\n",
       "    }\n",
       "\n",
       "    .dataframe tbody tr th {\n",
       "        vertical-align: top;\n",
       "    }\n",
       "\n",
       "    .dataframe thead th {\n",
       "        text-align: right;\n",
       "    }\n",
       "</style>\n",
       "<table border=\"1\" class=\"dataframe\">\n",
       "  <thead>\n",
       "    <tr style=\"text-align: right;\">\n",
       "      <th></th>\n",
       "      <th>link_id</th>\n",
       "      <th>queue</th>\n",
       "      <th>run</th>\n",
       "      <th>undeparted</th>\n",
       "      <th>length</th>\n",
       "      <th>geometry</th>\n",
       "    </tr>\n",
       "  </thead>\n",
       "  <tbody>\n",
       "  </tbody>\n",
       "</table>\n",
       "</div>"
      ],
      "text/plain": [
       "Empty DataFrame\n",
       "Columns: [link_id, queue, run, undeparted, length, geometry]\n",
       "Index: []"
      ]
     },
     "metadata": {},
     "output_type": "display_data"
    },
    {
     "data": {
      "text/html": [
       "<div>\n",
       "<style scoped>\n",
       "    .dataframe tbody tr th:only-of-type {\n",
       "        vertical-align: middle;\n",
       "    }\n",
       "\n",
       "    .dataframe tbody tr th {\n",
       "        vertical-align: top;\n",
       "    }\n",
       "\n",
       "    .dataframe thead th {\n",
       "        text-align: right;\n",
       "    }\n",
       "</style>\n",
       "<table border=\"1\" class=\"dataframe\">\n",
       "  <thead>\n",
       "    <tr style=\"text-align: right;\">\n",
       "      <th></th>\n",
       "      <th>link_id</th>\n",
       "      <th>queue</th>\n",
       "      <th>run</th>\n",
       "      <th>undeparted</th>\n",
       "      <th>length</th>\n",
       "      <th>geometry</th>\n",
       "    </tr>\n",
       "  </thead>\n",
       "  <tbody>\n",
       "  </tbody>\n",
       "</table>\n",
       "</div>"
      ],
      "text/plain": [
       "Empty DataFrame\n",
       "Columns: [link_id, queue, run, undeparted, length, geometry]\n",
       "Index: []"
      ]
     },
     "metadata": {},
     "output_type": "display_data"
    },
    {
     "data": {
      "text/html": [
       "<div>\n",
       "<style scoped>\n",
       "    .dataframe tbody tr th:only-of-type {\n",
       "        vertical-align: middle;\n",
       "    }\n",
       "\n",
       "    .dataframe tbody tr th {\n",
       "        vertical-align: top;\n",
       "    }\n",
       "\n",
       "    .dataframe thead th {\n",
       "        text-align: right;\n",
       "    }\n",
       "</style>\n",
       "<table border=\"1\" class=\"dataframe\">\n",
       "  <thead>\n",
       "    <tr style=\"text-align: right;\">\n",
       "      <th></th>\n",
       "      <th>link_id</th>\n",
       "      <th>queue</th>\n",
       "      <th>run</th>\n",
       "      <th>undeparted</th>\n",
       "      <th>length</th>\n",
       "      <th>geometry</th>\n",
       "    </tr>\n",
       "  </thead>\n",
       "  <tbody>\n",
       "  </tbody>\n",
       "</table>\n",
       "</div>"
      ],
      "text/plain": [
       "Empty DataFrame\n",
       "Columns: [link_id, queue, run, undeparted, length, geometry]\n",
       "Index: []"
      ]
     },
     "metadata": {},
     "output_type": "display_data"
    },
    {
     "data": {
      "text/html": [
       "<div>\n",
       "<style scoped>\n",
       "    .dataframe tbody tr th:only-of-type {\n",
       "        vertical-align: middle;\n",
       "    }\n",
       "\n",
       "    .dataframe tbody tr th {\n",
       "        vertical-align: top;\n",
       "    }\n",
       "\n",
       "    .dataframe thead th {\n",
       "        text-align: right;\n",
       "    }\n",
       "</style>\n",
       "<table border=\"1\" class=\"dataframe\">\n",
       "  <thead>\n",
       "    <tr style=\"text-align: right;\">\n",
       "      <th></th>\n",
       "      <th>link_id</th>\n",
       "      <th>queue</th>\n",
       "      <th>run</th>\n",
       "      <th>undeparted</th>\n",
       "      <th>length</th>\n",
       "      <th>geometry</th>\n",
       "    </tr>\n",
       "  </thead>\n",
       "  <tbody>\n",
       "  </tbody>\n",
       "</table>\n",
       "</div>"
      ],
      "text/plain": [
       "Empty DataFrame\n",
       "Columns: [link_id, queue, run, undeparted, length, geometry]\n",
       "Index: []"
      ]
     },
     "metadata": {},
     "output_type": "display_data"
    },
    {
     "data": {
      "text/html": [
       "<div>\n",
       "<style scoped>\n",
       "    .dataframe tbody tr th:only-of-type {\n",
       "        vertical-align: middle;\n",
       "    }\n",
       "\n",
       "    .dataframe tbody tr th {\n",
       "        vertical-align: top;\n",
       "    }\n",
       "\n",
       "    .dataframe thead th {\n",
       "        text-align: right;\n",
       "    }\n",
       "</style>\n",
       "<table border=\"1\" class=\"dataframe\">\n",
       "  <thead>\n",
       "    <tr style=\"text-align: right;\">\n",
       "      <th></th>\n",
       "      <th>link_id</th>\n",
       "      <th>queue</th>\n",
       "      <th>run</th>\n",
       "      <th>undeparted</th>\n",
       "      <th>length</th>\n",
       "      <th>geometry</th>\n",
       "    </tr>\n",
       "  </thead>\n",
       "  <tbody>\n",
       "  </tbody>\n",
       "</table>\n",
       "</div>"
      ],
      "text/plain": [
       "Empty DataFrame\n",
       "Columns: [link_id, queue, run, undeparted, length, geometry]\n",
       "Index: []"
      ]
     },
     "metadata": {},
     "output_type": "display_data"
    },
    {
     "data": {
      "text/html": [
       "<div>\n",
       "<style scoped>\n",
       "    .dataframe tbody tr th:only-of-type {\n",
       "        vertical-align: middle;\n",
       "    }\n",
       "\n",
       "    .dataframe tbody tr th {\n",
       "        vertical-align: top;\n",
       "    }\n",
       "\n",
       "    .dataframe thead th {\n",
       "        text-align: right;\n",
       "    }\n",
       "</style>\n",
       "<table border=\"1\" class=\"dataframe\">\n",
       "  <thead>\n",
       "    <tr style=\"text-align: right;\">\n",
       "      <th></th>\n",
       "      <th>link_id</th>\n",
       "      <th>queue</th>\n",
       "      <th>run</th>\n",
       "      <th>undeparted</th>\n",
       "      <th>length</th>\n",
       "      <th>geometry</th>\n",
       "    </tr>\n",
       "  </thead>\n",
       "  <tbody>\n",
       "  </tbody>\n",
       "</table>\n",
       "</div>"
      ],
      "text/plain": [
       "Empty DataFrame\n",
       "Columns: [link_id, queue, run, undeparted, length, geometry]\n",
       "Index: []"
      ]
     },
     "metadata": {},
     "output_type": "display_data"
    },
    {
     "data": {
      "text/html": [
       "<div>\n",
       "<style scoped>\n",
       "    .dataframe tbody tr th:only-of-type {\n",
       "        vertical-align: middle;\n",
       "    }\n",
       "\n",
       "    .dataframe tbody tr th {\n",
       "        vertical-align: top;\n",
       "    }\n",
       "\n",
       "    .dataframe thead th {\n",
       "        text-align: right;\n",
       "    }\n",
       "</style>\n",
       "<table border=\"1\" class=\"dataframe\">\n",
       "  <thead>\n",
       "    <tr style=\"text-align: right;\">\n",
       "      <th></th>\n",
       "      <th>link_id</th>\n",
       "      <th>queue</th>\n",
       "      <th>run</th>\n",
       "      <th>undeparted</th>\n",
       "      <th>length</th>\n",
       "      <th>geometry</th>\n",
       "    </tr>\n",
       "  </thead>\n",
       "  <tbody>\n",
       "  </tbody>\n",
       "</table>\n",
       "</div>"
      ],
      "text/plain": [
       "Empty DataFrame\n",
       "Columns: [link_id, queue, run, undeparted, length, geometry]\n",
       "Index: []"
      ]
     },
     "metadata": {},
     "output_type": "display_data"
    },
    {
     "data": {
      "text/html": [
       "<div>\n",
       "<style scoped>\n",
       "    .dataframe tbody tr th:only-of-type {\n",
       "        vertical-align: middle;\n",
       "    }\n",
       "\n",
       "    .dataframe tbody tr th {\n",
       "        vertical-align: top;\n",
       "    }\n",
       "\n",
       "    .dataframe thead th {\n",
       "        text-align: right;\n",
       "    }\n",
       "</style>\n",
       "<table border=\"1\" class=\"dataframe\">\n",
       "  <thead>\n",
       "    <tr style=\"text-align: right;\">\n",
       "      <th></th>\n",
       "      <th>link_id</th>\n",
       "      <th>queue</th>\n",
       "      <th>run</th>\n",
       "      <th>undeparted</th>\n",
       "      <th>length</th>\n",
       "      <th>geometry</th>\n",
       "    </tr>\n",
       "  </thead>\n",
       "  <tbody>\n",
       "  </tbody>\n",
       "</table>\n",
       "</div>"
      ],
      "text/plain": [
       "Empty DataFrame\n",
       "Columns: [link_id, queue, run, undeparted, length, geometry]\n",
       "Index: []"
      ]
     },
     "metadata": {},
     "output_type": "display_data"
    },
    {
     "data": {
      "text/html": [
       "<div>\n",
       "<style scoped>\n",
       "    .dataframe tbody tr th:only-of-type {\n",
       "        vertical-align: middle;\n",
       "    }\n",
       "\n",
       "    .dataframe tbody tr th {\n",
       "        vertical-align: top;\n",
       "    }\n",
       "\n",
       "    .dataframe thead th {\n",
       "        text-align: right;\n",
       "    }\n",
       "</style>\n",
       "<table border=\"1\" class=\"dataframe\">\n",
       "  <thead>\n",
       "    <tr style=\"text-align: right;\">\n",
       "      <th></th>\n",
       "      <th>link_id</th>\n",
       "      <th>queue</th>\n",
       "      <th>run</th>\n",
       "      <th>undeparted</th>\n",
       "      <th>length</th>\n",
       "      <th>geometry</th>\n",
       "    </tr>\n",
       "  </thead>\n",
       "  <tbody>\n",
       "  </tbody>\n",
       "</table>\n",
       "</div>"
      ],
      "text/plain": [
       "Empty DataFrame\n",
       "Columns: [link_id, queue, run, undeparted, length, geometry]\n",
       "Index: []"
      ]
     },
     "metadata": {},
     "output_type": "display_data"
    },
    {
     "data": {
      "text/html": [
       "<div>\n",
       "<style scoped>\n",
       "    .dataframe tbody tr th:only-of-type {\n",
       "        vertical-align: middle;\n",
       "    }\n",
       "\n",
       "    .dataframe tbody tr th {\n",
       "        vertical-align: top;\n",
       "    }\n",
       "\n",
       "    .dataframe thead th {\n",
       "        text-align: right;\n",
       "    }\n",
       "</style>\n",
       "<table border=\"1\" class=\"dataframe\">\n",
       "  <thead>\n",
       "    <tr style=\"text-align: right;\">\n",
       "      <th></th>\n",
       "      <th>link_id</th>\n",
       "      <th>queue</th>\n",
       "      <th>run</th>\n",
       "      <th>undeparted</th>\n",
       "      <th>length</th>\n",
       "      <th>geometry</th>\n",
       "    </tr>\n",
       "  </thead>\n",
       "  <tbody>\n",
       "  </tbody>\n",
       "</table>\n",
       "</div>"
      ],
      "text/plain": [
       "Empty DataFrame\n",
       "Columns: [link_id, queue, run, undeparted, length, geometry]\n",
       "Index: []"
      ]
     },
     "metadata": {},
     "output_type": "display_data"
    },
    {
     "data": {
      "text/html": [
       "<div>\n",
       "<style scoped>\n",
       "    .dataframe tbody tr th:only-of-type {\n",
       "        vertical-align: middle;\n",
       "    }\n",
       "\n",
       "    .dataframe tbody tr th {\n",
       "        vertical-align: top;\n",
       "    }\n",
       "\n",
       "    .dataframe thead th {\n",
       "        text-align: right;\n",
       "    }\n",
       "</style>\n",
       "<table border=\"1\" class=\"dataframe\">\n",
       "  <thead>\n",
       "    <tr style=\"text-align: right;\">\n",
       "      <th></th>\n",
       "      <th>link_id</th>\n",
       "      <th>queue</th>\n",
       "      <th>run</th>\n",
       "      <th>undeparted</th>\n",
       "      <th>length</th>\n",
       "      <th>geometry</th>\n",
       "    </tr>\n",
       "  </thead>\n",
       "  <tbody>\n",
       "  </tbody>\n",
       "</table>\n",
       "</div>"
      ],
      "text/plain": [
       "Empty DataFrame\n",
       "Columns: [link_id, queue, run, undeparted, length, geometry]\n",
       "Index: []"
      ]
     },
     "metadata": {},
     "output_type": "display_data"
    },
    {
     "data": {
      "text/html": [
       "<div>\n",
       "<style scoped>\n",
       "    .dataframe tbody tr th:only-of-type {\n",
       "        vertical-align: middle;\n",
       "    }\n",
       "\n",
       "    .dataframe tbody tr th {\n",
       "        vertical-align: top;\n",
       "    }\n",
       "\n",
       "    .dataframe thead th {\n",
       "        text-align: right;\n",
       "    }\n",
       "</style>\n",
       "<table border=\"1\" class=\"dataframe\">\n",
       "  <thead>\n",
       "    <tr style=\"text-align: right;\">\n",
       "      <th></th>\n",
       "      <th>link_id</th>\n",
       "      <th>queue</th>\n",
       "      <th>run</th>\n",
       "      <th>undeparted</th>\n",
       "      <th>length</th>\n",
       "      <th>geometry</th>\n",
       "    </tr>\n",
       "  </thead>\n",
       "  <tbody>\n",
       "  </tbody>\n",
       "</table>\n",
       "</div>"
      ],
      "text/plain": [
       "Empty DataFrame\n",
       "Columns: [link_id, queue, run, undeparted, length, geometry]\n",
       "Index: []"
      ]
     },
     "metadata": {},
     "output_type": "display_data"
    },
    {
     "data": {
      "text/html": [
       "<div>\n",
       "<style scoped>\n",
       "    .dataframe tbody tr th:only-of-type {\n",
       "        vertical-align: middle;\n",
       "    }\n",
       "\n",
       "    .dataframe tbody tr th {\n",
       "        vertical-align: top;\n",
       "    }\n",
       "\n",
       "    .dataframe thead th {\n",
       "        text-align: right;\n",
       "    }\n",
       "</style>\n",
       "<table border=\"1\" class=\"dataframe\">\n",
       "  <thead>\n",
       "    <tr style=\"text-align: right;\">\n",
       "      <th></th>\n",
       "      <th>link_id</th>\n",
       "      <th>queue</th>\n",
       "      <th>run</th>\n",
       "      <th>undeparted</th>\n",
       "      <th>length</th>\n",
       "      <th>geometry</th>\n",
       "    </tr>\n",
       "  </thead>\n",
       "  <tbody>\n",
       "  </tbody>\n",
       "</table>\n",
       "</div>"
      ],
      "text/plain": [
       "Empty DataFrame\n",
       "Columns: [link_id, queue, run, undeparted, length, geometry]\n",
       "Index: []"
      ]
     },
     "metadata": {},
     "output_type": "display_data"
    },
    {
     "data": {
      "text/html": [
       "<div>\n",
       "<style scoped>\n",
       "    .dataframe tbody tr th:only-of-type {\n",
       "        vertical-align: middle;\n",
       "    }\n",
       "\n",
       "    .dataframe tbody tr th {\n",
       "        vertical-align: top;\n",
       "    }\n",
       "\n",
       "    .dataframe thead th {\n",
       "        text-align: right;\n",
       "    }\n",
       "</style>\n",
       "<table border=\"1\" class=\"dataframe\">\n",
       "  <thead>\n",
       "    <tr style=\"text-align: right;\">\n",
       "      <th></th>\n",
       "      <th>link_id</th>\n",
       "      <th>queue</th>\n",
       "      <th>run</th>\n",
       "      <th>undeparted</th>\n",
       "      <th>length</th>\n",
       "      <th>geometry</th>\n",
       "    </tr>\n",
       "  </thead>\n",
       "  <tbody>\n",
       "  </tbody>\n",
       "</table>\n",
       "</div>"
      ],
      "text/plain": [
       "Empty DataFrame\n",
       "Columns: [link_id, queue, run, undeparted, length, geometry]\n",
       "Index: []"
      ]
     },
     "metadata": {},
     "output_type": "display_data"
    },
    {
     "data": {
      "text/html": [
       "<div>\n",
       "<style scoped>\n",
       "    .dataframe tbody tr th:only-of-type {\n",
       "        vertical-align: middle;\n",
       "    }\n",
       "\n",
       "    .dataframe tbody tr th {\n",
       "        vertical-align: top;\n",
       "    }\n",
       "\n",
       "    .dataframe thead th {\n",
       "        text-align: right;\n",
       "    }\n",
       "</style>\n",
       "<table border=\"1\" class=\"dataframe\">\n",
       "  <thead>\n",
       "    <tr style=\"text-align: right;\">\n",
       "      <th></th>\n",
       "      <th>link_id</th>\n",
       "      <th>queue</th>\n",
       "      <th>run</th>\n",
       "      <th>undeparted</th>\n",
       "      <th>length</th>\n",
       "      <th>geometry</th>\n",
       "    </tr>\n",
       "  </thead>\n",
       "  <tbody>\n",
       "  </tbody>\n",
       "</table>\n",
       "</div>"
      ],
      "text/plain": [
       "Empty DataFrame\n",
       "Columns: [link_id, queue, run, undeparted, length, geometry]\n",
       "Index: []"
      ]
     },
     "metadata": {},
     "output_type": "display_data"
    },
    {
     "data": {
      "text/html": [
       "<div>\n",
       "<style scoped>\n",
       "    .dataframe tbody tr th:only-of-type {\n",
       "        vertical-align: middle;\n",
       "    }\n",
       "\n",
       "    .dataframe tbody tr th {\n",
       "        vertical-align: top;\n",
       "    }\n",
       "\n",
       "    .dataframe thead th {\n",
       "        text-align: right;\n",
       "    }\n",
       "</style>\n",
       "<table border=\"1\" class=\"dataframe\">\n",
       "  <thead>\n",
       "    <tr style=\"text-align: right;\">\n",
       "      <th></th>\n",
       "      <th>link_id</th>\n",
       "      <th>queue</th>\n",
       "      <th>run</th>\n",
       "      <th>undeparted</th>\n",
       "      <th>length</th>\n",
       "      <th>geometry</th>\n",
       "    </tr>\n",
       "  </thead>\n",
       "  <tbody>\n",
       "  </tbody>\n",
       "</table>\n",
       "</div>"
      ],
      "text/plain": [
       "Empty DataFrame\n",
       "Columns: [link_id, queue, run, undeparted, length, geometry]\n",
       "Index: []"
      ]
     },
     "metadata": {},
     "output_type": "display_data"
    },
    {
     "data": {
      "text/html": [
       "<div>\n",
       "<style scoped>\n",
       "    .dataframe tbody tr th:only-of-type {\n",
       "        vertical-align: middle;\n",
       "    }\n",
       "\n",
       "    .dataframe tbody tr th {\n",
       "        vertical-align: top;\n",
       "    }\n",
       "\n",
       "    .dataframe thead th {\n",
       "        text-align: right;\n",
       "    }\n",
       "</style>\n",
       "<table border=\"1\" class=\"dataframe\">\n",
       "  <thead>\n",
       "    <tr style=\"text-align: right;\">\n",
       "      <th></th>\n",
       "      <th>link_id</th>\n",
       "      <th>queue</th>\n",
       "      <th>run</th>\n",
       "      <th>undeparted</th>\n",
       "      <th>length</th>\n",
       "      <th>geometry</th>\n",
       "    </tr>\n",
       "  </thead>\n",
       "  <tbody>\n",
       "  </tbody>\n",
       "</table>\n",
       "</div>"
      ],
      "text/plain": [
       "Empty DataFrame\n",
       "Columns: [link_id, queue, run, undeparted, length, geometry]\n",
       "Index: []"
      ]
     },
     "metadata": {},
     "output_type": "display_data"
    },
    {
     "data": {
      "text/html": [
       "<div>\n",
       "<style scoped>\n",
       "    .dataframe tbody tr th:only-of-type {\n",
       "        vertical-align: middle;\n",
       "    }\n",
       "\n",
       "    .dataframe tbody tr th {\n",
       "        vertical-align: top;\n",
       "    }\n",
       "\n",
       "    .dataframe thead th {\n",
       "        text-align: right;\n",
       "    }\n",
       "</style>\n",
       "<table border=\"1\" class=\"dataframe\">\n",
       "  <thead>\n",
       "    <tr style=\"text-align: right;\">\n",
       "      <th></th>\n",
       "      <th>link_id</th>\n",
       "      <th>queue</th>\n",
       "      <th>run</th>\n",
       "      <th>undeparted</th>\n",
       "      <th>length</th>\n",
       "      <th>geometry</th>\n",
       "    </tr>\n",
       "  </thead>\n",
       "  <tbody>\n",
       "  </tbody>\n",
       "</table>\n",
       "</div>"
      ],
      "text/plain": [
       "Empty DataFrame\n",
       "Columns: [link_id, queue, run, undeparted, length, geometry]\n",
       "Index: []"
      ]
     },
     "metadata": {},
     "output_type": "display_data"
    },
    {
     "data": {
      "text/html": [
       "<div>\n",
       "<style scoped>\n",
       "    .dataframe tbody tr th:only-of-type {\n",
       "        vertical-align: middle;\n",
       "    }\n",
       "\n",
       "    .dataframe tbody tr th {\n",
       "        vertical-align: top;\n",
       "    }\n",
       "\n",
       "    .dataframe thead th {\n",
       "        text-align: right;\n",
       "    }\n",
       "</style>\n",
       "<table border=\"1\" class=\"dataframe\">\n",
       "  <thead>\n",
       "    <tr style=\"text-align: right;\">\n",
       "      <th></th>\n",
       "      <th>link_id</th>\n",
       "      <th>queue</th>\n",
       "      <th>run</th>\n",
       "      <th>undeparted</th>\n",
       "      <th>length</th>\n",
       "      <th>geometry</th>\n",
       "    </tr>\n",
       "  </thead>\n",
       "  <tbody>\n",
       "  </tbody>\n",
       "</table>\n",
       "</div>"
      ],
      "text/plain": [
       "Empty DataFrame\n",
       "Columns: [link_id, queue, run, undeparted, length, geometry]\n",
       "Index: []"
      ]
     },
     "metadata": {},
     "output_type": "display_data"
    },
    {
     "data": {
      "text/html": [
       "<div>\n",
       "<style scoped>\n",
       "    .dataframe tbody tr th:only-of-type {\n",
       "        vertical-align: middle;\n",
       "    }\n",
       "\n",
       "    .dataframe tbody tr th {\n",
       "        vertical-align: top;\n",
       "    }\n",
       "\n",
       "    .dataframe thead th {\n",
       "        text-align: right;\n",
       "    }\n",
       "</style>\n",
       "<table border=\"1\" class=\"dataframe\">\n",
       "  <thead>\n",
       "    <tr style=\"text-align: right;\">\n",
       "      <th></th>\n",
       "      <th>link_id</th>\n",
       "      <th>queue</th>\n",
       "      <th>run</th>\n",
       "      <th>undeparted</th>\n",
       "      <th>length</th>\n",
       "      <th>geometry</th>\n",
       "    </tr>\n",
       "  </thead>\n",
       "  <tbody>\n",
       "  </tbody>\n",
       "</table>\n",
       "</div>"
      ],
      "text/plain": [
       "Empty DataFrame\n",
       "Columns: [link_id, queue, run, undeparted, length, geometry]\n",
       "Index: []"
      ]
     },
     "metadata": {},
     "output_type": "display_data"
    },
    {
     "data": {
      "text/html": [
       "<div>\n",
       "<style scoped>\n",
       "    .dataframe tbody tr th:only-of-type {\n",
       "        vertical-align: middle;\n",
       "    }\n",
       "\n",
       "    .dataframe tbody tr th {\n",
       "        vertical-align: top;\n",
       "    }\n",
       "\n",
       "    .dataframe thead th {\n",
       "        text-align: right;\n",
       "    }\n",
       "</style>\n",
       "<table border=\"1\" class=\"dataframe\">\n",
       "  <thead>\n",
       "    <tr style=\"text-align: right;\">\n",
       "      <th></th>\n",
       "      <th>link_id</th>\n",
       "      <th>queue</th>\n",
       "      <th>run</th>\n",
       "      <th>undeparted</th>\n",
       "      <th>length</th>\n",
       "      <th>geometry</th>\n",
       "    </tr>\n",
       "  </thead>\n",
       "  <tbody>\n",
       "  </tbody>\n",
       "</table>\n",
       "</div>"
      ],
      "text/plain": [
       "Empty DataFrame\n",
       "Columns: [link_id, queue, run, undeparted, length, geometry]\n",
       "Index: []"
      ]
     },
     "metadata": {},
     "output_type": "display_data"
    },
    {
     "data": {
      "text/html": [
       "<div>\n",
       "<style scoped>\n",
       "    .dataframe tbody tr th:only-of-type {\n",
       "        vertical-align: middle;\n",
       "    }\n",
       "\n",
       "    .dataframe tbody tr th {\n",
       "        vertical-align: top;\n",
       "    }\n",
       "\n",
       "    .dataframe thead th {\n",
       "        text-align: right;\n",
       "    }\n",
       "</style>\n",
       "<table border=\"1\" class=\"dataframe\">\n",
       "  <thead>\n",
       "    <tr style=\"text-align: right;\">\n",
       "      <th></th>\n",
       "      <th>link_id</th>\n",
       "      <th>queue</th>\n",
       "      <th>run</th>\n",
       "      <th>undeparted</th>\n",
       "      <th>length</th>\n",
       "      <th>geometry</th>\n",
       "    </tr>\n",
       "  </thead>\n",
       "  <tbody>\n",
       "  </tbody>\n",
       "</table>\n",
       "</div>"
      ],
      "text/plain": [
       "Empty DataFrame\n",
       "Columns: [link_id, queue, run, undeparted, length, geometry]\n",
       "Index: []"
      ]
     },
     "metadata": {},
     "output_type": "display_data"
    },
    {
     "data": {
      "text/html": [
       "<div>\n",
       "<style scoped>\n",
       "    .dataframe tbody tr th:only-of-type {\n",
       "        vertical-align: middle;\n",
       "    }\n",
       "\n",
       "    .dataframe tbody tr th {\n",
       "        vertical-align: top;\n",
       "    }\n",
       "\n",
       "    .dataframe thead th {\n",
       "        text-align: right;\n",
       "    }\n",
       "</style>\n",
       "<table border=\"1\" class=\"dataframe\">\n",
       "  <thead>\n",
       "    <tr style=\"text-align: right;\">\n",
       "      <th></th>\n",
       "      <th>link_id</th>\n",
       "      <th>queue</th>\n",
       "      <th>run</th>\n",
       "      <th>undeparted</th>\n",
       "      <th>length</th>\n",
       "      <th>geometry</th>\n",
       "    </tr>\n",
       "  </thead>\n",
       "  <tbody>\n",
       "  </tbody>\n",
       "</table>\n",
       "</div>"
      ],
      "text/plain": [
       "Empty DataFrame\n",
       "Columns: [link_id, queue, run, undeparted, length, geometry]\n",
       "Index: []"
      ]
     },
     "metadata": {},
     "output_type": "display_data"
    },
    {
     "data": {
      "text/html": [
       "<div>\n",
       "<style scoped>\n",
       "    .dataframe tbody tr th:only-of-type {\n",
       "        vertical-align: middle;\n",
       "    }\n",
       "\n",
       "    .dataframe tbody tr th {\n",
       "        vertical-align: top;\n",
       "    }\n",
       "\n",
       "    .dataframe thead th {\n",
       "        text-align: right;\n",
       "    }\n",
       "</style>\n",
       "<table border=\"1\" class=\"dataframe\">\n",
       "  <thead>\n",
       "    <tr style=\"text-align: right;\">\n",
       "      <th></th>\n",
       "      <th>link_id</th>\n",
       "      <th>queue</th>\n",
       "      <th>run</th>\n",
       "      <th>undeparted</th>\n",
       "      <th>length</th>\n",
       "      <th>geometry</th>\n",
       "    </tr>\n",
       "  </thead>\n",
       "  <tbody>\n",
       "  </tbody>\n",
       "</table>\n",
       "</div>"
      ],
      "text/plain": [
       "Empty DataFrame\n",
       "Columns: [link_id, queue, run, undeparted, length, geometry]\n",
       "Index: []"
      ]
     },
     "metadata": {},
     "output_type": "display_data"
    },
    {
     "data": {
      "text/html": [
       "<div>\n",
       "<style scoped>\n",
       "    .dataframe tbody tr th:only-of-type {\n",
       "        vertical-align: middle;\n",
       "    }\n",
       "\n",
       "    .dataframe tbody tr th {\n",
       "        vertical-align: top;\n",
       "    }\n",
       "\n",
       "    .dataframe thead th {\n",
       "        text-align: right;\n",
       "    }\n",
       "</style>\n",
       "<table border=\"1\" class=\"dataframe\">\n",
       "  <thead>\n",
       "    <tr style=\"text-align: right;\">\n",
       "      <th></th>\n",
       "      <th>link_id</th>\n",
       "      <th>queue</th>\n",
       "      <th>run</th>\n",
       "      <th>undeparted</th>\n",
       "      <th>length</th>\n",
       "      <th>geometry</th>\n",
       "    </tr>\n",
       "  </thead>\n",
       "  <tbody>\n",
       "  </tbody>\n",
       "</table>\n",
       "</div>"
      ],
      "text/plain": [
       "Empty DataFrame\n",
       "Columns: [link_id, queue, run, undeparted, length, geometry]\n",
       "Index: []"
      ]
     },
     "metadata": {},
     "output_type": "display_data"
    },
    {
     "data": {
      "text/html": [
       "<div>\n",
       "<style scoped>\n",
       "    .dataframe tbody tr th:only-of-type {\n",
       "        vertical-align: middle;\n",
       "    }\n",
       "\n",
       "    .dataframe tbody tr th {\n",
       "        vertical-align: top;\n",
       "    }\n",
       "\n",
       "    .dataframe thead th {\n",
       "        text-align: right;\n",
       "    }\n",
       "</style>\n",
       "<table border=\"1\" class=\"dataframe\">\n",
       "  <thead>\n",
       "    <tr style=\"text-align: right;\">\n",
       "      <th></th>\n",
       "      <th>link_id</th>\n",
       "      <th>queue</th>\n",
       "      <th>run</th>\n",
       "      <th>undeparted</th>\n",
       "      <th>length</th>\n",
       "      <th>geometry</th>\n",
       "    </tr>\n",
       "  </thead>\n",
       "  <tbody>\n",
       "  </tbody>\n",
       "</table>\n",
       "</div>"
      ],
      "text/plain": [
       "Empty DataFrame\n",
       "Columns: [link_id, queue, run, undeparted, length, geometry]\n",
       "Index: []"
      ]
     },
     "metadata": {},
     "output_type": "display_data"
    },
    {
     "data": {
      "text/html": [
       "<div>\n",
       "<style scoped>\n",
       "    .dataframe tbody tr th:only-of-type {\n",
       "        vertical-align: middle;\n",
       "    }\n",
       "\n",
       "    .dataframe tbody tr th {\n",
       "        vertical-align: top;\n",
       "    }\n",
       "\n",
       "    .dataframe thead th {\n",
       "        text-align: right;\n",
       "    }\n",
       "</style>\n",
       "<table border=\"1\" class=\"dataframe\">\n",
       "  <thead>\n",
       "    <tr style=\"text-align: right;\">\n",
       "      <th></th>\n",
       "      <th>link_id</th>\n",
       "      <th>queue</th>\n",
       "      <th>run</th>\n",
       "      <th>undeparted</th>\n",
       "      <th>length</th>\n",
       "      <th>geometry</th>\n",
       "    </tr>\n",
       "  </thead>\n",
       "  <tbody>\n",
       "  </tbody>\n",
       "</table>\n",
       "</div>"
      ],
      "text/plain": [
       "Empty DataFrame\n",
       "Columns: [link_id, queue, run, undeparted, length, geometry]\n",
       "Index: []"
      ]
     },
     "metadata": {},
     "output_type": "display_data"
    },
    {
     "data": {
      "text/html": [
       "<div>\n",
       "<style scoped>\n",
       "    .dataframe tbody tr th:only-of-type {\n",
       "        vertical-align: middle;\n",
       "    }\n",
       "\n",
       "    .dataframe tbody tr th {\n",
       "        vertical-align: top;\n",
       "    }\n",
       "\n",
       "    .dataframe thead th {\n",
       "        text-align: right;\n",
       "    }\n",
       "</style>\n",
       "<table border=\"1\" class=\"dataframe\">\n",
       "  <thead>\n",
       "    <tr style=\"text-align: right;\">\n",
       "      <th></th>\n",
       "      <th>link_id</th>\n",
       "      <th>queue</th>\n",
       "      <th>run</th>\n",
       "      <th>undeparted</th>\n",
       "      <th>length</th>\n",
       "      <th>geometry</th>\n",
       "    </tr>\n",
       "  </thead>\n",
       "  <tbody>\n",
       "  </tbody>\n",
       "</table>\n",
       "</div>"
      ],
      "text/plain": [
       "Empty DataFrame\n",
       "Columns: [link_id, queue, run, undeparted, length, geometry]\n",
       "Index: []"
      ]
     },
     "metadata": {},
     "output_type": "display_data"
    },
    {
     "data": {
      "text/html": [
       "<div>\n",
       "<style scoped>\n",
       "    .dataframe tbody tr th:only-of-type {\n",
       "        vertical-align: middle;\n",
       "    }\n",
       "\n",
       "    .dataframe tbody tr th {\n",
       "        vertical-align: top;\n",
       "    }\n",
       "\n",
       "    .dataframe thead th {\n",
       "        text-align: right;\n",
       "    }\n",
       "</style>\n",
       "<table border=\"1\" class=\"dataframe\">\n",
       "  <thead>\n",
       "    <tr style=\"text-align: right;\">\n",
       "      <th></th>\n",
       "      <th>link_id</th>\n",
       "      <th>queue</th>\n",
       "      <th>run</th>\n",
       "      <th>undeparted</th>\n",
       "      <th>length</th>\n",
       "      <th>geometry</th>\n",
       "    </tr>\n",
       "  </thead>\n",
       "  <tbody>\n",
       "  </tbody>\n",
       "</table>\n",
       "</div>"
      ],
      "text/plain": [
       "Empty DataFrame\n",
       "Columns: [link_id, queue, run, undeparted, length, geometry]\n",
       "Index: []"
      ]
     },
     "metadata": {},
     "output_type": "display_data"
    },
    {
     "data": {
      "text/html": [
       "<div>\n",
       "<style scoped>\n",
       "    .dataframe tbody tr th:only-of-type {\n",
       "        vertical-align: middle;\n",
       "    }\n",
       "\n",
       "    .dataframe tbody tr th {\n",
       "        vertical-align: top;\n",
       "    }\n",
       "\n",
       "    .dataframe thead th {\n",
       "        text-align: right;\n",
       "    }\n",
       "</style>\n",
       "<table border=\"1\" class=\"dataframe\">\n",
       "  <thead>\n",
       "    <tr style=\"text-align: right;\">\n",
       "      <th></th>\n",
       "      <th>link_id</th>\n",
       "      <th>queue</th>\n",
       "      <th>run</th>\n",
       "      <th>undeparted</th>\n",
       "      <th>length</th>\n",
       "      <th>geometry</th>\n",
       "    </tr>\n",
       "  </thead>\n",
       "  <tbody>\n",
       "  </tbody>\n",
       "</table>\n",
       "</div>"
      ],
      "text/plain": [
       "Empty DataFrame\n",
       "Columns: [link_id, queue, run, undeparted, length, geometry]\n",
       "Index: []"
      ]
     },
     "metadata": {},
     "output_type": "display_data"
    },
    {
     "data": {
      "text/html": [
       "<div>\n",
       "<style scoped>\n",
       "    .dataframe tbody tr th:only-of-type {\n",
       "        vertical-align: middle;\n",
       "    }\n",
       "\n",
       "    .dataframe tbody tr th {\n",
       "        vertical-align: top;\n",
       "    }\n",
       "\n",
       "    .dataframe thead th {\n",
       "        text-align: right;\n",
       "    }\n",
       "</style>\n",
       "<table border=\"1\" class=\"dataframe\">\n",
       "  <thead>\n",
       "    <tr style=\"text-align: right;\">\n",
       "      <th></th>\n",
       "      <th>link_id</th>\n",
       "      <th>queue</th>\n",
       "      <th>run</th>\n",
       "      <th>undeparted</th>\n",
       "      <th>length</th>\n",
       "      <th>geometry</th>\n",
       "    </tr>\n",
       "  </thead>\n",
       "  <tbody>\n",
       "  </tbody>\n",
       "</table>\n",
       "</div>"
      ],
      "text/plain": [
       "Empty DataFrame\n",
       "Columns: [link_id, queue, run, undeparted, length, geometry]\n",
       "Index: []"
      ]
     },
     "metadata": {},
     "output_type": "display_data"
    },
    {
     "data": {
      "text/html": [
       "<div>\n",
       "<style scoped>\n",
       "    .dataframe tbody tr th:only-of-type {\n",
       "        vertical-align: middle;\n",
       "    }\n",
       "\n",
       "    .dataframe tbody tr th {\n",
       "        vertical-align: top;\n",
       "    }\n",
       "\n",
       "    .dataframe thead th {\n",
       "        text-align: right;\n",
       "    }\n",
       "</style>\n",
       "<table border=\"1\" class=\"dataframe\">\n",
       "  <thead>\n",
       "    <tr style=\"text-align: right;\">\n",
       "      <th></th>\n",
       "      <th>link_id</th>\n",
       "      <th>queue</th>\n",
       "      <th>run</th>\n",
       "      <th>undeparted</th>\n",
       "      <th>length</th>\n",
       "      <th>geometry</th>\n",
       "    </tr>\n",
       "  </thead>\n",
       "  <tbody>\n",
       "  </tbody>\n",
       "</table>\n",
       "</div>"
      ],
      "text/plain": [
       "Empty DataFrame\n",
       "Columns: [link_id, queue, run, undeparted, length, geometry]\n",
       "Index: []"
      ]
     },
     "metadata": {},
     "output_type": "display_data"
    },
    {
     "data": {
      "text/html": [
       "<div>\n",
       "<style scoped>\n",
       "    .dataframe tbody tr th:only-of-type {\n",
       "        vertical-align: middle;\n",
       "    }\n",
       "\n",
       "    .dataframe tbody tr th {\n",
       "        vertical-align: top;\n",
       "    }\n",
       "\n",
       "    .dataframe thead th {\n",
       "        text-align: right;\n",
       "    }\n",
       "</style>\n",
       "<table border=\"1\" class=\"dataframe\">\n",
       "  <thead>\n",
       "    <tr style=\"text-align: right;\">\n",
       "      <th></th>\n",
       "      <th>link_id</th>\n",
       "      <th>queue</th>\n",
       "      <th>run</th>\n",
       "      <th>undeparted</th>\n",
       "      <th>length</th>\n",
       "      <th>geometry</th>\n",
       "    </tr>\n",
       "  </thead>\n",
       "  <tbody>\n",
       "  </tbody>\n",
       "</table>\n",
       "</div>"
      ],
      "text/plain": [
       "Empty DataFrame\n",
       "Columns: [link_id, queue, run, undeparted, length, geometry]\n",
       "Index: []"
      ]
     },
     "metadata": {},
     "output_type": "display_data"
    },
    {
     "data": {
      "text/html": [
       "<div>\n",
       "<style scoped>\n",
       "    .dataframe tbody tr th:only-of-type {\n",
       "        vertical-align: middle;\n",
       "    }\n",
       "\n",
       "    .dataframe tbody tr th {\n",
       "        vertical-align: top;\n",
       "    }\n",
       "\n",
       "    .dataframe thead th {\n",
       "        text-align: right;\n",
       "    }\n",
       "</style>\n",
       "<table border=\"1\" class=\"dataframe\">\n",
       "  <thead>\n",
       "    <tr style=\"text-align: right;\">\n",
       "      <th></th>\n",
       "      <th>link_id</th>\n",
       "      <th>queue</th>\n",
       "      <th>run</th>\n",
       "      <th>undeparted</th>\n",
       "      <th>length</th>\n",
       "      <th>geometry</th>\n",
       "    </tr>\n",
       "  </thead>\n",
       "  <tbody>\n",
       "  </tbody>\n",
       "</table>\n",
       "</div>"
      ],
      "text/plain": [
       "Empty DataFrame\n",
       "Columns: [link_id, queue, run, undeparted, length, geometry]\n",
       "Index: []"
      ]
     },
     "metadata": {},
     "output_type": "display_data"
    },
    {
     "data": {
      "text/html": [
       "<div>\n",
       "<style scoped>\n",
       "    .dataframe tbody tr th:only-of-type {\n",
       "        vertical-align: middle;\n",
       "    }\n",
       "\n",
       "    .dataframe tbody tr th {\n",
       "        vertical-align: top;\n",
       "    }\n",
       "\n",
       "    .dataframe thead th {\n",
       "        text-align: right;\n",
       "    }\n",
       "</style>\n",
       "<table border=\"1\" class=\"dataframe\">\n",
       "  <thead>\n",
       "    <tr style=\"text-align: right;\">\n",
       "      <th></th>\n",
       "      <th>link_id</th>\n",
       "      <th>queue</th>\n",
       "      <th>run</th>\n",
       "      <th>undeparted</th>\n",
       "      <th>length</th>\n",
       "      <th>geometry</th>\n",
       "    </tr>\n",
       "  </thead>\n",
       "  <tbody>\n",
       "  </tbody>\n",
       "</table>\n",
       "</div>"
      ],
      "text/plain": [
       "Empty DataFrame\n",
       "Columns: [link_id, queue, run, undeparted, length, geometry]\n",
       "Index: []"
      ]
     },
     "metadata": {},
     "output_type": "display_data"
    },
    {
     "data": {
      "text/html": [
       "<div>\n",
       "<style scoped>\n",
       "    .dataframe tbody tr th:only-of-type {\n",
       "        vertical-align: middle;\n",
       "    }\n",
       "\n",
       "    .dataframe tbody tr th {\n",
       "        vertical-align: top;\n",
       "    }\n",
       "\n",
       "    .dataframe thead th {\n",
       "        text-align: right;\n",
       "    }\n",
       "</style>\n",
       "<table border=\"1\" class=\"dataframe\">\n",
       "  <thead>\n",
       "    <tr style=\"text-align: right;\">\n",
       "      <th></th>\n",
       "      <th>link_id</th>\n",
       "      <th>queue</th>\n",
       "      <th>run</th>\n",
       "      <th>undeparted</th>\n",
       "      <th>length</th>\n",
       "      <th>geometry</th>\n",
       "    </tr>\n",
       "  </thead>\n",
       "  <tbody>\n",
       "  </tbody>\n",
       "</table>\n",
       "</div>"
      ],
      "text/plain": [
       "Empty DataFrame\n",
       "Columns: [link_id, queue, run, undeparted, length, geometry]\n",
       "Index: []"
      ]
     },
     "metadata": {},
     "output_type": "display_data"
    },
    {
     "data": {
      "text/html": [
       "<div>\n",
       "<style scoped>\n",
       "    .dataframe tbody tr th:only-of-type {\n",
       "        vertical-align: middle;\n",
       "    }\n",
       "\n",
       "    .dataframe tbody tr th {\n",
       "        vertical-align: top;\n",
       "    }\n",
       "\n",
       "    .dataframe thead th {\n",
       "        text-align: right;\n",
       "    }\n",
       "</style>\n",
       "<table border=\"1\" class=\"dataframe\">\n",
       "  <thead>\n",
       "    <tr style=\"text-align: right;\">\n",
       "      <th></th>\n",
       "      <th>link_id</th>\n",
       "      <th>queue</th>\n",
       "      <th>run</th>\n",
       "      <th>undeparted</th>\n",
       "      <th>length</th>\n",
       "      <th>geometry</th>\n",
       "    </tr>\n",
       "  </thead>\n",
       "  <tbody>\n",
       "  </tbody>\n",
       "</table>\n",
       "</div>"
      ],
      "text/plain": [
       "Empty DataFrame\n",
       "Columns: [link_id, queue, run, undeparted, length, geometry]\n",
       "Index: []"
      ]
     },
     "metadata": {},
     "output_type": "display_data"
    },
    {
     "data": {
      "text/html": [
       "<div>\n",
       "<style scoped>\n",
       "    .dataframe tbody tr th:only-of-type {\n",
       "        vertical-align: middle;\n",
       "    }\n",
       "\n",
       "    .dataframe tbody tr th {\n",
       "        vertical-align: top;\n",
       "    }\n",
       "\n",
       "    .dataframe thead th {\n",
       "        text-align: right;\n",
       "    }\n",
       "</style>\n",
       "<table border=\"1\" class=\"dataframe\">\n",
       "  <thead>\n",
       "    <tr style=\"text-align: right;\">\n",
       "      <th></th>\n",
       "      <th>link_id</th>\n",
       "      <th>queue</th>\n",
       "      <th>run</th>\n",
       "      <th>undeparted</th>\n",
       "      <th>length</th>\n",
       "      <th>geometry</th>\n",
       "    </tr>\n",
       "  </thead>\n",
       "  <tbody>\n",
       "  </tbody>\n",
       "</table>\n",
       "</div>"
      ],
      "text/plain": [
       "Empty DataFrame\n",
       "Columns: [link_id, queue, run, undeparted, length, geometry]\n",
       "Index: []"
      ]
     },
     "metadata": {},
     "output_type": "display_data"
    },
    {
     "data": {
      "text/html": [
       "<div>\n",
       "<style scoped>\n",
       "    .dataframe tbody tr th:only-of-type {\n",
       "        vertical-align: middle;\n",
       "    }\n",
       "\n",
       "    .dataframe tbody tr th {\n",
       "        vertical-align: top;\n",
       "    }\n",
       "\n",
       "    .dataframe thead th {\n",
       "        text-align: right;\n",
       "    }\n",
       "</style>\n",
       "<table border=\"1\" class=\"dataframe\">\n",
       "  <thead>\n",
       "    <tr style=\"text-align: right;\">\n",
       "      <th></th>\n",
       "      <th>link_id</th>\n",
       "      <th>queue</th>\n",
       "      <th>run</th>\n",
       "      <th>undeparted</th>\n",
       "      <th>length</th>\n",
       "      <th>geometry</th>\n",
       "    </tr>\n",
       "  </thead>\n",
       "  <tbody>\n",
       "  </tbody>\n",
       "</table>\n",
       "</div>"
      ],
      "text/plain": [
       "Empty DataFrame\n",
       "Columns: [link_id, queue, run, undeparted, length, geometry]\n",
       "Index: []"
      ]
     },
     "metadata": {},
     "output_type": "display_data"
    },
    {
     "data": {
      "text/html": [
       "<div>\n",
       "<style scoped>\n",
       "    .dataframe tbody tr th:only-of-type {\n",
       "        vertical-align: middle;\n",
       "    }\n",
       "\n",
       "    .dataframe tbody tr th {\n",
       "        vertical-align: top;\n",
       "    }\n",
       "\n",
       "    .dataframe thead th {\n",
       "        text-align: right;\n",
       "    }\n",
       "</style>\n",
       "<table border=\"1\" class=\"dataframe\">\n",
       "  <thead>\n",
       "    <tr style=\"text-align: right;\">\n",
       "      <th></th>\n",
       "      <th>link_id</th>\n",
       "      <th>queue</th>\n",
       "      <th>run</th>\n",
       "      <th>undeparted</th>\n",
       "      <th>length</th>\n",
       "      <th>geometry</th>\n",
       "    </tr>\n",
       "  </thead>\n",
       "  <tbody>\n",
       "  </tbody>\n",
       "</table>\n",
       "</div>"
      ],
      "text/plain": [
       "Empty DataFrame\n",
       "Columns: [link_id, queue, run, undeparted, length, geometry]\n",
       "Index: []"
      ]
     },
     "metadata": {},
     "output_type": "display_data"
    },
    {
     "data": {
      "text/html": [
       "<div>\n",
       "<style scoped>\n",
       "    .dataframe tbody tr th:only-of-type {\n",
       "        vertical-align: middle;\n",
       "    }\n",
       "\n",
       "    .dataframe tbody tr th {\n",
       "        vertical-align: top;\n",
       "    }\n",
       "\n",
       "    .dataframe thead th {\n",
       "        text-align: right;\n",
       "    }\n",
       "</style>\n",
       "<table border=\"1\" class=\"dataframe\">\n",
       "  <thead>\n",
       "    <tr style=\"text-align: right;\">\n",
       "      <th></th>\n",
       "      <th>link_id</th>\n",
       "      <th>queue</th>\n",
       "      <th>run</th>\n",
       "      <th>undeparted</th>\n",
       "      <th>length</th>\n",
       "      <th>geometry</th>\n",
       "    </tr>\n",
       "  </thead>\n",
       "  <tbody>\n",
       "  </tbody>\n",
       "</table>\n",
       "</div>"
      ],
      "text/plain": [
       "Empty DataFrame\n",
       "Columns: [link_id, queue, run, undeparted, length, geometry]\n",
       "Index: []"
      ]
     },
     "metadata": {},
     "output_type": "display_data"
    },
    {
     "data": {
      "text/html": [
       "<div>\n",
       "<style scoped>\n",
       "    .dataframe tbody tr th:only-of-type {\n",
       "        vertical-align: middle;\n",
       "    }\n",
       "\n",
       "    .dataframe tbody tr th {\n",
       "        vertical-align: top;\n",
       "    }\n",
       "\n",
       "    .dataframe thead th {\n",
       "        text-align: right;\n",
       "    }\n",
       "</style>\n",
       "<table border=\"1\" class=\"dataframe\">\n",
       "  <thead>\n",
       "    <tr style=\"text-align: right;\">\n",
       "      <th></th>\n",
       "      <th>link_id</th>\n",
       "      <th>queue</th>\n",
       "      <th>run</th>\n",
       "      <th>undeparted</th>\n",
       "      <th>length</th>\n",
       "      <th>geometry</th>\n",
       "    </tr>\n",
       "  </thead>\n",
       "  <tbody>\n",
       "  </tbody>\n",
       "</table>\n",
       "</div>"
      ],
      "text/plain": [
       "Empty DataFrame\n",
       "Columns: [link_id, queue, run, undeparted, length, geometry]\n",
       "Index: []"
      ]
     },
     "metadata": {},
     "output_type": "display_data"
    },
    {
     "data": {
      "text/html": [
       "<div>\n",
       "<style scoped>\n",
       "    .dataframe tbody tr th:only-of-type {\n",
       "        vertical-align: middle;\n",
       "    }\n",
       "\n",
       "    .dataframe tbody tr th {\n",
       "        vertical-align: top;\n",
       "    }\n",
       "\n",
       "    .dataframe thead th {\n",
       "        text-align: right;\n",
       "    }\n",
       "</style>\n",
       "<table border=\"1\" class=\"dataframe\">\n",
       "  <thead>\n",
       "    <tr style=\"text-align: right;\">\n",
       "      <th></th>\n",
       "      <th>link_id</th>\n",
       "      <th>queue</th>\n",
       "      <th>run</th>\n",
       "      <th>undeparted</th>\n",
       "      <th>length</th>\n",
       "      <th>geometry</th>\n",
       "    </tr>\n",
       "  </thead>\n",
       "  <tbody>\n",
       "  </tbody>\n",
       "</table>\n",
       "</div>"
      ],
      "text/plain": [
       "Empty DataFrame\n",
       "Columns: [link_id, queue, run, undeparted, length, geometry]\n",
       "Index: []"
      ]
     },
     "metadata": {},
     "output_type": "display_data"
    },
    {
     "data": {
      "text/html": [
       "<div>\n",
       "<style scoped>\n",
       "    .dataframe tbody tr th:only-of-type {\n",
       "        vertical-align: middle;\n",
       "    }\n",
       "\n",
       "    .dataframe tbody tr th {\n",
       "        vertical-align: top;\n",
       "    }\n",
       "\n",
       "    .dataframe thead th {\n",
       "        text-align: right;\n",
       "    }\n",
       "</style>\n",
       "<table border=\"1\" class=\"dataframe\">\n",
       "  <thead>\n",
       "    <tr style=\"text-align: right;\">\n",
       "      <th></th>\n",
       "      <th>link_id</th>\n",
       "      <th>queue</th>\n",
       "      <th>run</th>\n",
       "      <th>undeparted</th>\n",
       "      <th>length</th>\n",
       "      <th>geometry</th>\n",
       "    </tr>\n",
       "  </thead>\n",
       "  <tbody>\n",
       "  </tbody>\n",
       "</table>\n",
       "</div>"
      ],
      "text/plain": [
       "Empty DataFrame\n",
       "Columns: [link_id, queue, run, undeparted, length, geometry]\n",
       "Index: []"
      ]
     },
     "metadata": {},
     "output_type": "display_data"
    },
    {
     "data": {
      "text/html": [
       "<div>\n",
       "<style scoped>\n",
       "    .dataframe tbody tr th:only-of-type {\n",
       "        vertical-align: middle;\n",
       "    }\n",
       "\n",
       "    .dataframe tbody tr th {\n",
       "        vertical-align: top;\n",
       "    }\n",
       "\n",
       "    .dataframe thead th {\n",
       "        text-align: right;\n",
       "    }\n",
       "</style>\n",
       "<table border=\"1\" class=\"dataframe\">\n",
       "  <thead>\n",
       "    <tr style=\"text-align: right;\">\n",
       "      <th></th>\n",
       "      <th>link_id</th>\n",
       "      <th>queue</th>\n",
       "      <th>run</th>\n",
       "      <th>undeparted</th>\n",
       "      <th>length</th>\n",
       "      <th>geometry</th>\n",
       "    </tr>\n",
       "  </thead>\n",
       "  <tbody>\n",
       "  </tbody>\n",
       "</table>\n",
       "</div>"
      ],
      "text/plain": [
       "Empty DataFrame\n",
       "Columns: [link_id, queue, run, undeparted, length, geometry]\n",
       "Index: []"
      ]
     },
     "metadata": {},
     "output_type": "display_data"
    },
    {
     "data": {
      "text/html": [
       "<div>\n",
       "<style scoped>\n",
       "    .dataframe tbody tr th:only-of-type {\n",
       "        vertical-align: middle;\n",
       "    }\n",
       "\n",
       "    .dataframe tbody tr th {\n",
       "        vertical-align: top;\n",
       "    }\n",
       "\n",
       "    .dataframe thead th {\n",
       "        text-align: right;\n",
       "    }\n",
       "</style>\n",
       "<table border=\"1\" class=\"dataframe\">\n",
       "  <thead>\n",
       "    <tr style=\"text-align: right;\">\n",
       "      <th></th>\n",
       "      <th>link_id</th>\n",
       "      <th>queue</th>\n",
       "      <th>run</th>\n",
       "      <th>undeparted</th>\n",
       "      <th>length</th>\n",
       "      <th>geometry</th>\n",
       "    </tr>\n",
       "  </thead>\n",
       "  <tbody>\n",
       "  </tbody>\n",
       "</table>\n",
       "</div>"
      ],
      "text/plain": [
       "Empty DataFrame\n",
       "Columns: [link_id, queue, run, undeparted, length, geometry]\n",
       "Index: []"
      ]
     },
     "metadata": {},
     "output_type": "display_data"
    },
    {
     "data": {
      "text/html": [
       "<div>\n",
       "<style scoped>\n",
       "    .dataframe tbody tr th:only-of-type {\n",
       "        vertical-align: middle;\n",
       "    }\n",
       "\n",
       "    .dataframe tbody tr th {\n",
       "        vertical-align: top;\n",
       "    }\n",
       "\n",
       "    .dataframe thead th {\n",
       "        text-align: right;\n",
       "    }\n",
       "</style>\n",
       "<table border=\"1\" class=\"dataframe\">\n",
       "  <thead>\n",
       "    <tr style=\"text-align: right;\">\n",
       "      <th></th>\n",
       "      <th>link_id</th>\n",
       "      <th>queue</th>\n",
       "      <th>run</th>\n",
       "      <th>undeparted</th>\n",
       "      <th>length</th>\n",
       "      <th>geometry</th>\n",
       "    </tr>\n",
       "  </thead>\n",
       "  <tbody>\n",
       "  </tbody>\n",
       "</table>\n",
       "</div>"
      ],
      "text/plain": [
       "Empty DataFrame\n",
       "Columns: [link_id, queue, run, undeparted, length, geometry]\n",
       "Index: []"
      ]
     },
     "metadata": {},
     "output_type": "display_data"
    },
    {
     "data": {
      "text/html": [
       "<div>\n",
       "<style scoped>\n",
       "    .dataframe tbody tr th:only-of-type {\n",
       "        vertical-align: middle;\n",
       "    }\n",
       "\n",
       "    .dataframe tbody tr th {\n",
       "        vertical-align: top;\n",
       "    }\n",
       "\n",
       "    .dataframe thead th {\n",
       "        text-align: right;\n",
       "    }\n",
       "</style>\n",
       "<table border=\"1\" class=\"dataframe\">\n",
       "  <thead>\n",
       "    <tr style=\"text-align: right;\">\n",
       "      <th></th>\n",
       "      <th>link_id</th>\n",
       "      <th>queue</th>\n",
       "      <th>run</th>\n",
       "      <th>undeparted</th>\n",
       "      <th>length</th>\n",
       "      <th>geometry</th>\n",
       "    </tr>\n",
       "  </thead>\n",
       "  <tbody>\n",
       "  </tbody>\n",
       "</table>\n",
       "</div>"
      ],
      "text/plain": [
       "Empty DataFrame\n",
       "Columns: [link_id, queue, run, undeparted, length, geometry]\n",
       "Index: []"
      ]
     },
     "metadata": {},
     "output_type": "display_data"
    },
    {
     "data": {
      "text/html": [
       "<div>\n",
       "<style scoped>\n",
       "    .dataframe tbody tr th:only-of-type {\n",
       "        vertical-align: middle;\n",
       "    }\n",
       "\n",
       "    .dataframe tbody tr th {\n",
       "        vertical-align: top;\n",
       "    }\n",
       "\n",
       "    .dataframe thead th {\n",
       "        text-align: right;\n",
       "    }\n",
       "</style>\n",
       "<table border=\"1\" class=\"dataframe\">\n",
       "  <thead>\n",
       "    <tr style=\"text-align: right;\">\n",
       "      <th></th>\n",
       "      <th>link_id</th>\n",
       "      <th>queue</th>\n",
       "      <th>run</th>\n",
       "      <th>undeparted</th>\n",
       "      <th>length</th>\n",
       "      <th>geometry</th>\n",
       "    </tr>\n",
       "  </thead>\n",
       "  <tbody>\n",
       "  </tbody>\n",
       "</table>\n",
       "</div>"
      ],
      "text/plain": [
       "Empty DataFrame\n",
       "Columns: [link_id, queue, run, undeparted, length, geometry]\n",
       "Index: []"
      ]
     },
     "metadata": {},
     "output_type": "display_data"
    },
    {
     "data": {
      "text/html": [
       "<div>\n",
       "<style scoped>\n",
       "    .dataframe tbody tr th:only-of-type {\n",
       "        vertical-align: middle;\n",
       "    }\n",
       "\n",
       "    .dataframe tbody tr th {\n",
       "        vertical-align: top;\n",
       "    }\n",
       "\n",
       "    .dataframe thead th {\n",
       "        text-align: right;\n",
       "    }\n",
       "</style>\n",
       "<table border=\"1\" class=\"dataframe\">\n",
       "  <thead>\n",
       "    <tr style=\"text-align: right;\">\n",
       "      <th></th>\n",
       "      <th>link_id</th>\n",
       "      <th>queue</th>\n",
       "      <th>run</th>\n",
       "      <th>undeparted</th>\n",
       "      <th>length</th>\n",
       "      <th>geometry</th>\n",
       "    </tr>\n",
       "  </thead>\n",
       "  <tbody>\n",
       "  </tbody>\n",
       "</table>\n",
       "</div>"
      ],
      "text/plain": [
       "Empty DataFrame\n",
       "Columns: [link_id, queue, run, undeparted, length, geometry]\n",
       "Index: []"
      ]
     },
     "metadata": {},
     "output_type": "display_data"
    },
    {
     "data": {
      "text/html": [
       "<div>\n",
       "<style scoped>\n",
       "    .dataframe tbody tr th:only-of-type {\n",
       "        vertical-align: middle;\n",
       "    }\n",
       "\n",
       "    .dataframe tbody tr th {\n",
       "        vertical-align: top;\n",
       "    }\n",
       "\n",
       "    .dataframe thead th {\n",
       "        text-align: right;\n",
       "    }\n",
       "</style>\n",
       "<table border=\"1\" class=\"dataframe\">\n",
       "  <thead>\n",
       "    <tr style=\"text-align: right;\">\n",
       "      <th></th>\n",
       "      <th>link_id</th>\n",
       "      <th>queue</th>\n",
       "      <th>run</th>\n",
       "      <th>undeparted</th>\n",
       "      <th>length</th>\n",
       "      <th>geometry</th>\n",
       "    </tr>\n",
       "  </thead>\n",
       "  <tbody>\n",
       "  </tbody>\n",
       "</table>\n",
       "</div>"
      ],
      "text/plain": [
       "Empty DataFrame\n",
       "Columns: [link_id, queue, run, undeparted, length, geometry]\n",
       "Index: []"
      ]
     },
     "metadata": {},
     "output_type": "display_data"
    },
    {
     "data": {
      "text/html": [
       "<div>\n",
       "<style scoped>\n",
       "    .dataframe tbody tr th:only-of-type {\n",
       "        vertical-align: middle;\n",
       "    }\n",
       "\n",
       "    .dataframe tbody tr th {\n",
       "        vertical-align: top;\n",
       "    }\n",
       "\n",
       "    .dataframe thead th {\n",
       "        text-align: right;\n",
       "    }\n",
       "</style>\n",
       "<table border=\"1\" class=\"dataframe\">\n",
       "  <thead>\n",
       "    <tr style=\"text-align: right;\">\n",
       "      <th></th>\n",
       "      <th>link_id</th>\n",
       "      <th>queue</th>\n",
       "      <th>run</th>\n",
       "      <th>undeparted</th>\n",
       "      <th>length</th>\n",
       "      <th>geometry</th>\n",
       "    </tr>\n",
       "  </thead>\n",
       "  <tbody>\n",
       "  </tbody>\n",
       "</table>\n",
       "</div>"
      ],
      "text/plain": [
       "Empty DataFrame\n",
       "Columns: [link_id, queue, run, undeparted, length, geometry]\n",
       "Index: []"
      ]
     },
     "metadata": {},
     "output_type": "display_data"
    },
    {
     "data": {
      "text/html": [
       "<div>\n",
       "<style scoped>\n",
       "    .dataframe tbody tr th:only-of-type {\n",
       "        vertical-align: middle;\n",
       "    }\n",
       "\n",
       "    .dataframe tbody tr th {\n",
       "        vertical-align: top;\n",
       "    }\n",
       "\n",
       "    .dataframe thead th {\n",
       "        text-align: right;\n",
       "    }\n",
       "</style>\n",
       "<table border=\"1\" class=\"dataframe\">\n",
       "  <thead>\n",
       "    <tr style=\"text-align: right;\">\n",
       "      <th></th>\n",
       "      <th>link_id</th>\n",
       "      <th>queue</th>\n",
       "      <th>run</th>\n",
       "      <th>undeparted</th>\n",
       "      <th>length</th>\n",
       "      <th>geometry</th>\n",
       "    </tr>\n",
       "  </thead>\n",
       "  <tbody>\n",
       "  </tbody>\n",
       "</table>\n",
       "</div>"
      ],
      "text/plain": [
       "Empty DataFrame\n",
       "Columns: [link_id, queue, run, undeparted, length, geometry]\n",
       "Index: []"
      ]
     },
     "metadata": {},
     "output_type": "display_data"
    },
    {
     "data": {
      "text/html": [
       "<div>\n",
       "<style scoped>\n",
       "    .dataframe tbody tr th:only-of-type {\n",
       "        vertical-align: middle;\n",
       "    }\n",
       "\n",
       "    .dataframe tbody tr th {\n",
       "        vertical-align: top;\n",
       "    }\n",
       "\n",
       "    .dataframe thead th {\n",
       "        text-align: right;\n",
       "    }\n",
       "</style>\n",
       "<table border=\"1\" class=\"dataframe\">\n",
       "  <thead>\n",
       "    <tr style=\"text-align: right;\">\n",
       "      <th></th>\n",
       "      <th>link_id</th>\n",
       "      <th>queue</th>\n",
       "      <th>run</th>\n",
       "      <th>undeparted</th>\n",
       "      <th>length</th>\n",
       "      <th>geometry</th>\n",
       "    </tr>\n",
       "  </thead>\n",
       "  <tbody>\n",
       "  </tbody>\n",
       "</table>\n",
       "</div>"
      ],
      "text/plain": [
       "Empty DataFrame\n",
       "Columns: [link_id, queue, run, undeparted, length, geometry]\n",
       "Index: []"
      ]
     },
     "metadata": {},
     "output_type": "display_data"
    },
    {
     "data": {
      "text/html": [
       "<div>\n",
       "<style scoped>\n",
       "    .dataframe tbody tr th:only-of-type {\n",
       "        vertical-align: middle;\n",
       "    }\n",
       "\n",
       "    .dataframe tbody tr th {\n",
       "        vertical-align: top;\n",
       "    }\n",
       "\n",
       "    .dataframe thead th {\n",
       "        text-align: right;\n",
       "    }\n",
       "</style>\n",
       "<table border=\"1\" class=\"dataframe\">\n",
       "  <thead>\n",
       "    <tr style=\"text-align: right;\">\n",
       "      <th></th>\n",
       "      <th>link_id</th>\n",
       "      <th>queue</th>\n",
       "      <th>run</th>\n",
       "      <th>undeparted</th>\n",
       "      <th>length</th>\n",
       "      <th>geometry</th>\n",
       "    </tr>\n",
       "  </thead>\n",
       "  <tbody>\n",
       "  </tbody>\n",
       "</table>\n",
       "</div>"
      ],
      "text/plain": [
       "Empty DataFrame\n",
       "Columns: [link_id, queue, run, undeparted, length, geometry]\n",
       "Index: []"
      ]
     },
     "metadata": {},
     "output_type": "display_data"
    },
    {
     "data": {
      "text/html": [
       "<div>\n",
       "<style scoped>\n",
       "    .dataframe tbody tr th:only-of-type {\n",
       "        vertical-align: middle;\n",
       "    }\n",
       "\n",
       "    .dataframe tbody tr th {\n",
       "        vertical-align: top;\n",
       "    }\n",
       "\n",
       "    .dataframe thead th {\n",
       "        text-align: right;\n",
       "    }\n",
       "</style>\n",
       "<table border=\"1\" class=\"dataframe\">\n",
       "  <thead>\n",
       "    <tr style=\"text-align: right;\">\n",
       "      <th></th>\n",
       "      <th>link_id</th>\n",
       "      <th>queue</th>\n",
       "      <th>run</th>\n",
       "      <th>undeparted</th>\n",
       "      <th>length</th>\n",
       "      <th>geometry</th>\n",
       "    </tr>\n",
       "  </thead>\n",
       "  <tbody>\n",
       "  </tbody>\n",
       "</table>\n",
       "</div>"
      ],
      "text/plain": [
       "Empty DataFrame\n",
       "Columns: [link_id, queue, run, undeparted, length, geometry]\n",
       "Index: []"
      ]
     },
     "metadata": {},
     "output_type": "display_data"
    },
    {
     "data": {
      "text/html": [
       "<div>\n",
       "<style scoped>\n",
       "    .dataframe tbody tr th:only-of-type {\n",
       "        vertical-align: middle;\n",
       "    }\n",
       "\n",
       "    .dataframe tbody tr th {\n",
       "        vertical-align: top;\n",
       "    }\n",
       "\n",
       "    .dataframe thead th {\n",
       "        text-align: right;\n",
       "    }\n",
       "</style>\n",
       "<table border=\"1\" class=\"dataframe\">\n",
       "  <thead>\n",
       "    <tr style=\"text-align: right;\">\n",
       "      <th></th>\n",
       "      <th>link_id</th>\n",
       "      <th>queue</th>\n",
       "      <th>run</th>\n",
       "      <th>undeparted</th>\n",
       "      <th>length</th>\n",
       "      <th>geometry</th>\n",
       "    </tr>\n",
       "  </thead>\n",
       "  <tbody>\n",
       "  </tbody>\n",
       "</table>\n",
       "</div>"
      ],
      "text/plain": [
       "Empty DataFrame\n",
       "Columns: [link_id, queue, run, undeparted, length, geometry]\n",
       "Index: []"
      ]
     },
     "metadata": {},
     "output_type": "display_data"
    },
    {
     "data": {
      "text/html": [
       "<div>\n",
       "<style scoped>\n",
       "    .dataframe tbody tr th:only-of-type {\n",
       "        vertical-align: middle;\n",
       "    }\n",
       "\n",
       "    .dataframe tbody tr th {\n",
       "        vertical-align: top;\n",
       "    }\n",
       "\n",
       "    .dataframe thead th {\n",
       "        text-align: right;\n",
       "    }\n",
       "</style>\n",
       "<table border=\"1\" class=\"dataframe\">\n",
       "  <thead>\n",
       "    <tr style=\"text-align: right;\">\n",
       "      <th></th>\n",
       "      <th>link_id</th>\n",
       "      <th>queue</th>\n",
       "      <th>run</th>\n",
       "      <th>undeparted</th>\n",
       "      <th>length</th>\n",
       "      <th>geometry</th>\n",
       "    </tr>\n",
       "  </thead>\n",
       "  <tbody>\n",
       "  </tbody>\n",
       "</table>\n",
       "</div>"
      ],
      "text/plain": [
       "Empty DataFrame\n",
       "Columns: [link_id, queue, run, undeparted, length, geometry]\n",
       "Index: []"
      ]
     },
     "metadata": {},
     "output_type": "display_data"
    },
    {
     "data": {
      "text/html": [
       "<div>\n",
       "<style scoped>\n",
       "    .dataframe tbody tr th:only-of-type {\n",
       "        vertical-align: middle;\n",
       "    }\n",
       "\n",
       "    .dataframe tbody tr th {\n",
       "        vertical-align: top;\n",
       "    }\n",
       "\n",
       "    .dataframe thead th {\n",
       "        text-align: right;\n",
       "    }\n",
       "</style>\n",
       "<table border=\"1\" class=\"dataframe\">\n",
       "  <thead>\n",
       "    <tr style=\"text-align: right;\">\n",
       "      <th></th>\n",
       "      <th>link_id</th>\n",
       "      <th>queue</th>\n",
       "      <th>run</th>\n",
       "      <th>undeparted</th>\n",
       "      <th>length</th>\n",
       "      <th>geometry</th>\n",
       "    </tr>\n",
       "  </thead>\n",
       "  <tbody>\n",
       "  </tbody>\n",
       "</table>\n",
       "</div>"
      ],
      "text/plain": [
       "Empty DataFrame\n",
       "Columns: [link_id, queue, run, undeparted, length, geometry]\n",
       "Index: []"
      ]
     },
     "metadata": {},
     "output_type": "display_data"
    },
    {
     "data": {
      "text/html": [
       "<div>\n",
       "<style scoped>\n",
       "    .dataframe tbody tr th:only-of-type {\n",
       "        vertical-align: middle;\n",
       "    }\n",
       "\n",
       "    .dataframe tbody tr th {\n",
       "        vertical-align: top;\n",
       "    }\n",
       "\n",
       "    .dataframe thead th {\n",
       "        text-align: right;\n",
       "    }\n",
       "</style>\n",
       "<table border=\"1\" class=\"dataframe\">\n",
       "  <thead>\n",
       "    <tr style=\"text-align: right;\">\n",
       "      <th></th>\n",
       "      <th>link_id</th>\n",
       "      <th>queue</th>\n",
       "      <th>run</th>\n",
       "      <th>undeparted</th>\n",
       "      <th>length</th>\n",
       "      <th>geometry</th>\n",
       "    </tr>\n",
       "  </thead>\n",
       "  <tbody>\n",
       "  </tbody>\n",
       "</table>\n",
       "</div>"
      ],
      "text/plain": [
       "Empty DataFrame\n",
       "Columns: [link_id, queue, run, undeparted, length, geometry]\n",
       "Index: []"
      ]
     },
     "metadata": {},
     "output_type": "display_data"
    },
    {
     "data": {
      "text/html": [
       "<div>\n",
       "<style scoped>\n",
       "    .dataframe tbody tr th:only-of-type {\n",
       "        vertical-align: middle;\n",
       "    }\n",
       "\n",
       "    .dataframe tbody tr th {\n",
       "        vertical-align: top;\n",
       "    }\n",
       "\n",
       "    .dataframe thead th {\n",
       "        text-align: right;\n",
       "    }\n",
       "</style>\n",
       "<table border=\"1\" class=\"dataframe\">\n",
       "  <thead>\n",
       "    <tr style=\"text-align: right;\">\n",
       "      <th></th>\n",
       "      <th>link_id</th>\n",
       "      <th>queue</th>\n",
       "      <th>run</th>\n",
       "      <th>undeparted</th>\n",
       "      <th>length</th>\n",
       "      <th>geometry</th>\n",
       "    </tr>\n",
       "  </thead>\n",
       "  <tbody>\n",
       "  </tbody>\n",
       "</table>\n",
       "</div>"
      ],
      "text/plain": [
       "Empty DataFrame\n",
       "Columns: [link_id, queue, run, undeparted, length, geometry]\n",
       "Index: []"
      ]
     },
     "metadata": {},
     "output_type": "display_data"
    },
    {
     "data": {
      "text/html": [
       "<div>\n",
       "<style scoped>\n",
       "    .dataframe tbody tr th:only-of-type {\n",
       "        vertical-align: middle;\n",
       "    }\n",
       "\n",
       "    .dataframe tbody tr th {\n",
       "        vertical-align: top;\n",
       "    }\n",
       "\n",
       "    .dataframe thead th {\n",
       "        text-align: right;\n",
       "    }\n",
       "</style>\n",
       "<table border=\"1\" class=\"dataframe\">\n",
       "  <thead>\n",
       "    <tr style=\"text-align: right;\">\n",
       "      <th></th>\n",
       "      <th>link_id</th>\n",
       "      <th>queue</th>\n",
       "      <th>run</th>\n",
       "      <th>undeparted</th>\n",
       "      <th>length</th>\n",
       "      <th>geometry</th>\n",
       "    </tr>\n",
       "  </thead>\n",
       "  <tbody>\n",
       "  </tbody>\n",
       "</table>\n",
       "</div>"
      ],
      "text/plain": [
       "Empty DataFrame\n",
       "Columns: [link_id, queue, run, undeparted, length, geometry]\n",
       "Index: []"
      ]
     },
     "metadata": {},
     "output_type": "display_data"
    },
    {
     "data": {
      "text/html": [
       "<div>\n",
       "<style scoped>\n",
       "    .dataframe tbody tr th:only-of-type {\n",
       "        vertical-align: middle;\n",
       "    }\n",
       "\n",
       "    .dataframe tbody tr th {\n",
       "        vertical-align: top;\n",
       "    }\n",
       "\n",
       "    .dataframe thead th {\n",
       "        text-align: right;\n",
       "    }\n",
       "</style>\n",
       "<table border=\"1\" class=\"dataframe\">\n",
       "  <thead>\n",
       "    <tr style=\"text-align: right;\">\n",
       "      <th></th>\n",
       "      <th>link_id</th>\n",
       "      <th>queue</th>\n",
       "      <th>run</th>\n",
       "      <th>undeparted</th>\n",
       "      <th>length</th>\n",
       "      <th>geometry</th>\n",
       "    </tr>\n",
       "  </thead>\n",
       "  <tbody>\n",
       "  </tbody>\n",
       "</table>\n",
       "</div>"
      ],
      "text/plain": [
       "Empty DataFrame\n",
       "Columns: [link_id, queue, run, undeparted, length, geometry]\n",
       "Index: []"
      ]
     },
     "metadata": {},
     "output_type": "display_data"
    },
    {
     "data": {
      "text/html": [
       "<div>\n",
       "<style scoped>\n",
       "    .dataframe tbody tr th:only-of-type {\n",
       "        vertical-align: middle;\n",
       "    }\n",
       "\n",
       "    .dataframe tbody tr th {\n",
       "        vertical-align: top;\n",
       "    }\n",
       "\n",
       "    .dataframe thead th {\n",
       "        text-align: right;\n",
       "    }\n",
       "</style>\n",
       "<table border=\"1\" class=\"dataframe\">\n",
       "  <thead>\n",
       "    <tr style=\"text-align: right;\">\n",
       "      <th></th>\n",
       "      <th>link_id</th>\n",
       "      <th>queue</th>\n",
       "      <th>run</th>\n",
       "      <th>undeparted</th>\n",
       "      <th>length</th>\n",
       "      <th>geometry</th>\n",
       "    </tr>\n",
       "  </thead>\n",
       "  <tbody>\n",
       "  </tbody>\n",
       "</table>\n",
       "</div>"
      ],
      "text/plain": [
       "Empty DataFrame\n",
       "Columns: [link_id, queue, run, undeparted, length, geometry]\n",
       "Index: []"
      ]
     },
     "metadata": {},
     "output_type": "display_data"
    },
    {
     "data": {
      "text/html": [
       "<div>\n",
       "<style scoped>\n",
       "    .dataframe tbody tr th:only-of-type {\n",
       "        vertical-align: middle;\n",
       "    }\n",
       "\n",
       "    .dataframe tbody tr th {\n",
       "        vertical-align: top;\n",
       "    }\n",
       "\n",
       "    .dataframe thead th {\n",
       "        text-align: right;\n",
       "    }\n",
       "</style>\n",
       "<table border=\"1\" class=\"dataframe\">\n",
       "  <thead>\n",
       "    <tr style=\"text-align: right;\">\n",
       "      <th></th>\n",
       "      <th>link_id</th>\n",
       "      <th>queue</th>\n",
       "      <th>run</th>\n",
       "      <th>undeparted</th>\n",
       "      <th>length</th>\n",
       "      <th>geometry</th>\n",
       "    </tr>\n",
       "  </thead>\n",
       "  <tbody>\n",
       "  </tbody>\n",
       "</table>\n",
       "</div>"
      ],
      "text/plain": [
       "Empty DataFrame\n",
       "Columns: [link_id, queue, run, undeparted, length, geometry]\n",
       "Index: []"
      ]
     },
     "metadata": {},
     "output_type": "display_data"
    },
    {
     "data": {
      "text/html": [
       "<div>\n",
       "<style scoped>\n",
       "    .dataframe tbody tr th:only-of-type {\n",
       "        vertical-align: middle;\n",
       "    }\n",
       "\n",
       "    .dataframe tbody tr th {\n",
       "        vertical-align: top;\n",
       "    }\n",
       "\n",
       "    .dataframe thead th {\n",
       "        text-align: right;\n",
       "    }\n",
       "</style>\n",
       "<table border=\"1\" class=\"dataframe\">\n",
       "  <thead>\n",
       "    <tr style=\"text-align: right;\">\n",
       "      <th></th>\n",
       "      <th>link_id</th>\n",
       "      <th>queue</th>\n",
       "      <th>run</th>\n",
       "      <th>undeparted</th>\n",
       "      <th>length</th>\n",
       "      <th>geometry</th>\n",
       "    </tr>\n",
       "  </thead>\n",
       "  <tbody>\n",
       "  </tbody>\n",
       "</table>\n",
       "</div>"
      ],
      "text/plain": [
       "Empty DataFrame\n",
       "Columns: [link_id, queue, run, undeparted, length, geometry]\n",
       "Index: []"
      ]
     },
     "metadata": {},
     "output_type": "display_data"
    },
    {
     "data": {
      "text/html": [
       "<div>\n",
       "<style scoped>\n",
       "    .dataframe tbody tr th:only-of-type {\n",
       "        vertical-align: middle;\n",
       "    }\n",
       "\n",
       "    .dataframe tbody tr th {\n",
       "        vertical-align: top;\n",
       "    }\n",
       "\n",
       "    .dataframe thead th {\n",
       "        text-align: right;\n",
       "    }\n",
       "</style>\n",
       "<table border=\"1\" class=\"dataframe\">\n",
       "  <thead>\n",
       "    <tr style=\"text-align: right;\">\n",
       "      <th></th>\n",
       "      <th>link_id</th>\n",
       "      <th>queue</th>\n",
       "      <th>run</th>\n",
       "      <th>undeparted</th>\n",
       "      <th>length</th>\n",
       "      <th>geometry</th>\n",
       "    </tr>\n",
       "  </thead>\n",
       "  <tbody>\n",
       "  </tbody>\n",
       "</table>\n",
       "</div>"
      ],
      "text/plain": [
       "Empty DataFrame\n",
       "Columns: [link_id, queue, run, undeparted, length, geometry]\n",
       "Index: []"
      ]
     },
     "metadata": {},
     "output_type": "display_data"
    },
    {
     "data": {
      "text/html": [
       "<div>\n",
       "<style scoped>\n",
       "    .dataframe tbody tr th:only-of-type {\n",
       "        vertical-align: middle;\n",
       "    }\n",
       "\n",
       "    .dataframe tbody tr th {\n",
       "        vertical-align: top;\n",
       "    }\n",
       "\n",
       "    .dataframe thead th {\n",
       "        text-align: right;\n",
       "    }\n",
       "</style>\n",
       "<table border=\"1\" class=\"dataframe\">\n",
       "  <thead>\n",
       "    <tr style=\"text-align: right;\">\n",
       "      <th></th>\n",
       "      <th>link_id</th>\n",
       "      <th>queue</th>\n",
       "      <th>run</th>\n",
       "      <th>undeparted</th>\n",
       "      <th>length</th>\n",
       "      <th>geometry</th>\n",
       "    </tr>\n",
       "  </thead>\n",
       "  <tbody>\n",
       "  </tbody>\n",
       "</table>\n",
       "</div>"
      ],
      "text/plain": [
       "Empty DataFrame\n",
       "Columns: [link_id, queue, run, undeparted, length, geometry]\n",
       "Index: []"
      ]
     },
     "metadata": {},
     "output_type": "display_data"
    },
    {
     "data": {
      "text/html": [
       "<div>\n",
       "<style scoped>\n",
       "    .dataframe tbody tr th:only-of-type {\n",
       "        vertical-align: middle;\n",
       "    }\n",
       "\n",
       "    .dataframe tbody tr th {\n",
       "        vertical-align: top;\n",
       "    }\n",
       "\n",
       "    .dataframe thead th {\n",
       "        text-align: right;\n",
       "    }\n",
       "</style>\n",
       "<table border=\"1\" class=\"dataframe\">\n",
       "  <thead>\n",
       "    <tr style=\"text-align: right;\">\n",
       "      <th></th>\n",
       "      <th>link_id</th>\n",
       "      <th>queue</th>\n",
       "      <th>run</th>\n",
       "      <th>undeparted</th>\n",
       "      <th>length</th>\n",
       "      <th>geometry</th>\n",
       "    </tr>\n",
       "  </thead>\n",
       "  <tbody>\n",
       "  </tbody>\n",
       "</table>\n",
       "</div>"
      ],
      "text/plain": [
       "Empty DataFrame\n",
       "Columns: [link_id, queue, run, undeparted, length, geometry]\n",
       "Index: []"
      ]
     },
     "metadata": {},
     "output_type": "display_data"
    },
    {
     "data": {
      "text/html": [
       "<div>\n",
       "<style scoped>\n",
       "    .dataframe tbody tr th:only-of-type {\n",
       "        vertical-align: middle;\n",
       "    }\n",
       "\n",
       "    .dataframe tbody tr th {\n",
       "        vertical-align: top;\n",
       "    }\n",
       "\n",
       "    .dataframe thead th {\n",
       "        text-align: right;\n",
       "    }\n",
       "</style>\n",
       "<table border=\"1\" class=\"dataframe\">\n",
       "  <thead>\n",
       "    <tr style=\"text-align: right;\">\n",
       "      <th></th>\n",
       "      <th>link_id</th>\n",
       "      <th>queue</th>\n",
       "      <th>run</th>\n",
       "      <th>undeparted</th>\n",
       "      <th>length</th>\n",
       "      <th>geometry</th>\n",
       "    </tr>\n",
       "  </thead>\n",
       "  <tbody>\n",
       "  </tbody>\n",
       "</table>\n",
       "</div>"
      ],
      "text/plain": [
       "Empty DataFrame\n",
       "Columns: [link_id, queue, run, undeparted, length, geometry]\n",
       "Index: []"
      ]
     },
     "metadata": {},
     "output_type": "display_data"
    },
    {
     "data": {
      "text/html": [
       "<div>\n",
       "<style scoped>\n",
       "    .dataframe tbody tr th:only-of-type {\n",
       "        vertical-align: middle;\n",
       "    }\n",
       "\n",
       "    .dataframe tbody tr th {\n",
       "        vertical-align: top;\n",
       "    }\n",
       "\n",
       "    .dataframe thead th {\n",
       "        text-align: right;\n",
       "    }\n",
       "</style>\n",
       "<table border=\"1\" class=\"dataframe\">\n",
       "  <thead>\n",
       "    <tr style=\"text-align: right;\">\n",
       "      <th></th>\n",
       "      <th>link_id</th>\n",
       "      <th>queue</th>\n",
       "      <th>run</th>\n",
       "      <th>undeparted</th>\n",
       "      <th>length</th>\n",
       "      <th>geometry</th>\n",
       "    </tr>\n",
       "  </thead>\n",
       "  <tbody>\n",
       "  </tbody>\n",
       "</table>\n",
       "</div>"
      ],
      "text/plain": [
       "Empty DataFrame\n",
       "Columns: [link_id, queue, run, undeparted, length, geometry]\n",
       "Index: []"
      ]
     },
     "metadata": {},
     "output_type": "display_data"
    },
    {
     "data": {
      "text/html": [
       "<div>\n",
       "<style scoped>\n",
       "    .dataframe tbody tr th:only-of-type {\n",
       "        vertical-align: middle;\n",
       "    }\n",
       "\n",
       "    .dataframe tbody tr th {\n",
       "        vertical-align: top;\n",
       "    }\n",
       "\n",
       "    .dataframe thead th {\n",
       "        text-align: right;\n",
       "    }\n",
       "</style>\n",
       "<table border=\"1\" class=\"dataframe\">\n",
       "  <thead>\n",
       "    <tr style=\"text-align: right;\">\n",
       "      <th></th>\n",
       "      <th>link_id</th>\n",
       "      <th>queue</th>\n",
       "      <th>run</th>\n",
       "      <th>undeparted</th>\n",
       "      <th>length</th>\n",
       "      <th>geometry</th>\n",
       "    </tr>\n",
       "  </thead>\n",
       "  <tbody>\n",
       "  </tbody>\n",
       "</table>\n",
       "</div>"
      ],
      "text/plain": [
       "Empty DataFrame\n",
       "Columns: [link_id, queue, run, undeparted, length, geometry]\n",
       "Index: []"
      ]
     },
     "metadata": {},
     "output_type": "display_data"
    },
    {
     "data": {
      "text/html": [
       "<div>\n",
       "<style scoped>\n",
       "    .dataframe tbody tr th:only-of-type {\n",
       "        vertical-align: middle;\n",
       "    }\n",
       "\n",
       "    .dataframe tbody tr th {\n",
       "        vertical-align: top;\n",
       "    }\n",
       "\n",
       "    .dataframe thead th {\n",
       "        text-align: right;\n",
       "    }\n",
       "</style>\n",
       "<table border=\"1\" class=\"dataframe\">\n",
       "  <thead>\n",
       "    <tr style=\"text-align: right;\">\n",
       "      <th></th>\n",
       "      <th>link_id</th>\n",
       "      <th>queue</th>\n",
       "      <th>run</th>\n",
       "      <th>undeparted</th>\n",
       "      <th>length</th>\n",
       "      <th>geometry</th>\n",
       "    </tr>\n",
       "  </thead>\n",
       "  <tbody>\n",
       "  </tbody>\n",
       "</table>\n",
       "</div>"
      ],
      "text/plain": [
       "Empty DataFrame\n",
       "Columns: [link_id, queue, run, undeparted, length, geometry]\n",
       "Index: []"
      ]
     },
     "metadata": {},
     "output_type": "display_data"
    },
    {
     "data": {
      "text/html": [
       "<div>\n",
       "<style scoped>\n",
       "    .dataframe tbody tr th:only-of-type {\n",
       "        vertical-align: middle;\n",
       "    }\n",
       "\n",
       "    .dataframe tbody tr th {\n",
       "        vertical-align: top;\n",
       "    }\n",
       "\n",
       "    .dataframe thead th {\n",
       "        text-align: right;\n",
       "    }\n",
       "</style>\n",
       "<table border=\"1\" class=\"dataframe\">\n",
       "  <thead>\n",
       "    <tr style=\"text-align: right;\">\n",
       "      <th></th>\n",
       "      <th>link_id</th>\n",
       "      <th>queue</th>\n",
       "      <th>run</th>\n",
       "      <th>undeparted</th>\n",
       "      <th>length</th>\n",
       "      <th>geometry</th>\n",
       "    </tr>\n",
       "  </thead>\n",
       "  <tbody>\n",
       "  </tbody>\n",
       "</table>\n",
       "</div>"
      ],
      "text/plain": [
       "Empty DataFrame\n",
       "Columns: [link_id, queue, run, undeparted, length, geometry]\n",
       "Index: []"
      ]
     },
     "metadata": {},
     "output_type": "display_data"
    },
    {
     "data": {
      "text/html": [
       "<div>\n",
       "<style scoped>\n",
       "    .dataframe tbody tr th:only-of-type {\n",
       "        vertical-align: middle;\n",
       "    }\n",
       "\n",
       "    .dataframe tbody tr th {\n",
       "        vertical-align: top;\n",
       "    }\n",
       "\n",
       "    .dataframe thead th {\n",
       "        text-align: right;\n",
       "    }\n",
       "</style>\n",
       "<table border=\"1\" class=\"dataframe\">\n",
       "  <thead>\n",
       "    <tr style=\"text-align: right;\">\n",
       "      <th></th>\n",
       "      <th>link_id</th>\n",
       "      <th>queue</th>\n",
       "      <th>run</th>\n",
       "      <th>undeparted</th>\n",
       "      <th>length</th>\n",
       "      <th>geometry</th>\n",
       "    </tr>\n",
       "  </thead>\n",
       "  <tbody>\n",
       "  </tbody>\n",
       "</table>\n",
       "</div>"
      ],
      "text/plain": [
       "Empty DataFrame\n",
       "Columns: [link_id, queue, run, undeparted, length, geometry]\n",
       "Index: []"
      ]
     },
     "metadata": {},
     "output_type": "display_data"
    },
    {
     "data": {
      "text/html": [
       "<div>\n",
       "<style scoped>\n",
       "    .dataframe tbody tr th:only-of-type {\n",
       "        vertical-align: middle;\n",
       "    }\n",
       "\n",
       "    .dataframe tbody tr th {\n",
       "        vertical-align: top;\n",
       "    }\n",
       "\n",
       "    .dataframe thead th {\n",
       "        text-align: right;\n",
       "    }\n",
       "</style>\n",
       "<table border=\"1\" class=\"dataframe\">\n",
       "  <thead>\n",
       "    <tr style=\"text-align: right;\">\n",
       "      <th></th>\n",
       "      <th>link_id</th>\n",
       "      <th>queue</th>\n",
       "      <th>run</th>\n",
       "      <th>undeparted</th>\n",
       "      <th>length</th>\n",
       "      <th>geometry</th>\n",
       "    </tr>\n",
       "  </thead>\n",
       "  <tbody>\n",
       "  </tbody>\n",
       "</table>\n",
       "</div>"
      ],
      "text/plain": [
       "Empty DataFrame\n",
       "Columns: [link_id, queue, run, undeparted, length, geometry]\n",
       "Index: []"
      ]
     },
     "metadata": {},
     "output_type": "display_data"
    },
    {
     "data": {
      "text/html": [
       "<div>\n",
       "<style scoped>\n",
       "    .dataframe tbody tr th:only-of-type {\n",
       "        vertical-align: middle;\n",
       "    }\n",
       "\n",
       "    .dataframe tbody tr th {\n",
       "        vertical-align: top;\n",
       "    }\n",
       "\n",
       "    .dataframe thead th {\n",
       "        text-align: right;\n",
       "    }\n",
       "</style>\n",
       "<table border=\"1\" class=\"dataframe\">\n",
       "  <thead>\n",
       "    <tr style=\"text-align: right;\">\n",
       "      <th></th>\n",
       "      <th>link_id</th>\n",
       "      <th>queue</th>\n",
       "      <th>run</th>\n",
       "      <th>undeparted</th>\n",
       "      <th>length</th>\n",
       "      <th>geometry</th>\n",
       "    </tr>\n",
       "  </thead>\n",
       "  <tbody>\n",
       "  </tbody>\n",
       "</table>\n",
       "</div>"
      ],
      "text/plain": [
       "Empty DataFrame\n",
       "Columns: [link_id, queue, run, undeparted, length, geometry]\n",
       "Index: []"
      ]
     },
     "metadata": {},
     "output_type": "display_data"
    },
    {
     "data": {
      "text/html": [
       "<div>\n",
       "<style scoped>\n",
       "    .dataframe tbody tr th:only-of-type {\n",
       "        vertical-align: middle;\n",
       "    }\n",
       "\n",
       "    .dataframe tbody tr th {\n",
       "        vertical-align: top;\n",
       "    }\n",
       "\n",
       "    .dataframe thead th {\n",
       "        text-align: right;\n",
       "    }\n",
       "</style>\n",
       "<table border=\"1\" class=\"dataframe\">\n",
       "  <thead>\n",
       "    <tr style=\"text-align: right;\">\n",
       "      <th></th>\n",
       "      <th>link_id</th>\n",
       "      <th>queue</th>\n",
       "      <th>run</th>\n",
       "      <th>undeparted</th>\n",
       "      <th>length</th>\n",
       "      <th>geometry</th>\n",
       "    </tr>\n",
       "  </thead>\n",
       "  <tbody>\n",
       "  </tbody>\n",
       "</table>\n",
       "</div>"
      ],
      "text/plain": [
       "Empty DataFrame\n",
       "Columns: [link_id, queue, run, undeparted, length, geometry]\n",
       "Index: []"
      ]
     },
     "metadata": {},
     "output_type": "display_data"
    }
   ],
   "source": [
    "display(links_df.head(1))\n",
    "links_df2 = links_df.copy()\n",
    "links_df2['link_id'] = links_df2['link_id'].astype(str)\n",
    "for t in range(60000, 70200, 100):\n",
    "    link_results = pd.read_csv('traffic_outputs/fairfax/link_stats/lfairfax_vect_at_{}.csv'.format(t))\n",
    "    display(link_results[link_results['link_id']=='13289'])\n",
    "    #link_results['link_id'] = link_results['link_id'].astype(str)\n",
    "    #link_results = pd.merge(link_results, links_df2[['link_id', 'lanes']], how='left', on='link_id')\n",
    "    #link_results['queue_density'] = link_results['queue']/(link_results['length']*link_results['lanes'])\n",
    "    #link_results.to_csv('traffic_outputs/fairfax/link_stats/lfairfax_vect_at_{}_lanes.csv'.format(t))"
   ]
  },
  {
   "cell_type": "code",
   "execution_count": null,
   "metadata": {},
   "outputs": [],
   "source": []
  },
  {
   "cell_type": "code",
   "execution_count": null,
   "metadata": {},
   "outputs": [],
   "source": [
    "#判断这条路的终点是不是他的终点"
   ]
  }
 ],
 "metadata": {
  "kernelspec": {
<<<<<<< Updated upstream
   "display_name": "Python 3 (ipykernel)",
=======
   "display_name": "Python 3",
>>>>>>> Stashed changes
   "language": "python",
   "name": "python3"
  },
  "language_info": {
   "codemirror_mode": {
    "name": "ipython",
    "version": 3
   },
   "file_extension": ".py",
   "mimetype": "text/x-python",
   "name": "python",
   "nbconvert_exporter": "python",
   "pygments_lexer": "ipython3",
<<<<<<< Updated upstream
   "version": "3.8.11"
=======
   "version": "3.6.8"
>>>>>>> Stashed changes
  }
 },
 "nbformat": 4,
 "nbformat_minor": 4
}
