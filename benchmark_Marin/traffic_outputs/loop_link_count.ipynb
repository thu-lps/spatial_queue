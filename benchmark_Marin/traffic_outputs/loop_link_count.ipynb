{
 "cells": [
  {
   "cell_type": "code",
   "execution_count": 15,
   "metadata": {},
   "outputs": [],
   "source": [
    "import pandas as pd\n",
    "import numpy as np\n",
    "import openpyxl"
   ]
  },
  {
   "cell_type": "code",
   "execution_count": 22,
   "metadata": {},
   "outputs": [
    {
     "name": "stderr",
     "output_type": "stream",
     "text": [
      "/Users/apple/anaconda3/lib/python3.6/site-packages/numpy/core/_asarray.py:136: VisibleDeprecationWarning: Creating an ndarray from ragged nested sequences (which is a list-or-tuple of lists-or-tuples-or ndarrays with different lengths or shapes) is deprecated. If you meant to do this, you must specify 'dtype=object' when creating the ndarray\n",
      "  return array(a, dtype, copy=False, order=order, subok=True)\n"
     ]
    }
   ],
   "source": [
    "case = 'woodacre'\n",
    "line_count = []\n",
    "for i in range(1,101,1):\n",
    "    loop_list = []\n",
    "    path = './{}/with_bg/loop_add_srsn_reroute_rtt/loops_add_srsn_reroute_rtt_random{}.xlsx'.format(case,i)\n",
    "    workbook = openpyxl.load_workbook(path)\n",
    "    worksheet = workbook['Sheet1']\n",
    "    for j in range(0, len(list(worksheet.rows))):\n",
    "        row_tmp = [item.value for item in list(worksheet.rows)[j]]\n",
    "        row_tmp = row_tmp[1:]\n",
    "        row_tmp  = list(filter(lambda x: x != None, row_tmp))\n",
    "        loop_list.append(row_tmp)\n",
    "    loop_list = np.unique(loop_list)\n",
    "    for loop_list_tmp in loop_list:\n",
    "        if isinstance(loop_list_tmp, list):\n",
    "            [line_count.append(x) for x in loop_list_tmp]\n",
    "        else:\n",
    "            line_count.append(loop_list_tmp)"
   ]
  },
  {
   "cell_type": "code",
   "execution_count": 23,
   "metadata": {
    "scrolled": false
   },
   "outputs": [],
   "source": [
    "unique, counts = np.unique(line_count, return_counts=True)\n",
    "line_count = dict(zip(unique, counts))"
   ]
  },
  {
   "cell_type": "code",
   "execution_count": 24,
   "metadata": {},
   "outputs": [],
   "source": [
    "loop_link = pd.DataFrame()\n",
    "loop_link['line_id'] = list(line_count.keys())\n",
    "loop_link['count'] = loop_link['line_id'].map(line_count)"
   ]
  },
  {
   "cell_type": "code",
   "execution_count": 25,
   "metadata": {},
   "outputs": [],
   "source": [
    "link_path = '/Users/apple/Documents/GitHub/spatial_queue/benchmark_Marin/traffic_inputs/{}/new_{}_links_tmp.csv'.format(case,case)\n",
    "link_df = pd.read_csv(link_path)\n",
    "link_geometry_dict = dict(zip(link_df['link_id'], link_df['geometry']))"
   ]
  },
  {
   "cell_type": "code",
   "execution_count": 26,
   "metadata": {},
   "outputs": [],
   "source": [
    "loop_link['geometry'] = loop_link['line_id'].map(link_geometry_dict)"
   ]
  },
  {
   "cell_type": "code",
   "execution_count": 27,
   "metadata": {},
   "outputs": [],
   "source": [
    "loop_link.to_csv('./{}/with_bg/loop_link_count.csv'.format(case), index = False)"
   ]
  },
  {
   "cell_type": "code",
   "execution_count": null,
   "metadata": {},
   "outputs": [],
   "source": []
  },
  {
   "cell_type": "code",
   "execution_count": null,
   "metadata": {},
   "outputs": [],
   "source": []
  }
 ],
 "metadata": {
  "kernelspec": {
   "display_name": "Python 3",
   "language": "python",
   "name": "python3"
  },
  "language_info": {
   "codemirror_mode": {
    "name": "ipython",
    "version": 3
   },
   "file_extension": ".py",
   "mimetype": "text/x-python",
   "name": "python",
   "nbconvert_exporter": "python",
   "pygments_lexer": "ipython3",
   "version": "3.6.8"
  }
 },
 "nbformat": 4,
 "nbformat_minor": 2
}
