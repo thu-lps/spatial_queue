{
 "cells": [
  {
   "cell_type": "code",
   "execution_count": 51,
   "metadata": {},
   "outputs": [],
   "source": [
    "import pandas as pd\n",
    "import numpy as np\n",
    "import geopandas as gpd\n",
    "from shapely.wkt import loads \n",
    "from shapely.ops import substring\n",
    "import matplotlib.pyplot as plt "
   ]
  },
  {
   "cell_type": "code",
   "execution_count": 57,
   "metadata": {},
   "outputs": [],
   "source": [
    "case = 'fairfax'\n",
    "link_df = pd.read_csv('../traffic_inputs/{}/new_{}_links_tmp.csv'.format(case, case))\n",
    "link_df['fft'] = link_df['length'] / link_df['maxmph'] / 1609 * 3600\n",
    "link_df = link_df[['link_id', 'link_type', 'geometry','length','fft']]\n",
    "for t in range(0, 28900, 1000):\n",
    "    path = './{}/with_bg/agent_stats_add_srsn_reroute_rtt/{}_vect_at_{}_bg_1_real_departure_time_agent.csv'.format(case,case,t)\n",
    "    agents_df = pd.read_csv(path)\n",
    "    agents_df = agents_df[~agents_df['current_link'].isnull()]\n",
    "    agents_df['current_link'] = agents_df['current_link'].astype('str')\n",
    "    agents_df['initial_letter_current_link'] = agents_df['current_link'].apply(lambda x: x[0])\n",
    "    agents_df = agents_df[agents_df['initial_letter_current_link'] != 'v']\n",
    "    agents_df['current_link'] = agents_df['current_link'].astype('float')\n",
    "    agents_df['current_link'] = agents_df['current_link'].astype('int')    \n",
    "    agents_df.reset_index(drop = True, inplace = True) \n",
    "    link_travel_time_dict = ((t * agents_df.loc[agents_df['agent_status'].isin([2])].groupby('current_link').size() - \n",
    "                                    agents_df.loc[agents_df['agent_status'].isin([2])].groupby('current_link')['current_link_enter_time'].sum())/\n",
    "                                    agents_df.loc[agents_df['agent_status'].isin([2])].groupby('current_link').size()).to_dict()\n",
    "\n",
    "    link_df[t] = link_df['link_id'].map(link_travel_time_dict).fillna(link_df['fft'])\n",
    "    link_df['average_speed_{}'.format(t)] = link_df['length'] / link_df[t]"
   ]
  },
  {
   "cell_type": "code",
   "execution_count": 61,
   "metadata": {},
   "outputs": [
    {
     "data": {
      "text/plain": [
       "2        11.173611\n",
       "3        11.173611\n",
       "4        11.173611\n",
       "5        11.173611\n",
       "6        11.173611\n",
       "           ...    \n",
       "40205    13.408333\n",
       "40206    19.393829\n",
       "40207    13.408333\n",
       "40208    29.051389\n",
       "40209    13.408333\n",
       "Name: average_speed_1000, Length: 40208, dtype: float64"
      ]
     },
     "execution_count": 61,
     "metadata": {},
     "output_type": "execute_result"
    }
   ],
   "source": [
    "link_df = link_df[link_df['link_type'] != 'vl_link']"
   ]
  },
  {
   "cell_type": "code",
   "execution_count": 82,
   "metadata": {},
   "outputs": [],
   "source": [
    "case = 'fairfax'\n",
    "basemap = pd.read_csv('../traffic_inputs/fairfax/new_fairfax_links_tmp.csv')\n",
    "basemap = gpd.GeoDataFrame(basemap, crs='epsg:4326', geometry=basemap['geometry'].map(loads)).to_crs(3857)\n",
    "\n",
    "for t in range(0, 28900, 1000):\n",
    "    link_gdf = gpd.GeoDataFrame(link_df, crs='epsg:4326', geometry=link_df['geometry'].map(loads)).to_crs(3857)\n",
    "    fig, ax = plt.subplots(figsize=(10, 10))\n",
    "    basemap.plot(ax=ax, lw=0.2, color='gray')\n",
    "    link_gdf.plot(column = 'average_speed_{}'.format(t), ax = ax, lw =1, cmap='RdYlGn', legend = True, legend_kwds\n",
    "                  ={'label': \"speed [m/s]\"})\n",
    "    ax.set_xlim([-13652000,-13630802]) #fairfax\n",
    "    ax.set_ylim([4560000,4600611]) #fairfax\n",
    "    ax.axis('off')\n",
    "    ax.text(0, 0.1, 't{}'.format(t), fontsize = 18, transform=ax.transAxes)\n",
    "    plt.savefig('images/{}/speed/speed_t{}.png'.format(case,t),dpi= 200)\n",
    "    plt.close()"
   ]
  },
  {
   "cell_type": "code",
   "execution_count": 39,
   "metadata": {},
   "outputs": [],
   "source": [
    "link_df['count_num'] = 0\n",
    "for i, row in link_df.iterrows():\n",
    "    for t in range(0, 28900, 1000):\n",
    "        if row[t] >= 4 * row['fft']:\n",
    "            link_df.loc[i, 'count_num'] += 1\n",
    "\n",
    "link_df.to_csv('./{}_tmp.csv'.format(case), index = False)\n",
    "\n",
    "link_df_1 = link_df[link_df['count_num']>=8].copy()\n",
    "link_df_1.reset_index(drop = True, inplace = True)\n",
    "link_df_1 = link_df_1[['link_id','geometry','count_num']]\n",
    "link_df_1.to_csv('./{}_bottleneck_selected.csv'.format(case), index = False)"
   ]
  },
  {
   "cell_type": "code",
   "execution_count": 40,
   "metadata": {},
   "outputs": [],
   "source": []
  },
  {
   "cell_type": "code",
   "execution_count": 43,
   "metadata": {},
   "outputs": [],
   "source": []
  },
  {
   "cell_type": "code",
   "execution_count": null,
   "metadata": {},
   "outputs": [],
   "source": []
  }
 ],
 "metadata": {
  "kernelspec": {
   "display_name": "Python 3",
   "language": "python",
   "name": "python3"
  },
  "language_info": {
   "codemirror_mode": {
    "name": "ipython",
    "version": 3
   },
   "file_extension": ".py",
   "mimetype": "text/x-python",
   "name": "python",
   "nbconvert_exporter": "python",
   "pygments_lexer": "ipython3",
   "version": "3.6.8"
  }
 },
 "nbformat": 4,
 "nbformat_minor": 2
}
