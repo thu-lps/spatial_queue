{
 "cells": [
  {
   "cell_type": "code",
   "execution_count": 1,
   "metadata": {},
   "outputs": [],
   "source": [
    "import numpy as np\n",
    "import pandas as pd\n",
    "import matplotlib.pyplot as plt\n",
    "%matplotlib inline\n",
    "import random\n",
    "import sys\n",
    "random.seed(0)\n",
    "np.random.seed(0)\n",
    "\n",
    "### spatial queue model\n",
    "sys.path.insert(0, '../../../../')\n",
    "import model.queue_class_ce170 as sq_loop\n",
    "import model.spatial_queue_array_add_storage_remain_special_node_reroute_rtt as sq_vect"
   ]
  },
  {
   "cell_type": "code",
   "execution_count": 2,
   "metadata": {},
   "outputs": [
    {
     "name": "stdout",
     "output_type": "stream",
     "text": [
      "# nodes 17857, # links 40210, # ods 3937\n"
     ]
    }
   ],
   "source": [
    "### Read network and demand\n",
    "case='fairfax'\n",
    "nodes_df = pd.read_csv('/Users/apple/Documents/GitHub/spatial_queue/benchmark_Marin/traffic_inputs/{}/new_{}_nodes_tmp.csv'.format(case,case), float_precision = \"round_trip\")\n",
    "links_df = pd.read_csv('/Users/apple/Documents/GitHub/spatial_queue/benchmark_Marin/traffic_inputs/{}/new_{}_links_tmp.csv'.format(case,case), float_precision = \"round_trip\")\n",
    "od_df = pd.read_csv('/Users/apple/Documents/GitHub/spatial_queue/benchmark_Marin/traffic_inputs/{}/{}_ods_day_new_tmp.csv'.format(case,case), float_precision = \"round_trip\")\n",
    "od_df['agent_id'] = np.arange(120000, 120000 + len(od_df))\n",
    "od_df.loc[:, 'departure_hour'] = 6\n",
    "od_df.loc[:, 'departure_quarter'] = 0\n",
    "od_df['departure_time'] = (od_df['departure_hour'] - 6) * 3600 + od_df['departure_quarter'] * 900\n",
    "od_df = od_df[od_df['origin_nid']!=od_df['destin_nid']]\n",
    "nodes_df['node_id'] = nodes_df['node_id'].astype(int)\n",
    "print('# nodes {}, # links {}, # ods {}'.format(nodes_df.shape[0], links_df.shape[0], od_df.shape[0]))"
   ]
  },
  {
   "cell_type": "code",
   "execution_count": 3,
   "metadata": {},
   "outputs": [],
   "source": [
    "simulation_vect = sq_vect.Simulation()\n",
    "simulation_vect.initialize_simulation(nodes_df, links_df, od_df)\n",
    "simulation_vect.run_one_step(0, reroute_frequency=1800)\n",
    "agents_routes_dict = simulation_vect.agents.agent_routes"
   ]
  },
  {
   "cell_type": "code",
   "execution_count": 4,
   "metadata": {},
   "outputs": [],
   "source": [
    "selected_agents_list = [120145,123241,123594]\n",
    "agents_links_dict = {}\n",
    "for agent_id in selected_agents_list: #select three agents\n",
    "    links_list = []\n",
    "    routes = agents_routes_dict[agent_id]\n",
    "    for node_u, node_v in routes.items():\n",
    "        link_id_tmp = links_df.loc[(links_df['start_node_id'] == node_u) & (links_df['end_node_id'] == node_v), 'link_id'].values[0]\n",
    "        links_list.append(link_id_tmp)\n",
    "    agents_links_dict[agent_id] = links_list"
   ]
  },
  {
   "cell_type": "code",
   "execution_count": 5,
   "metadata": {},
   "outputs": [],
   "source": [
    "agent_selected_df = pd.DataFrame(columns = ['agent_id','current_link','time'])\n",
    "agent_1_df = pd.DataFrame(columns = ['agent_id','link_id','time'])\n",
    "agent_2_df = pd.DataFrame(columns = ['agent_id','link_id','time'])\n",
    "agent_3_df = pd.DataFrame(columns = ['agent_id','link_id','time'])\n",
    "\n",
    "for i in range(0, 60800,100):\n",
    "    path = './agent_stats_add_srsn/{}_vect_at_{}_bg_1_real_departure_time_agent.csv'.format(case,i)\n",
    "    agent_df = pd.read_csv(path)\n",
    "    agent_df = agent_df.loc[agent_df['agent_id'].isin(selected_agents_list), ['agent_id','current_link']]\n",
    "    agent_df['time'] = i\n",
    "    agent_selected_df = agent_selected_df.append(agent_df, ignore_index = True)"
   ]
  },
  {
   "cell_type": "code",
   "execution_count": 6,
   "metadata": {},
   "outputs": [],
   "source": [
    "agent_selected_df['current_link'] = agent_selected_df['current_link'].astype('str')\n",
    "agent_selected_df['current_link'] = agent_selected_df['current_link'].apply(lambda x: x[:-2] if x[-2:] == '.0' else x)\n",
    "a = agent_selected_df.groupby(by='agent_id', as_index = False).apply(lambda x: x.sort_values('time', ascending=True))\n",
    "a.reset_index(drop = True, inplace = True)"
   ]
  },
  {
   "cell_type": "code",
   "execution_count": 7,
   "metadata": {},
   "outputs": [],
   "source": [
    "# add column 'length'\n",
    "link_length_dict = dict(zip(links_df['link_id'].astype('str'), links_df['length']))\n",
    "a['length'] = a['current_link'].map(link_length_dict).fillna(0)"
   ]
  },
  {
   "cell_type": "code",
   "execution_count": 8,
   "metadata": {},
   "outputs": [],
   "source": [
    "# this is for selecting links to reflect in the QGIS\n",
    "link1 = links_df.loc[links_df['link_id'].isin([15290, 31970, 7444, 35285, 15229, 26277, 11937, 7153, 12176, 7143, 58, 18977, 9668, 12414])]\n",
    "link2 = links_df.loc[links_df['link_id'].isin([1420, 21240, 23002])]\n",
    "link3 = links_df.loc[links_df['link_id'].isin([14449, 21564, 30429, 9688, 22980, 1408, 7470, 12936, 15644])]\n",
    "link4 = links_df.loc[links_df['link_id'].isin([9699, 22125, 5056])]\n",
    "link5 = links_df.loc[links_df['link_id'].isin([5833, 4402, 38005, 13318, 4834, 2940, 4849, 1247, 17681, 15372])]\n",
    "link6 = links_df.loc[links_df['link_id'].isin([453,15382, 31975, 10368, 4969, 13113, 9924, 30445, 22430, 4456, 23103, 189, 15153, 17738, 11631, 6037, 17671, 12217, 178, 223, 8627, 14269, 30469, 232, 3728, 16782])]\n",
    "link7 = links_df.loc[links_df['link_id'].isin([4865, 4845, 534, 12939, 2206, 8297, 31477, 31136, 16267, 5822, 9883, 30654, 31262, 9805, 37822, 31288, 7510, 11522, 16122, 29552, 8169, 10578])]\n",
    "link8 = links_df.loc[links_df['link_id'].isin([28661, 30612, 28166, 16493, 22992, 922, 1496, 723, 10377, 16844, 12161, 7612, 6255, 964, 3786, 5644, 3131, 27481, 6065, 9148, 30902, 15048, 13591, 1312, 12700, 294])]\n",
    "link9 = links_df.loc[links_df['link_id'].isin([9246, 4443, 38542, 34696, 38049, 36609, 39708, 31859, 40194, 1])]\n",
    "link1.to_csv('./links1.csv', index = False)\n",
    "link2.to_csv('./links2.csv', index = False)\n",
    "link3.to_csv('./links3.csv', index = False)\n",
    "link4.to_csv('./links4.csv', index = False)\n",
    "link5.to_csv('./links5.csv', index = False)\n",
    "link6.to_csv('./links6.csv', index = False)\n",
    "link7.to_csv('./links7.csv', index = False)\n",
    "link8.to_csv('./links8.csv', index = False)\n",
    "link9.to_csv('./links9.csv', index = False)\n",
    "link_attribute_df = pd.DataFrame(columns = ['link_id', 'link_attribute'])\n",
    "for link_tmp in link1.itertuples():\n",
    "    link_id = str(getattr(link_tmp, 'link_id'))\n",
    "    link_attribute_df = link_attribute_df.append([{'link_id':link_id, 'link_attribute':1}], ignore_index = True)\n",
    "for link_tmp in link2.itertuples():\n",
    "    link_id = str(getattr(link_tmp, 'link_id'))\n",
    "    link_attribute_df = link_attribute_df.append([{'link_id':link_id, 'link_attribute':2}], ignore_index = True)\n",
    "for link_tmp in link3.itertuples():\n",
    "    link_id = str(getattr(link_tmp, 'link_id'))\n",
    "    link_attribute_df = link_attribute_df.append([{'link_id':link_id, 'link_attribute':3}], ignore_index = True)\n",
    "for link_tmp in link4.itertuples():\n",
    "    link_id = str(getattr(link_tmp, 'link_id'))\n",
    "    link_attribute_df = link_attribute_df.append([{'link_id':link_id, 'link_attribute':4}], ignore_index = True)\n",
    "for link_tmp in link5.itertuples():\n",
    "    link_id = str(getattr(link_tmp, 'link_id'))\n",
    "    link_attribute_df = link_attribute_df.append([{'link_id':link_id, 'link_attribute':5}], ignore_index = True)\n",
    "for link_tmp in link6.itertuples():\n",
    "    link_id = str(getattr(link_tmp, 'link_id'))\n",
    "    link_attribute_df = link_attribute_df.append([{'link_id':link_id, 'link_attribute':6}], ignore_index = True)\n",
    "for link_tmp in link7.itertuples():\n",
    "    link_id = str(getattr(link_tmp, 'link_id'))\n",
    "    link_attribute_df = link_attribute_df.append([{'link_id':link_id, 'link_attribute':7}], ignore_index = True)\n",
    "for link_tmp in link8.itertuples():\n",
    "    link_id = str(getattr(link_tmp, 'link_id'))\n",
    "    link_attribute_df = link_attribute_df.append([{'link_id':link_id, 'link_attribute':8}], ignore_index = True)\n",
    "for link_tmp in link9.itertuples():\n",
    "    link_id = str(getattr(link_tmp, 'link_id'))\n",
    "    link_attribute_df = link_attribute_df.append([{'link_id':link_id, 'link_attribute':9}], ignore_index = True)\n",
    "link_attribute_dict = dict(zip(link_attribute_df['link_id'], link_attribute_df['link_attribute']))"
   ]
  },
  {
   "cell_type": "code",
   "execution_count": null,
   "metadata": {},
   "outputs": [],
   "source": [
    "# add column 'cum_dist'\n",
    "### we cannot directly use the links in the dataframe, as it records less links than real.\n",
    "### This happens as the links passed are recorded every 100 s.\n",
    "\n",
    "#agent2_routes = agents_links_dict[123241]\n",
    "#agent3_routes = agents_links_dict[123594]"
   ]
  },
  {
   "cell_type": "code",
   "execution_count": 18,
   "metadata": {},
   "outputs": [],
   "source": [
    "agent1_df = a[a['agent_id'] == 120145].copy()\n",
    "agent1_df.reset_index(drop = True, inplace = True)\n",
    "agent1_df = agent1_df.append([{'agent_id': agent1_df.loc[len(agent1_df)-1,'agent_id'], 'current_link':'1',\n",
    "                               'time':agent1_df.loc[len(agent1_df)-1,'time']+100,'length':0}], ignore_index = True)\n",
    "agent1_df['link_attribute'] = agent1_df['current_link'].map(link_attribute_dict).fillna(-1)\n",
    "\n",
    "agent1_routes = agents_links_dict[120145]\n",
    "agent1_routes_df = pd.DataFrame(columns = ['link_id','length'])\n",
    "agent1_routes_df['link_id'] = np.array(agent1_routes)\n",
    "agent1_routes_df['link_id'] = agent1_routes_df['link_id'].astype('str')\n",
    "agent1_routes_df['length'] = agent1_routes_df['link_id'].map(link_length_dict)\n",
    "agent1_routes_df['cum_dist'] = 0\n",
    "for i in range(len(agent1_routes_df)):\n",
    "    if i == 0:\n",
    "        agent1_routes_df.loc[i, 'cum_dist'] = 0\n",
    "    else:\n",
    "         agent1_routes_df.loc[i, 'cum_dist'] = agent1_routes_df.loc[i-1, 'cum_dist'] + agent1_routes_df.loc[i-1, 'length']\n",
    "agent1_routes_cum_dict = dict(zip(agent1_routes_df['link_id'], agent1_routes_df['cum_dist']))\n",
    "agent1_df['cum_dist'] = agent1_df['current_link'].map(agent1_routes_cum_dict).fillna(0)"
   ]
  },
  {
   "cell_type": "code",
   "execution_count": 26,
   "metadata": {},
   "outputs": [],
   "source": [
    "agent1_df.to_csv('./agent120145_origin.csv', index = False)"
   ]
  },
  {
   "cell_type": "code",
   "execution_count": 39,
   "metadata": {},
   "outputs": [
    {
     "data": {
      "image/png": "[encoded data removed]",
      "text/plain": [
       "<Figure size 432x288 with 1 Axes>"
      ]
     },
     "metadata": {},
     "output_type": "display_data"
    }
   ],
   "source": [
    "# for agent120145:\n",
    "plt.figure()\n",
    "plt.xlabel('time [min]')\n",
    "plt.ylabel('distance [m]')\n",
    "plt.plot(agent1_df['time']/60, agent1_df['cum_dist'], color = 'black')\n",
    "plt.xlim(600,1000)\n",
    "plt.plot(np.arange(1000), 1154.39 *  np.ones(1000), ls = '--', color = 'b')\n",
    "plt.text(620, 1154.39 + 1, 3)\n",
    "plt.plot(np.arange(1000), 1734.44 *  np.ones(1000), ls = '--', color = 'r')\n",
    "plt.text(650, 1734.44 + 1, 4)\n",
    "plt.plot(np.arange(1000), 1954.6 *  np.ones(1000), ls = '--', color = 'y')\n",
    "plt.text(620, 1954.6 + 1, 5)\n",
    "plt.plot(np.arange(1000), 2749.98 *  np.ones(1000), ls = '--', color = 'g')\n",
    "plt.text(620, 2749.98 + 1, 6)\n",
    "plt.plot(np.arange(1000), 4785.55 *  np.ones(1000), ls = '--', color = 'purple')\n",
    "plt.text(620, 4785.55 + 1, 7)\n",
    "plt.plot(np.arange(1000), 6537.56 *  np.ones(1000), ls = '--', color = 'black')\n",
    "plt.text(620, 6537.56 + 1, 8)\n",
    "plt.plot(np.arange(1000),  8699.36 *  np.ones(1000), ls = '--')\n",
    "plt.text(620, 8699.36 + 1, 9)\n",
    "plt.tight_layout()\n",
    "plt.savefig('./agent120145_origin.png', dpi = 800)"
   ]
  },
  {
   "cell_type": "code",
   "execution_count": 34,
   "metadata": {},
   "outputs": [],
   "source": [
    "agent2_df = a[a['agent_id'] == 123241].copy()\n",
    "agent2_df.reset_index(drop = True, inplace = True)\n",
    "agent2_df = agent2_df.append([{'agent_id': agent2_df.loc[len(agent2_df)-1,'agent_id'], 'current_link':'1',\n",
    "                               'time':agent2_df.loc[len(agent2_df)-1,'time']+100,'length':0}], ignore_index = True)\n",
    "agent2_df['link_attribute'] = agent2_df['current_link'].map(link_attribute_dict).fillna(-1)\n",
    "\n",
    "agent2_routes = agents_links_dict[123241]\n",
    "agent2_routes_df = pd.DataFrame(columns = ['link_id','length'])\n",
    "agent2_routes_df['link_id'] = np.array(agent2_routes)\n",
    "agent2_routes_df['link_id'] = agent2_routes_df['link_id'].astype('str')\n",
    "agent2_routes_df['length'] = agent2_routes_df['link_id'].map(link_length_dict)\n",
    "agent2_routes_df['cum_dist'] = 0\n",
    "for i in range(len(agent2_routes_df)):\n",
    "    if i == 0:\n",
    "        agent2_routes_df.loc[i, 'cum_dist'] = 0\n",
    "    else:\n",
    "         agent2_routes_df.loc[i, 'cum_dist'] = agent2_routes_df.loc[i-1, 'cum_dist'] + agent2_routes_df.loc[i-1, 'length']\n",
    "agent2_routes_cum_dict = dict(zip(agent2_routes_df['link_id'], agent2_routes_df['cum_dist']))\n",
    "agent2_df['cum_dist'] = agent2_df['current_link'].map(agent2_routes_cum_dict).fillna(0)"
   ]
  },
  {
   "cell_type": "code",
   "execution_count": 36,
   "metadata": {},
   "outputs": [],
   "source": [
    "agent2_df.to_csv('./agent123241_origin.csv', index = False)"
   ]
  },
  {
   "cell_type": "code",
   "execution_count": null,
   "metadata": {},
   "outputs": [],
   "source": [
    "# for agent123241:\n",
    "plt.figure()\n",
    "plt.xlabel('time [min]')\n",
    "plt.ylabel('distance [m]')\n",
    "plt.plot(agent1_df['time']/60, agent1_df['cum_dist'], color = 'black')\n",
    "plt.xlim(600,1000)\n",
    "plt.plot(np.arange(1000), 1154.39 *  np.ones(1000), ls = '--', color = 'b')\n",
    "plt.text(620, 1154.39 + 1, 3)\n",
    "plt.plot(np.arange(1000), 1734.44 *  np.ones(1000), ls = '--', color = 'r')\n",
    "plt.text(650, 1734.44 + 1, 4)\n",
    "plt.plot(np.arange(1000), 1954.6 *  np.ones(1000), ls = '--', color = 'y')\n",
    "plt.text(620, 1954.6 + 1, 5)\n",
    "plt.plot(np.arange(1000), 2749.98 *  np.ones(1000), ls = '--', color = 'g')\n",
    "plt.text(620, 2749.98 + 1, 6)\n",
    "plt.plot(np.arange(1000), 4785.55 *  np.ones(1000), ls = '--', color = 'purple')\n",
    "plt.text(620, 4785.55 + 1, 7)\n",
    "plt.plot(np.arange(1000), 6537.56 *  np.ones(1000), ls = '--', color = 'black')\n",
    "plt.text(620, 6537.56 + 1, 8)\n",
    "plt.plot(np.arange(1000),  8699.36 *  np.ones(1000), ls = '--')\n",
    "plt.text(620, 8699.36 + 1, 9)\n",
    "plt.tight_layout()\n",
    "plt.savefig('./agent120145_origin.png', dpi = 800)"
   ]
  }
 ],
 "metadata": {
  "kernelspec": {
   "display_name": "Python 3",
   "language": "python",
   "name": "python3"
  },
  "language_info": {
   "codemirror_mode": {
    "name": "ipython",
    "version": 3
   },
   "file_extension": ".py",
   "mimetype": "text/x-python",
   "name": "python",
   "nbconvert_exporter": "python",
   "pygments_lexer": "ipython3",
   "version": "3.6.8"
  }
 },
 "nbformat": 4,
 "nbformat_minor": 2
}
