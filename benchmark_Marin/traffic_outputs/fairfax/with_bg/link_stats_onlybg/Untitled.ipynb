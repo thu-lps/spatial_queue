{
 "cells": [
  {
   "cell_type": "code",
   "execution_count": 1,
   "metadata": {},
   "outputs": [],
   "source": [
    "import numpy as np\n",
    "import pandas as pd"
   ]
  },
  {
   "cell_type": "code",
   "execution_count": 39,
   "metadata": {},
   "outputs": [],
   "source": [
    "path = '/Users/apple/Documents/GitHub/spatial_queue/benchmark_Marin/traffic_inputs/fairfax/new_fairfax_links_tmp.csv'\n",
    "link_df = pd.read_csv(path)\n",
    "mps_dict = dict(zip(link_df['link_id'].astype('int'), link_df['maxmph']/2.23694))"
   ]
  },
  {
   "cell_type": "code",
   "execution_count": 54,
   "metadata": {},
   "outputs": [],
   "source": [
    "links_list = [15290, 31970, 7444, 35285, 15229, 26277, 11937, 7153, 12176, 7143, 58, 18977, 9668, 12414, 1420, 21240, 23002, \n",
    "             14449, 21564, 30429, 9688, 22980, 1408, 7470, 12936, 15644, 9699, 22125, 5056, 5833, 4402, 38005, 13318, 4834, \n",
    "              2940, 4849, 1247, 17681, 15372, 453,15382, 31975, 10368, 4969, 13113, 9924, 30445, 22430, 4456, 23103, 189, 15153, \n",
    "              17738, 11631, 6037, 17671, 12217, 178, 223, 8627, 14269, 30469, 232, 3728, 16782, 4865, 4845, 534, 12939, 2206, 8297, \n",
    "              31477, 31136, 16267, 5822, 9883, 30654, 31262, 9805, 37822, 31288, 7510, 11522, 16122, 29552, 8169,10578,28661, 30612,\n",
    "              28166, 16493, 22992, 922, 1496, 723, 10377, 16844, 12161, 7612, 6255, 964, 3786, 5644, 3131, 27481, 6065, 9148, 30902,15048, \n",
    "              13591, 1312, 12700, 294,9246, 4443, 38542, 34696, 38049, 36609, 39708, 31859, 40194, 1,170, 149, 37360, 34033, 10910, 39327, \n",
    "              9937, 9086, 5116, 35859, 30112, 18781, 17706, 15874, 14149, 3014,33145,27776]\n",
    "for i in range(0, 26800, 900):\n",
    "    path = './lfairfax_vect_at_{}_all_links.csv'.format(i)\n",
    "    data = pd.read_csv(path)\n",
    "    #data['speed'] = data['length'] / data['rtt'] # unit: m/s\n",
    "    #data = data[data['speed'] <= 200].copy()\n",
    "    data = data[~data['geometry'].isnull()].copy()\n",
    "    data['link_id'] = data['link_id'].astype('int')\n",
    "    data = data[data['link_id'].isin(links_list)].copy()\n",
    "    data['mps'] = data['link_id'].map(mps_dict)\n",
    "    data['percentage'] = data['speed'] / data['mps']\n",
    "    data.to_csv('./lfairfax_vect_at_{}_selected_links.csv'.format(i), index = False)\n",
    "    "
   ]
  },
  {
   "cell_type": "code",
   "execution_count": 55,
   "metadata": {},
   "outputs": [],
   "source": [
    "path = './lfairfax_vect_at_{}_selected_links.csv'.format(900)\n",
    "data = pd.read_csv(path)"
   ]
  },
  {
   "cell_type": "code",
   "execution_count": 56,
   "metadata": {},
   "outputs": [
    {
     "data": {
      "text/html": [
       "<div>\n",
       "<style scoped>\n",
       "    .dataframe tbody tr th:only-of-type {\n",
       "        vertical-align: middle;\n",
       "    }\n",
       "\n",
       "    .dataframe tbody tr th {\n",
       "        vertical-align: top;\n",
       "    }\n",
       "\n",
       "    .dataframe thead th {\n",
       "        text-align: right;\n",
       "    }\n",
       "</style>\n",
       "<table border=\"1\" class=\"dataframe\">\n",
       "  <thead>\n",
       "    <tr style=\"text-align: right;\">\n",
       "      <th></th>\n",
       "      <th>link_id</th>\n",
       "      <th>length</th>\n",
       "      <th>rtt</th>\n",
       "      <th>geometry</th>\n",
       "      <th>speed</th>\n",
       "      <th>mps</th>\n",
       "      <th>percentage</th>\n",
       "    </tr>\n",
       "  </thead>\n",
       "  <tbody>\n",
       "    <tr>\n",
       "      <th>0</th>\n",
       "      <td>58</td>\n",
       "      <td>13.77</td>\n",
       "      <td>1.232368</td>\n",
       "      <td>LINESTRING (-13646791.12488036 4577880.1340452...</td>\n",
       "      <td>11.173611</td>\n",
       "      <td>11.175981</td>\n",
       "      <td>0.999788</td>\n",
       "    </tr>\n",
       "    <tr>\n",
       "      <th>1</th>\n",
       "      <td>149</td>\n",
       "      <td>24.32</td>\n",
       "      <td>1.554683</td>\n",
       "      <td>LINESTRING (-13643740.47360557 4576194.9169697...</td>\n",
       "      <td>15.643056</td>\n",
       "      <td>15.646374</td>\n",
       "      <td>0.999788</td>\n",
       "    </tr>\n",
       "    <tr>\n",
       "      <th>2</th>\n",
       "      <td>170</td>\n",
       "      <td>25.32</td>\n",
       "      <td>1.618610</td>\n",
       "      <td>LINESTRING (-13643650.52745701 4576128.1613452...</td>\n",
       "      <td>15.643056</td>\n",
       "      <td>15.646374</td>\n",
       "      <td>0.999788</td>\n",
       "    </tr>\n",
       "    <tr>\n",
       "      <th>3</th>\n",
       "      <td>178</td>\n",
       "      <td>22.09</td>\n",
       "      <td>1.647483</td>\n",
       "      <td>LINESTRING (-13643886.58043724 4576599.4564951...</td>\n",
       "      <td>13.408333</td>\n",
       "      <td>13.411178</td>\n",
       "      <td>0.999788</td>\n",
       "    </tr>\n",
       "    <tr>\n",
       "      <th>4</th>\n",
       "      <td>189</td>\n",
       "      <td>22.44</td>\n",
       "      <td>1.673586</td>\n",
       "      <td>LINESTRING (-13644333.55045667 4576944.7645489...</td>\n",
       "      <td>13.408333</td>\n",
       "      <td>13.411178</td>\n",
       "      <td>0.999788</td>\n",
       "    </tr>\n",
       "  </tbody>\n",
       "</table>\n",
       "</div>"
      ],
      "text/plain": [
       "   link_id  length       rtt  \\\n",
       "0       58   13.77  1.232368   \n",
       "1      149   24.32  1.554683   \n",
       "2      170   25.32  1.618610   \n",
       "3      178   22.09  1.647483   \n",
       "4      189   22.44  1.673586   \n",
       "\n",
       "                                            geometry      speed        mps  \\\n",
       "0  LINESTRING (-13646791.12488036 4577880.1340452...  11.173611  11.175981   \n",
       "1  LINESTRING (-13643740.47360557 4576194.9169697...  15.643056  15.646374   \n",
       "2  LINESTRING (-13643650.52745701 4576128.1613452...  15.643056  15.646374   \n",
       "3  LINESTRING (-13643886.58043724 4576599.4564951...  13.408333  13.411178   \n",
       "4  LINESTRING (-13644333.55045667 4576944.7645489...  13.408333  13.411178   \n",
       "\n",
       "   percentage  \n",
       "0    0.999788  \n",
       "1    0.999788  \n",
       "2    0.999788  \n",
       "3    0.999788  \n",
       "4    0.999788  "
      ]
     },
     "execution_count": 56,
     "metadata": {},
     "output_type": "execute_result"
    }
   ],
   "source": [
    "data.head()"
   ]
  },
  {
   "cell_type": "code",
   "execution_count": null,
   "metadata": {},
   "outputs": [],
   "source": []
  }
 ],
 "metadata": {
  "kernelspec": {
   "display_name": "Python 3",
   "language": "python",
   "name": "python3"
  },
  "language_info": {
   "codemirror_mode": {
    "name": "ipython",
    "version": 3
   },
   "file_extension": ".py",
   "mimetype": "text/x-python",
   "name": "python",
   "nbconvert_exporter": "python",
   "pygments_lexer": "ipython3",
   "version": "3.6.8"
  }
 },
 "nbformat": 4,
 "nbformat_minor": 2
}
