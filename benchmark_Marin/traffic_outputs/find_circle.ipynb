{
 "cells": [
  {
   "cell_type": "code",
   "execution_count": 1,
   "metadata": {},
   "outputs": [],
   "source": [
    "from networkx import Graph, DiGraph, simple_cycles\n",
    "import numpy as np\n",
    "import pandas as pd\n",
    "import matplotlib.pyplot as plt"
   ]
  },
  {
   "cell_type": "code",
   "execution_count": 2,
   "metadata": {},
   "outputs": [
    {
     "data": {
      "text/html": [
       "<div>\n",
       "<style scoped>\n",
       "    .dataframe tbody tr th:only-of-type {\n",
       "        vertical-align: middle;\n",
       "    }\n",
       "\n",
       "    .dataframe tbody tr th {\n",
       "        vertical-align: top;\n",
       "    }\n",
       "\n",
       "    .dataframe thead th {\n",
       "        text-align: right;\n",
       "    }\n",
       "</style>\n",
       "<table border=\"1\" class=\"dataframe\">\n",
       "  <thead>\n",
       "    <tr style=\"text-align: right;\">\n",
       "      <th></th>\n",
       "      <th>agent_id</th>\n",
       "      <th>current_link</th>\n",
       "      <th>next_link</th>\n",
       "      <th>current_link_enter_time</th>\n",
       "      <th>agent_status</th>\n",
       "      <th>origin_nid</th>\n",
       "      <th>destin_nid</th>\n",
       "      <th>current_link_storage_remain</th>\n",
       "      <th>next_link_storage_remain</th>\n",
       "    </tr>\n",
       "  </thead>\n",
       "  <tbody>\n",
       "    <tr>\n",
       "      <th>0</th>\n",
       "      <td>27096</td>\n",
       "      <td>33602.0</td>\n",
       "      <td>38372.0</td>\n",
       "      <td>15281.0</td>\n",
       "      <td>2</td>\n",
       "      <td>8667</td>\n",
       "      <td>1269</td>\n",
       "      <td>-12.4</td>\n",
       "      <td>-9.7</td>\n",
       "    </tr>\n",
       "  </tbody>\n",
       "</table>\n",
       "</div>"
      ],
      "text/plain": [
       "   agent_id  current_link  next_link  current_link_enter_time  agent_status  \\\n",
       "0     27096       33602.0    38372.0                  15281.0             2   \n",
       "\n",
       "   origin_nid  destin_nid  current_link_storage_remain  \\\n",
       "0        8667        1269                        -12.4   \n",
       "\n",
       "   next_link_storage_remain  \n",
       "0                      -9.7  "
      ]
     },
     "execution_count": 2,
     "metadata": {},
     "output_type": "execute_result"
    }
   ],
   "source": [
    "agent_path = '/Users/apple/Documents/GitHub/spatial_queue/benchmark_Marin/traffic_outputs/fairfax/with_bg/agent_stats_add_sr/fairfax_vect_at_71000_bg_1_real_departure_time_agent.csv'\n",
    "agent_df = pd.read_csv(agent_path)\n",
    "agent_df['current_link'] = agent_df['current_link'].astype('str')\n",
    "agent_df['current_link_start'] = agent_df['current_link'].apply(lambda x: x[0])\n",
    "agent_df = agent_df.loc[agent_df['current_link_start'] != 'v',  :]\n",
    "agent_df['current_link'] = agent_df['current_link'].astype('float')\n",
    "agent_df['next_link'] = agent_df['next_link'].astype('float')\n",
    "\n",
    "agent_df = agent_df[agent_df.columns[:-1]]\n",
    "agent_df.reset_index(drop = True, inplace = True)\n",
    "agent_df.head(1)"
   ]
  },
  {
   "cell_type": "code",
   "execution_count": 3,
   "metadata": {},
   "outputs": [
    {
     "data": {
      "text/plain": [
       "1306"
      ]
     },
     "execution_count": 3,
     "metadata": {},
     "output_type": "execute_result"
    }
   ],
   "source": [
    "#link_total = np.concatenate((agent_df['current_link'].values, agent_df['next_link'].values))\n",
    "link_total = agent_df['current_link'].values\n",
    "link_total = np.unique(link_total)\n",
    "len(link_total)"
   ]
  },
  {
   "cell_type": "code",
   "execution_count": 4,
   "metadata": {},
   "outputs": [],
   "source": [
    "next_link_dict = {}\n",
    "for link_tmp in link_total:\n",
    "    next_link_list = np.unique(agent_df.loc[agent_df['current_link'] == link_tmp, 'next_link'].values)\n",
    "    next_link_list = next_link_list.tolist()\n",
    "    next_link_dict[link_tmp] = next_link_list"
   ]
  },
  {
   "cell_type": "code",
   "execution_count": 5,
   "metadata": {},
   "outputs": [],
   "source": [
    "#G = Graph(next_link_dict)\n",
    "#DG = DiGraph(G)"
   ]
  },
  {
   "cell_type": "code",
   "execution_count": 6,
   "metadata": {},
   "outputs": [],
   "source": [
    "DG = DiGraph()"
   ]
  },
  {
   "cell_type": "code",
   "execution_count": 7,
   "metadata": {},
   "outputs": [],
   "source": [
    "DG.add_edges_from([(int(getattr(agent, 'current_link')), int(getattr(agent, 'next_link'))) for agent in agent_df.itertuples()])"
   ]
  },
  {
   "cell_type": "code",
   "execution_count": 8,
   "metadata": {},
   "outputs": [
    {
     "data": {
      "text/plain": [
       "1"
      ]
     },
     "execution_count": 8,
     "metadata": {},
     "output_type": "execute_result"
    }
   ],
   "source": [
    "cycle = list(simple_cycles(DG))\n",
    "len(cycle)"
   ]
  },
  {
   "cell_type": "code",
   "execution_count": 9,
   "metadata": {
    "scrolled": true
   },
   "outputs": [
    {
     "data": {
      "text/plain": [
       "[3206,\n",
       " 2965,\n",
       " 10133,\n",
       " 1417,\n",
       " 4040,\n",
       " 12453,\n",
       " 27496,\n",
       " 15058,\n",
       " 12894,\n",
       " 5044,\n",
       " 6392,\n",
       " 4372,\n",
       " 7496,\n",
       " 8349,\n",
       " 1124,\n",
       " 2574,\n",
       " 3897,\n",
       " 2112,\n",
       " 13686,\n",
       " 15161,\n",
       " 9125,\n",
       " 10462,\n",
       " 12949,\n",
       " 892,\n",
       " 7356,\n",
       " 2810,\n",
       " 17715,\n",
       " 16636,\n",
       " 8951,\n",
       " 20410,\n",
       " 2154,\n",
       " 22928,\n",
       " 13305,\n",
       " 7896,\n",
       " 1933,\n",
       " 6870,\n",
       " 7344,\n",
       " 8980,\n",
       " 12602,\n",
       " 11642,\n",
       " 11593,\n",
       " 5142]"
      ]
     },
     "metadata": {},
     "output_type": "display_data"
    }
   ],
   "source": [
    "display(cycle[0])\n",
    "#display(cycle[1])\n",
    "#display(cycle[2])\n",
    "#display(cycle[3])"
   ]
  },
  {
   "cell_type": "markdown",
   "metadata": {},
   "source": [
    "1"
   ]
  }
 ],
 "metadata": {
  "kernelspec": {
   "display_name": "Python 3",
   "language": "python",
   "name": "python3"
  },
  "language_info": {
   "codemirror_mode": {
    "name": "ipython",
    "version": 3
   },
   "file_extension": ".py",
   "mimetype": "text/x-python",
   "name": "python",
   "nbconvert_exporter": "python",
   "pygments_lexer": "ipython3",
   "version": "3.6.8"
  }
 },
 "nbformat": 4,
 "nbformat_minor": 2
}
