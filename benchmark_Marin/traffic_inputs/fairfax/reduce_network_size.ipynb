{
 "cells": [
  {
   "cell_type": "code",
   "execution_count": 1,
   "metadata": {},
   "outputs": [],
   "source": [
    "import numpy as np\n",
    "import pandas as pd\n",
    "import geopandas as gpd\n",
    "from shapely.geometry import Point\n",
    "from shapely.wkt import loads\n",
    "import matplotlib.pyplot as plt\n",
    "\n",
    "### fix random seed\n",
    "#random.seed(0)\n",
    "np.random.seed(0)"
   ]
  },
  {
   "cell_type": "code",
   "execution_count": 2,
   "metadata": {},
   "outputs": [
    {
     "name": "stdout",
     "output_type": "stream",
     "text": [
      "(48795, 10) (21332, 5)\n"
     ]
    },
    {
     "data": {
      "text/html": [
       "<div>\n",
       "<style scoped>\n",
       "    .dataframe tbody tr th:only-of-type {\n",
       "        vertical-align: middle;\n",
       "    }\n",
       "\n",
       "    .dataframe tbody tr th {\n",
       "        vertical-align: top;\n",
       "    }\n",
       "\n",
       "    .dataframe thead th {\n",
       "        text-align: right;\n",
       "    }\n",
       "</style>\n",
       "<table border=\"1\" class=\"dataframe\">\n",
       "  <thead>\n",
       "    <tr style=\"text-align: right;\">\n",
       "      <th></th>\n",
       "      <th>link_id</th>\n",
       "      <th>start_node_id</th>\n",
       "      <th>end_node_id</th>\n",
       "      <th>link_type</th>\n",
       "      <th>length</th>\n",
       "      <th>maxmph</th>\n",
       "      <th>lanes</th>\n",
       "      <th>geometry</th>\n",
       "      <th>nid_s</th>\n",
       "      <th>nid_e</th>\n",
       "    </tr>\n",
       "  </thead>\n",
       "  <tbody>\n",
       "    <tr>\n",
       "      <th>0</th>\n",
       "      <td>0</td>\n",
       "      <td>0</td>\n",
       "      <td>7270</td>\n",
       "      <td>motorway</td>\n",
       "      <td>790.94</td>\n",
       "      <td>55</td>\n",
       "      <td>2</td>\n",
       "      <td>LINESTRING (-122.5152143 37.9653023, -122.5146...</td>\n",
       "      <td>0</td>\n",
       "      <td>7270</td>\n",
       "    </tr>\n",
       "  </tbody>\n",
       "</table>\n",
       "</div>"
      ],
      "text/plain": [
       "   link_id  start_node_id  end_node_id link_type  length  maxmph  lanes  \\\n",
       "0        0              0         7270  motorway  790.94      55      2   \n",
       "\n",
       "                                            geometry  nid_s  nid_e  \n",
       "0  LINESTRING (-122.5152143 37.9653023, -122.5146...      0   7270  "
      ]
     },
     "metadata": {},
     "output_type": "display_data"
    },
    {
     "data": {
      "text/html": [
       "<div>\n",
       "<style scoped>\n",
       "    .dataframe tbody tr th:only-of-type {\n",
       "        vertical-align: middle;\n",
       "    }\n",
       "\n",
       "    .dataframe tbody tr th {\n",
       "        vertical-align: top;\n",
       "    }\n",
       "\n",
       "    .dataframe thead th {\n",
       "        text-align: right;\n",
       "    }\n",
       "</style>\n",
       "<table border=\"1\" class=\"dataframe\">\n",
       "  <thead>\n",
       "    <tr style=\"text-align: right;\">\n",
       "      <th></th>\n",
       "      <th>node_id</th>\n",
       "      <th>lon</th>\n",
       "      <th>lat</th>\n",
       "      <th>type</th>\n",
       "      <th>nid</th>\n",
       "    </tr>\n",
       "  </thead>\n",
       "  <tbody>\n",
       "    <tr>\n",
       "      <th>0</th>\n",
       "      <td>0</td>\n",
       "      <td>-122.515214</td>\n",
       "      <td>37.965302</td>\n",
       "      <td>real</td>\n",
       "      <td>0</td>\n",
       "    </tr>\n",
       "  </tbody>\n",
       "</table>\n",
       "</div>"
      ],
      "text/plain": [
       "   node_id         lon        lat  type  nid\n",
       "0        0 -122.515214  37.965302  real    0"
      ]
     },
     "metadata": {},
     "output_type": "display_data"
    }
   ],
   "source": [
    "case = 'fairfax'\n",
    "\n",
    "### read OD\n",
    "edges = pd.read_csv('{}_links.csv'.format(case), float_precision = 'round_trip')\n",
    "nodes = pd.read_csv('{}_nodes.csv'.format(case), float_precision = 'round_trip')\n",
    "\n",
    "### bay area or tokyo\n",
    "edges['nid_s'] = edges['start_node_id']\n",
    "edges['nid_e'] = edges['end_node_id']\n",
    "nodes['nid'] = nodes['node_id']\n",
    "\n",
    "print(edges.shape, nodes.shape)\n",
    "display(edges.head(1))\n",
    "display(nodes.head(1))"
   ]
  },
  {
   "cell_type": "code",
   "execution_count": 3,
   "metadata": {},
   "outputs": [
    {
     "name": "stdout",
     "output_type": "stream",
     "text": [
      "(48795, 10) (6662, 10)\n",
      "(21332, 5) (5897, 2)\n"
     ]
    },
    {
     "data": {
      "text/html": [
       "<div>\n",
       "<style scoped>\n",
       "    .dataframe tbody tr th:only-of-type {\n",
       "        vertical-align: middle;\n",
       "    }\n",
       "\n",
       "    .dataframe tbody tr th {\n",
       "        vertical-align: top;\n",
       "    }\n",
       "\n",
       "    .dataframe thead th {\n",
       "        text-align: right;\n",
       "    }\n",
       "</style>\n",
       "<table border=\"1\" class=\"dataframe\">\n",
       "  <thead>\n",
       "    <tr style=\"text-align: right;\">\n",
       "      <th></th>\n",
       "      <th>nid</th>\n",
       "      <th>node_grp</th>\n",
       "    </tr>\n",
       "  </thead>\n",
       "  <tbody>\n",
       "    <tr>\n",
       "      <th>5892</th>\n",
       "      <td>21256</td>\n",
       "      <td>g2465</td>\n",
       "    </tr>\n",
       "    <tr>\n",
       "      <th>5893</th>\n",
       "      <td>21257</td>\n",
       "      <td>g2465</td>\n",
       "    </tr>\n",
       "    <tr>\n",
       "      <th>5894</th>\n",
       "      <td>21265</td>\n",
       "      <td>g2361</td>\n",
       "    </tr>\n",
       "    <tr>\n",
       "      <th>5895</th>\n",
       "      <td>21318</td>\n",
       "      <td>g2466</td>\n",
       "    </tr>\n",
       "    <tr>\n",
       "      <th>5896</th>\n",
       "      <td>21317</td>\n",
       "      <td>g2466</td>\n",
       "    </tr>\n",
       "  </tbody>\n",
       "</table>\n",
       "</div>"
      ],
      "text/plain": [
       "        nid node_grp\n",
       "5892  21256    g2465\n",
       "5893  21257    g2465\n",
       "5894  21265    g2361\n",
       "5895  21318    g2466\n",
       "5896  21317    g2466"
      ]
     },
     "execution_count": 3,
     "metadata": {},
     "output_type": "execute_result"
    }
   ],
   "source": [
    "removed_edges = edges[edges['length']<=20].copy()\n",
    "print(edges.shape, removed_edges.shape)\n",
    "removed_node_grp = {}\n",
    "grp_id = 0\n",
    "for edge in removed_edges.itertuples():\n",
    "    nid_s = getattr(edge, 'nid_s')\n",
    "    nid_e = getattr(edge, 'nid_e')\n",
    "    try:\n",
    "        nid_s_grp = removed_node_grp[nid_s]\n",
    "    except KeyError:\n",
    "        nid_s_grp = grp_id\n",
    "    try:\n",
    "        nid_e_grp = removed_node_grp[nid_e]\n",
    "    except KeyError:\n",
    "        nid_e_grp = grp_id\n",
    "    nid_se_grp_id = min(nid_s_grp, nid_e_grp)\n",
    "    if (nid_s==755916) and (nid_e==938408):\n",
    "        print(nid_s, nid_e, nid_s_grp, nid_e_grp)\n",
    "    removed_node_grp[nid_s] = nid_se_grp_id\n",
    "    removed_node_grp[nid_e] = nid_se_grp_id\n",
    "    if nid_se_grp_id == grp_id: grp_id += 1\n",
    "removed_node_grp_df = pd.DataFrame(removed_node_grp.items(), columns=['nid', 'node_grp'])\n",
    "removed_node_grp_df['node_grp'] = removed_node_grp_df['node_grp'].apply(lambda x: 'g{}'.format(x))\n",
    "print(nodes.shape, removed_node_grp_df.shape)\n",
    "removed_node_grp_df.tail()"
   ]
  },
  {
   "cell_type": "code",
   "execution_count": 4,
   "metadata": {},
   "outputs": [
    {
     "name": "stdout",
     "output_type": "stream",
     "text": [
      "(21332, 5) (17848, 3)\n"
     ]
    }
   ],
   "source": [
    "new_nodes = pd.merge(nodes, removed_node_grp_df, how='left', on='nid')\n",
    "new_nodes['node_grp'] = np.where(\n",
    "    pd.isnull(new_nodes['node_grp']), new_nodes['nid'], new_nodes['node_grp'])\n",
    "new_nodes = new_nodes.groupby('node_grp').agg({'lon': np.mean, 'lat': np.mean}).reset_index()\n",
    "print(nodes.shape, new_nodes.shape)"
   ]
  },
  {
   "cell_type": "code",
   "execution_count": 5,
   "metadata": {},
   "outputs": [
    {
     "data": {
      "text/html": [
       "<div>\n",
       "<style scoped>\n",
       "    .dataframe tbody tr th:only-of-type {\n",
       "        vertical-align: middle;\n",
       "    }\n",
       "\n",
       "    .dataframe tbody tr th {\n",
       "        vertical-align: top;\n",
       "    }\n",
       "\n",
       "    .dataframe thead th {\n",
       "        text-align: right;\n",
       "    }\n",
       "</style>\n",
       "<table border=\"1\" class=\"dataframe\">\n",
       "  <thead>\n",
       "    <tr style=\"text-align: right;\">\n",
       "      <th></th>\n",
       "      <th>link_id</th>\n",
       "      <th>start_node_id</th>\n",
       "      <th>end_node_id</th>\n",
       "      <th>link_type</th>\n",
       "      <th>length</th>\n",
       "      <th>maxmph</th>\n",
       "      <th>lanes</th>\n",
       "      <th>geometry</th>\n",
       "      <th>nid_s</th>\n",
       "      <th>nid_e</th>\n",
       "    </tr>\n",
       "  </thead>\n",
       "  <tbody>\n",
       "    <tr>\n",
       "      <th>0</th>\n",
       "      <td>0</td>\n",
       "      <td>0</td>\n",
       "      <td>7270</td>\n",
       "      <td>motorway</td>\n",
       "      <td>790.94</td>\n",
       "      <td>55</td>\n",
       "      <td>2</td>\n",
       "      <td>LINESTRING (-122.5152143 37.9653023, -122.5146...</td>\n",
       "      <td>0</td>\n",
       "      <td>7270</td>\n",
       "    </tr>\n",
       "  </tbody>\n",
       "</table>\n",
       "</div>"
      ],
      "text/plain": [
       "   link_id  start_node_id  end_node_id link_type  length  maxmph  lanes  \\\n",
       "0        0              0         7270  motorway  790.94      55      2   \n",
       "\n",
       "                                            geometry  nid_s  nid_e  \n",
       "0  LINESTRING (-122.5152143 37.9653023, -122.5146...      0   7270  "
      ]
     },
     "execution_count": 5,
     "metadata": {},
     "output_type": "execute_result"
    }
   ],
   "source": [
    "edges.head(1)"
   ]
  },
  {
   "cell_type": "code",
   "execution_count": 6,
   "metadata": {},
   "outputs": [
    {
     "name": "stdout",
     "output_type": "stream",
     "text": [
      "(40194, 11) (17848, 4)\n"
     ]
    },
    {
     "data": {
      "text/html": [
       "<div>\n",
       "<style scoped>\n",
       "    .dataframe tbody tr th:only-of-type {\n",
       "        vertical-align: middle;\n",
       "    }\n",
       "\n",
       "    .dataframe tbody tr th {\n",
       "        vertical-align: top;\n",
       "    }\n",
       "\n",
       "    .dataframe thead th {\n",
       "        text-align: right;\n",
       "    }\n",
       "</style>\n",
       "<table border=\"1\" class=\"dataframe\">\n",
       "  <thead>\n",
       "    <tr style=\"text-align: right;\">\n",
       "      <th></th>\n",
       "      <th>start_nid</th>\n",
       "      <th>end_nid</th>\n",
       "      <th>nid_s_old</th>\n",
       "      <th>nid_e_old</th>\n",
       "      <th>length</th>\n",
       "      <th>lanes</th>\n",
       "      <th>link_type</th>\n",
       "      <th>maxmph</th>\n",
       "      <th>geometry</th>\n",
       "      <th>fft</th>\n",
       "      <th>link_id</th>\n",
       "    </tr>\n",
       "  </thead>\n",
       "  <tbody>\n",
       "    <tr>\n",
       "      <th>38123</th>\n",
       "      <td>13918</td>\n",
       "      <td>2890</td>\n",
       "      <td>19219</td>\n",
       "      <td>3368</td>\n",
       "      <td>11710.86</td>\n",
       "      <td>1</td>\n",
       "      <td>tertiary</td>\n",
       "      <td>25</td>\n",
       "      <td>LINESTRING(-122.624709 37.9727076, -122.624836...</td>\n",
       "      <td>1048.081939</td>\n",
       "      <td>40193</td>\n",
       "    </tr>\n",
       "  </tbody>\n",
       "</table>\n",
       "</div>"
      ],
      "text/plain": [
       "       start_nid  end_nid  nid_s_old  nid_e_old    length  lanes link_type  \\\n",
       "38123      13918     2890      19219       3368  11710.86      1  tertiary   \n",
       "\n",
       "       maxmph                                           geometry          fft  \\\n",
       "38123      25  LINESTRING(-122.624709 37.9727076, -122.624836...  1048.081939   \n",
       "\n",
       "       link_id  \n",
       "38123    40193  "
      ]
     },
     "metadata": {},
     "output_type": "display_data"
    },
    {
     "data": {
      "text/html": [
       "<div>\n",
       "<style scoped>\n",
       "    .dataframe tbody tr th:only-of-type {\n",
       "        vertical-align: middle;\n",
       "    }\n",
       "\n",
       "    .dataframe tbody tr th {\n",
       "        vertical-align: top;\n",
       "    }\n",
       "\n",
       "    .dataframe thead th {\n",
       "        text-align: right;\n",
       "    }\n",
       "</style>\n",
       "<table border=\"1\" class=\"dataframe\">\n",
       "  <thead>\n",
       "    <tr style=\"text-align: right;\">\n",
       "      <th></th>\n",
       "      <th>node_grp</th>\n",
       "      <th>lon</th>\n",
       "      <th>lat</th>\n",
       "      <th>node_id</th>\n",
       "    </tr>\n",
       "  </thead>\n",
       "  <tbody>\n",
       "    <tr>\n",
       "      <th>17847</th>\n",
       "      <td>g999</td>\n",
       "      <td>-122.546796</td>\n",
       "      <td>38.003471</td>\n",
       "      <td>17847</td>\n",
       "    </tr>\n",
       "  </tbody>\n",
       "</table>\n",
       "</div>"
      ],
      "text/plain": [
       "      node_grp         lon        lat  node_id\n",
       "17847     g999 -122.546796  38.003471    17847"
      ]
     },
     "metadata": {},
     "output_type": "display_data"
    }
   ],
   "source": [
    "new_edges = edges.copy() ### remove those with duplicated new_node_id\n",
    "new_edges = pd.merge(new_edges, removed_node_grp_df, \n",
    "                           how='left', left_on='nid_s', right_on='nid')\n",
    "new_edges = pd.merge(new_edges, removed_node_grp_df, \n",
    "                           how='left', left_on='nid_e', right_on='nid', suffixes=['_ns0', '_ne0'])\n",
    "new_edges['node_grp_ns0'] = np.where(\n",
    "    pd.isnull(new_edges['node_grp_ns0']), new_edges['nid_s'], new_edges['node_grp_ns0'])\n",
    "new_edges['node_grp_ne0'] = np.where(\n",
    "    pd.isnull(new_edges['node_grp_ne0']), new_edges['nid_e'], new_edges['node_grp_ne0'])\n",
    "new_edges = new_edges[[\n",
    "    'nid_s', 'nid_e', 'node_grp_ns0', 'node_grp_ne0', 'length', 'lanes', 'link_type', 'maxmph', 'geometry']]\n",
    "new_edges = new_edges.loc[new_edges['node_grp_ns0']!=new_edges['node_grp_ne0']]\n",
    "### update nodes\n",
    "### first remove those without links\n",
    "new_nodes = new_nodes.loc[(\n",
    "    new_nodes['node_grp'].isin(new_edges['node_grp_ns0'])) | \n",
    "    (new_nodes['node_grp'].isin(new_edges['node_grp_ne0']))\n",
    "]\n",
    "new_nodes['node_id'] = np.arange(new_nodes.shape[0])\n",
    "\n",
    "new_edges = pd.merge(new_edges, new_nodes, how='left', left_on='node_grp_ns0', right_on='node_grp')\n",
    "new_edges = pd.merge(new_edges, new_nodes, how='left', left_on='node_grp_ne0', right_on='node_grp', \n",
    "                           suffixes=['_ns', '_ne'])\n",
    "\n",
    "geometry_list = []\n",
    "for edge in new_edges.itertuples():\n",
    "    geometry = getattr(edge, 'geometry').replace('LINESTRING(','').replace(')', '').split(', ')\n",
    "    geometry = [tuple(xy.split(' ')) for xy in geometry]\n",
    "    lon_ns, lat_ns = getattr(edge, 'lon_ns'), getattr(edge, 'lat_ns')\n",
    "    lon_ne, lat_ne = getattr(edge, 'lon_ne'), getattr(edge, 'lat_ne')\n",
    "    geometry = [(lon_ns, lat_ns)] + geometry[1:-2] + [(lon_ne, lat_ne)]\n",
    "    geometry_list.append('LINESTRING('+', '.join('{} {}'.format(xy[0], xy[1]) for xy in geometry)+')')\n",
    "new_edges['geometry'] = geometry_list\n",
    "new_edges['start_nid'] = new_edges['node_id_ns']\n",
    "new_edges['end_nid'] = new_edges['node_id_ne']\n",
    "new_edges['nid_s_old'] = new_edges['nid_s']\n",
    "new_edges['nid_e_old'] = new_edges['nid_e']\n",
    "new_edges = new_edges[['start_nid', 'end_nid', 'nid_s_old', 'nid_e_old',\n",
    "                                  'length', 'lanes', 'link_type', 'maxmph', 'geometry']]\n",
    "new_edges = new_edges.loc[new_edges['start_nid']!=new_edges['end_nid']]\n",
    "\n",
    "### add attributes\n",
    "new_edges['fft'] = new_edges['length']/(new_edges['maxmph']*1609/3600)\n",
    "new_edges = new_edges.sort_values(by='fft', ascending=True).drop_duplicates(subset=['start_nid', 'end_nid'], keep='first')\n",
    "\n",
    "### add link_id\n",
    "new_edges['link_id'] = np.arange(new_edges.shape[0])\n",
    "print(new_edges.shape, new_nodes.shape)\n",
    "display(new_edges.tail(1))\n",
    "display(new_nodes.tail(1))"
   ]
  },
  {
   "cell_type": "code",
   "execution_count": 7,
   "metadata": {},
   "outputs": [],
   "source": [
    "removed_node_grp_df.to_csv('{}_nid_grp_conversion.csv'.format(case), index=False)\n",
    "new_nodes.to_csv('new_{}_nodes.csv'.format(case), index=False)\n",
    "new_edges.to_csv('new_{}_links.csv'.format(case), index=False)"
   ]
  },
  {
   "cell_type": "code",
   "execution_count": 9,
   "metadata": {},
   "outputs": [],
   "source": [
    "node_old_map_new = {}\n",
    "for n in new_edges.itertuples():\n",
    "    node_old_map_new[getattr(n, 'nid_s_old')] = getattr(n, 'start_nid')\n",
    "    node_old_map_new[getattr(n, 'nid_e_old')] = getattr(n, 'end_nid')"
   ]
  },
  {
   "cell_type": "code",
   "execution_count": 13,
   "metadata": {},
   "outputs": [
    {
     "name": "stdout",
     "output_type": "stream",
     "text": [
      "fairfax_ods_day\n",
      "background_ods_day_for_Marin\n"
     ]
    }
   ],
   "source": [
    "for od_file in ['{}_ods_day'.format(case), \n",
    "                'background_ods_day_for_Marin']:\n",
    "    print(od_file)\n",
    "    sub_od = pd.read_csv(od_file+'.csv', float_precision = 'round_trip')\n",
    "    sub_od['origin_nid_new'] = sub_od['origin_nid'].map(node_old_map_new)\n",
    "    sub_od['destin_nid_new'] = sub_od['destin_nid'].map(node_old_map_new)\n",
    "    sub_od =  sub_od[~pd.isnull(sub_od['origin_nid_new'])]\n",
    "    sub_od =  sub_od[~pd.isnull(sub_od['destin_nid_new'])]\n",
    "    sub_od['origin_nid_new'] = sub_od['origin_nid_new'].astype('int')\n",
    "    sub_od['destin_nid_new'] = sub_od['destin_nid_new'].astype('int')    \n",
    "    sub_od.to_csv(od_file + '_new.csv', index = False)"
   ]
  },
  {
   "cell_type": "code",
   "execution_count": null,
   "metadata": {},
   "outputs": [],
   "source": []
  }
 ],
 "metadata": {
  "kernelspec": {
   "display_name": "Python 3",
   "language": "python",
   "name": "python3"
  },
  "language_info": {
   "codemirror_mode": {
    "name": "ipython",
    "version": 3
   },
   "file_extension": ".py",
   "mimetype": "text/x-python",
   "name": "python",
   "nbconvert_exporter": "python",
   "pygments_lexer": "ipython3",
   "version": "3.6.8"
  }
 },
 "nbformat": 4,
 "nbformat_minor": 2
}
