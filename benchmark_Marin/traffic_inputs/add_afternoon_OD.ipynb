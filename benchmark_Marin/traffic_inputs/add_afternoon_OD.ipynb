{
 "cells": [
  {
   "cell_type": "code",
   "execution_count": 1,
   "metadata": {},
   "outputs": [],
   "source": [
    "import pandas as pd\n",
    "import matplotlib.pyplot as plt\n",
    "import numpy as np"
   ]
  },
  {
   "cell_type": "code",
   "execution_count": 3,
   "metadata": {},
   "outputs": [],
   "source": [
    "case = 'fairfax'\n",
    "path = './{}/background_ods_day_for_Marin_new_change_marin_side_od.csv'.format(case)\n",
    "bg_od_df = pd.read_csv(path)"
   ]
  },
  {
   "cell_type": "code",
   "execution_count": 5,
   "metadata": {},
   "outputs": [],
   "source": [
    "bg_od_add_afternoon_df = pd.DataFrame(columns = ['origin_nid_old','destin_nid_old','departure_hour','departure_quarter','origin_nid','destin_nid'])\n",
    "for bg_od in bg_od_df.itertuples():\n",
    "    dep_h = getattr(bg_od, 'departure_hour')\n",
    "    dep_q = getattr(bg_od, 'departure_quarter')\n",
    "    origin_nid_old = getattr(bg_od, 'origin_nid_old')\n",
    "    destin_nid_old = getattr(bg_od, 'destin_nid_old')\n",
    "    origin_nid = getattr(bg_od, 'origin_nid')\n",
    "    destin_nid = getattr(bg_od, 'destin_nid')\n",
    "    \n",
    "    if dep_h == 10:\n",
    "        dep_h_now = 16\n",
    "        dep_q_now = 45 - dep_q\n",
    "        origin_nid_now = destin_nid\n",
    "        origin_nid_old_now = destin_nid_old\n",
    "        destin_nid_now = origin_nid\n",
    "        destin_nid_old_now = origin_nid_old\n",
    "        bg_od_add_afternoon_df = bg_od_add_afternoon_df.append([{'origin_nid_old':origin_nid_old_now,'destin_nid_old':destin_nid_old_now,\n",
    "                                                                 'departure_hour':dep_h_now,'departure_quarter':dep_q_now,'origin_nid':origin_nid_now,\n",
    "                                                                 'destin_nid':destin_nid_now}], ignore_index = True)\n",
    "    elif dep_h == 9:\n",
    "        dep_h_now = 17\n",
    "        dep_q_now = 45 - dep_q\n",
    "        origin_nid_now = destin_nid\n",
    "        origin_nid_old_now = destin_nid_old\n",
    "        destin_nid_now = origin_nid\n",
    "        destin_nid_old_now = origin_nid_old\n",
    "        bg_od_add_afternoon_df = bg_od_add_afternoon_df.append([{'origin_nid_old':origin_nid_old_now,'destin_nid_old':destin_nid_old_now,\n",
    "                                                                 'departure_hour':dep_h_now,'departure_quarter':dep_q_now,'origin_nid':origin_nid_now,\n",
    "                                                                 'destin_nid':destin_nid_now}], ignore_index = True)        \n",
    "    elif dep_h == 8:\n",
    "        dep_h_now = 18\n",
    "        dep_q_now = 45 - dep_q\n",
    "        origin_nid_now = destin_nid\n",
    "        origin_nid_old_now = destin_nid_old\n",
    "        destin_nid_now = origin_nid\n",
    "        destin_nid_old_now = origin_nid_old\n",
    "        bg_od_add_afternoon_df = bg_od_add_afternoon_df.append([{'origin_nid_old':origin_nid_old_now,'destin_nid_old':destin_nid_old_now,\n",
    "                                                                 'departure_hour':dep_h_now,'departure_quarter':dep_q_now,'origin_nid':origin_nid_now,\n",
    "                                                                 'destin_nid':destin_nid_now}], ignore_index = True)\n",
    "    elif dep_h == 7:\n",
    "        dep_h_now = 19\n",
    "        dep_q_now = 45 - dep_q\n",
    "        origin_nid_now = destin_nid\n",
    "        origin_nid_old_now = destin_nid_old\n",
    "        destin_nid_now = origin_nid\n",
    "        destin_nid_old_now = origin_nid_old\n",
    "        bg_od_add_afternoon_df = bg_od_add_afternoon_df.append([{'origin_nid_old':origin_nid_old_now,'destin_nid_old':destin_nid_old_now,\n",
    "                                                                 'departure_hour':dep_h_now,'departure_quarter':dep_q_now,'origin_nid':origin_nid_now,\n",
    "                                                                 'destin_nid':destin_nid_now}], ignore_index = True)\n",
    "    elif dep_h == 6:\n",
    "        dep_h_now = 20\n",
    "        dep_q_now = 45 - dep_q\n",
    "        origin_nid_now = destin_nid\n",
    "        origin_nid_old_now = destin_nid_old\n",
    "        destin_nid_now = origin_nid\n",
    "        destin_nid_old_now = origin_nid_old\n",
    "        bg_od_add_afternoon_df = bg_od_add_afternoon_df.append([{'origin_nid_old':origin_nid_old_now,'destin_nid_old':destin_nid_old_now,\n",
    "                                                                 'departure_hour':dep_h_now,'departure_quarter':dep_q_now,'origin_nid':origin_nid_now,\n",
    "                                                                 'destin_nid':destin_nid_now}], ignore_index = True)\n",
    "    elif dep_h == 11:\n",
    "        dep_h_now = 12\n",
    "        dep_q_now = dep_q\n",
    "        origin_nid_now = origin_nid\n",
    "        origin_nid_old_now = origin_nid_old\n",
    "        destin_nid_now = destin_nid\n",
    "        destin_nid_old_now = destin_nid_old\n",
    "        bg_od_add_afternoon_df = bg_od_add_afternoon_df.append([{'origin_nid_old':origin_nid_old_now,'destin_nid_old':destin_nid_old_now,\n",
    "                                                                 'departure_hour':dep_h_now,'departure_quarter':dep_q_now,'origin_nid':origin_nid_now,\n",
    "                                                                 'destin_nid':destin_nid_now}], ignore_index = True)\n",
    "        dep_h_now = 13\n",
    "        dep_q_now = dep_q\n",
    "        origin_nid_now = origin_nid\n",
    "        origin_nid_old_now = origin_nid_old\n",
    "        destin_nid_now = destin_nid\n",
    "        destin_nid_old_now = destin_nid_old\n",
    "        bg_od_add_afternoon_df = bg_od_add_afternoon_df.append([{'origin_nid_old':origin_nid_old_now,'destin_nid_old':destin_nid_old_now,\n",
    "                                                                 'departure_hour':dep_h_now,'departure_quarter':dep_q_now,'origin_nid':origin_nid_now,\n",
    "                                                                 'destin_nid':destin_nid_now}], ignore_index = True)\n",
    "        \n",
    "        dep_h_now = 14\n",
    "        dep_q_now = 45 - dep_q\n",
    "        origin_nid_now = destin_nid\n",
    "        origin_nid_old_now = destin_nid_old\n",
    "        destin_nid_now = origin_nid\n",
    "        destin_nid_old_now = origin_nid_old\n",
    "        bg_od_add_afternoon_df = bg_od_add_afternoon_df.append([{'origin_nid_old':origin_nid_old_now,'destin_nid_old':destin_nid_old_now,\n",
    "                                                                 'departure_hour':dep_h_now,'departure_quarter':dep_q_now,'origin_nid':origin_nid_now,\n",
    "                                                                 'destin_nid':destin_nid_now}], ignore_index = True)\n",
    "        \n",
    "        dep_h_now = 15\n",
    "        dep_q_now = 45 - dep_q\n",
    "        origin_nid_now = destin_nid\n",
    "        origin_nid_old_now = destin_nid_old\n",
    "        destin_nid_now = origin_nid\n",
    "        destin_nid_old_now = origin_nid_old\n",
    "        bg_od_add_afternoon_df = bg_od_add_afternoon_df.append([{'origin_nid_old':origin_nid_old_now,'destin_nid_old':destin_nid_old_now,\n",
    "                                                                 'departure_hour':dep_h_now,'departure_quarter':dep_q_now,'origin_nid':origin_nid_now,\n",
    "                                                                 'destin_nid':destin_nid_now}], ignore_index = True)        \n",
    "        "
   ]
  },
  {
   "cell_type": "code",
   "execution_count": 6,
   "metadata": {},
   "outputs": [],
   "source": [
    "a = pd.concat((bg_od_df, bg_od_add_afternoon_df))"
   ]
  },
  {
   "cell_type": "code",
   "execution_count": 9,
   "metadata": {},
   "outputs": [],
   "source": [
    "a.to_csv('./background_ods_day_for_Marin_add_afternoon.csv'.format(case), index = False)"
   ]
  },
  {
   "cell_type": "code",
   "execution_count": null,
   "metadata": {},
   "outputs": [],
   "source": []
  }
 ],
 "metadata": {
  "kernelspec": {
   "display_name": "Python 3",
   "language": "python",
   "name": "python3"
  },
  "language_info": {
   "codemirror_mode": {
    "name": "ipython",
    "version": 3
   },
   "file_extension": ".py",
   "mimetype": "text/x-python",
   "name": "python",
   "nbconvert_exporter": "python",
   "pygments_lexer": "ipython3",
   "version": "3.6.8"
  }
 },
 "nbformat": 4,
 "nbformat_minor": 2
}
