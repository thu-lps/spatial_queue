{
 "cells": [
  {
   "cell_type": "code",
   "execution_count": 1,
   "metadata": {},
   "outputs": [],
   "source": [
    "import pandas as pd\n",
    "import numpy as np"
   ]
  },
  {
   "cell_type": "code",
   "execution_count": 2,
   "metadata": {},
   "outputs": [],
   "source": [
    "case = 'woodacre'\n",
    "\n",
    "node_path = './{}/new_{}_nodes_tmp.csv'.format(case,case)\n",
    "node_df = pd.read_csv(node_path)\n",
    "\n",
    "od_path = './{}/{}_ods_day.csv'.format(case,case)\n",
    "od_df = pd.read_csv(od_path)\n",
    "\n",
    "node_conversion_path = './{}/{}_nid_grp_conversion.csv'.format(case,case)\n",
    "node_conversion_df = pd.read_csv(node_conversion_path)"
   ]
  },
  {
   "cell_type": "code",
   "execution_count": 3,
   "metadata": {},
   "outputs": [],
   "source": [
    "od_df['origin_nid_new'] = od_df['origin_nid'].apply(lambda x: node_conversion_df.loc[node_conversion_df['nid'] == x, 'node_grp'].values[0] if x in node_conversion_df['nid'].values else x)\n",
    "od_df['destin_nid_new'] = od_df['destin_nid'].apply(lambda x: node_conversion_df.loc[node_conversion_df['nid'] == x, 'node_grp'].values[0] if x in node_conversion_df['nid'].values else x)"
   ]
  },
  {
   "cell_type": "code",
   "execution_count": 4,
   "metadata": {},
   "outputs": [],
   "source": [
    "od_df['origin_nid_new'] = od_df['origin_nid_new'].apply(lambda x: node_df.loc[node_df['node_grp'] == str(x), 'node_id'].values[0])\n",
    "od_df['destin_nid_new'] = od_df['destin_nid_new'].apply(lambda x: node_df.loc[node_df['node_grp'] == str(x), 'node_id'].values[0])"
   ]
  },
  {
   "cell_type": "code",
   "execution_count": 5,
   "metadata": {},
   "outputs": [],
   "source": [
    "od_df = od_df.rename(columns = {'origin_nid':'origin_nid_old', 'destin_nid':'destin_nid_old', 'origin_nid_new':'origin_nid', 'destin_nid_new':'destin_nid'})"
   ]
  },
  {
   "cell_type": "code",
   "execution_count": 6,
   "metadata": {},
   "outputs": [],
   "source": [
    "od_df.to_csv('./{}/{}_ods_day_new_tmp.csv'.format(case,case), index = False)"
   ]
  },
  {
   "cell_type": "code",
   "execution_count": null,
   "metadata": {},
   "outputs": [],
   "source": []
  }
 ],
 "metadata": {
  "kernelspec": {
   "display_name": "Python 3",
   "language": "python",
   "name": "python3"
  },
  "language_info": {
   "codemirror_mode": {
    "name": "ipython",
    "version": 3
   },
   "file_extension": ".py",
   "mimetype": "text/x-python",
   "name": "python",
   "nbconvert_exporter": "python",
   "pygments_lexer": "ipython3",
   "version": "3.6.8"
  }
 },
 "nbformat": 4,
 "nbformat_minor": 2
}
