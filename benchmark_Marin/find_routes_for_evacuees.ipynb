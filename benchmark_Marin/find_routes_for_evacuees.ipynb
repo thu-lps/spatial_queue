{
 "cells": [
  {
   "cell_type": "code",
   "execution_count": 45,
   "metadata": {},
   "outputs": [],
   "source": [
    "import numpy as np\n",
    "import pandas as pd\n",
    "import random\n",
    "import sys\n",
    "random.seed(0)\n",
    "np.random.seed(0)\n",
    "\n",
    "### spatial queue model\n",
    "sys.path.insert(0, '..')\n",
    "import model.queue_class_ce170 as sq_loop\n",
    "import model.spatial_queue_array_add_storage_remain_special_node_reroute_rtt_change_queue_length as sq_vect"
   ]
  },
  {
   "cell_type": "code",
   "execution_count": 46,
   "metadata": {},
   "outputs": [
    {
     "name": "stdout",
     "output_type": "stream",
     "text": [
      "# nodes 17857, # links 40211, # ods 5846\n"
     ]
    }
   ],
   "source": [
    "### Read network and demand\n",
    "case='tamalpais'\n",
    "nodes_df = pd.read_csv('traffic_inputs/{}/new_{}_nodes_tmp.csv'.format(case,case), float_precision = \"round_trip\")\n",
    "links_df = pd.read_csv('traffic_inputs/{}/new_{}_links_tmp.csv'.format(case,case), float_precision = \"round_trip\")\n",
    "od_df = pd.read_csv('traffic_inputs/{}/{}_ods_day_new_tmp.csv'.format(case,case), float_precision = \"round_trip\")\n",
    "#links_df.loc[links_df['link_id'].isin([15290,31970,7444,35285,15229,26277,11937,7153,12176,7143,58,18977,9668,12414]), 'lanes'] = 1\n",
    "#links_df.loc[links_df['link_id'].isin([10578,8169,17954,34851,33134,36158,26795,37330,4774,7423,34554,31563,33888,4865]), 'lanes'] = links_df.loc[links_df['link_id'].isin([10578,8169,17954,34851,33134,36158,26795,37330,4774,7423,34554]), 'lanes'].apply(lambda x: max(2,x))\n",
    "#links_df.loc[links_df['link_id'].isin([14449, 21564, 30429, 9688, 22980, 1408, 7470, 12936, 15644,9699, 22125]), 'lanes'] = 1\n",
    "#links_df.loc[links_df['link_id'].isin([453,15382, 31975, 10368, 4969, 13113, 9924, 30445, 22430, 4456, 23103, 189, 15153, 17738, 11631, 6037, 17671, 12217, 178, 223, 8627, 14269, 30469, 232, 3728, 16782]), 'lanes'] = 2 # Route 6\n",
    "od_df['agent_id'] = np.arange(120000, 120000 + len(od_df))\n",
    "od_df.loc[:, 'departure_hour'] = 6\n",
    "od_df.loc[:, 'departure_quarter'] = 0\n",
    "od_df['departure_time'] = (od_df['departure_hour'] - 6) * 3600 + od_df['departure_quarter'] * 900\n",
    "od_df = od_df[od_df['origin_nid']!=od_df['destin_nid']]\n",
    "nodes_df['node_id'] = nodes_df['node_id'].astype(int)\n",
    "print('# nodes {}, # links {}, # ods {}'.format(nodes_df.shape[0], links_df.shape[0], od_df.shape[0]))"
   ]
  },
  {
   "cell_type": "code",
   "execution_count": 47,
   "metadata": {},
   "outputs": [],
   "source": [
    "simulation_vect = sq_vect.Simulation()\n",
    "simulation_vect.initialize_simulation(nodes_df, links_df, od_df)"
   ]
  },
  {
   "cell_type": "code",
   "execution_count": 48,
   "metadata": {},
   "outputs": [],
   "source": [
    "for t in [0]:\n",
    "    simulation_vect.run_one_step(t, reroute_frequency=10)"
   ]
  },
  {
   "cell_type": "code",
   "execution_count": 49,
   "metadata": {},
   "outputs": [],
   "source": [
    "agents_routes_dict = simulation_vect.agents.agent_routes"
   ]
  },
  {
   "cell_type": "code",
   "execution_count": 50,
   "metadata": {},
   "outputs": [
    {
     "data": {
      "text/plain": [
       "-1501.3762972832021"
      ]
     },
     "execution_count": 50,
     "metadata": {},
     "output_type": "execute_result"
    }
   ],
   "source": [
    "sum(simulation_vect.network.links['rtt'] - simulation_vect.network.links['fft'])"
   ]
  },
  {
   "cell_type": "code",
   "execution_count": 51,
   "metadata": {},
   "outputs": [
    {
     "data": {
      "text/html": [
       "<div>\n",
       "<style scoped>\n",
       "    .dataframe tbody tr th:only-of-type {\n",
       "        vertical-align: middle;\n",
       "    }\n",
       "\n",
       "    .dataframe tbody tr th {\n",
       "        vertical-align: top;\n",
       "    }\n",
       "\n",
       "    .dataframe thead th {\n",
       "        text-align: right;\n",
       "    }\n",
       "</style>\n",
       "<table border=\"1\" class=\"dataframe\">\n",
       "  <thead>\n",
       "    <tr style=\"text-align: right;\">\n",
       "      <th></th>\n",
       "      <th>link_id</th>\n",
       "      <th>start_node_id</th>\n",
       "      <th>end_node_id</th>\n",
       "      <th>link_type</th>\n",
       "      <th>road_type</th>\n",
       "      <th>length</th>\n",
       "      <th>lanes</th>\n",
       "      <th>maxmph</th>\n",
       "      <th>fft</th>\n",
       "      <th>rtt</th>\n",
       "      <th>capacity</th>\n",
       "      <th>storage</th>\n",
       "      <th>geometry</th>\n",
       "      <th>storage_add_times</th>\n",
       "      <th>undeparted</th>\n",
       "      <th>queue</th>\n",
       "      <th>run</th>\n",
       "      <th>storage_remain</th>\n",
       "    </tr>\n",
       "  </thead>\n",
       "  <tbody>\n",
       "    <tr>\n",
       "      <th>0</th>\n",
       "      <td>0</td>\n",
       "      <td>207</td>\n",
       "      <td>15434</td>\n",
       "      <td>real</td>\n",
       "      <td>vl_link</td>\n",
       "      <td>1000.00</td>\n",
       "      <td>1000000.0</td>\n",
       "      <td>10000000</td>\n",
       "      <td>0.000224</td>\n",
       "      <td>0.000224</td>\n",
       "      <td>500000.0</td>\n",
       "      <td>1.000000e+09</td>\n",
       "      <td>LINESTRING (-13634479.059 4571408.963, -136343...</td>\n",
       "      <td>0</td>\n",
       "      <td>0.0</td>\n",
       "      <td>0.0</td>\n",
       "      <td>0.0</td>\n",
       "      <td>1.000000e+09</td>\n",
       "    </tr>\n",
       "    <tr>\n",
       "      <th>1</th>\n",
       "      <td>1</td>\n",
       "      <td>17848</td>\n",
       "      <td>15434</td>\n",
       "      <td>real</td>\n",
       "      <td>vl_link</td>\n",
       "      <td>1000.00</td>\n",
       "      <td>1000000.0</td>\n",
       "      <td>10000000</td>\n",
       "      <td>0.000224</td>\n",
       "      <td>0.000224</td>\n",
       "      <td>500000.0</td>\n",
       "      <td>1.000000e+09</td>\n",
       "      <td>LINESTRING (-13634470.120 4571447.471, -136343...</td>\n",
       "      <td>0</td>\n",
       "      <td>0.0</td>\n",
       "      <td>0.0</td>\n",
       "      <td>0.0</td>\n",
       "      <td>1.000000e+09</td>\n",
       "    </tr>\n",
       "    <tr>\n",
       "      <th>2</th>\n",
       "      <td>2</td>\n",
       "      <td>16577</td>\n",
       "      <td>16576</td>\n",
       "      <td>real</td>\n",
       "      <td>tertiary</td>\n",
       "      <td>3.43</td>\n",
       "      <td>1.0</td>\n",
       "      <td>25</td>\n",
       "      <td>0.306973</td>\n",
       "      <td>0.303904</td>\n",
       "      <td>0.5</td>\n",
       "      <td>1.800000e+01</td>\n",
       "      <td>LINESTRING (-13640430.177 4579490.118, -136404...</td>\n",
       "      <td>0</td>\n",
       "      <td>0.0</td>\n",
       "      <td>0.0</td>\n",
       "      <td>0.0</td>\n",
       "      <td>1.800000e+01</td>\n",
       "    </tr>\n",
       "    <tr>\n",
       "      <th>3</th>\n",
       "      <td>3</td>\n",
       "      <td>17356</td>\n",
       "      <td>15917</td>\n",
       "      <td>real</td>\n",
       "      <td>service</td>\n",
       "      <td>3.91</td>\n",
       "      <td>1.0</td>\n",
       "      <td>25</td>\n",
       "      <td>0.349932</td>\n",
       "      <td>0.349932</td>\n",
       "      <td>0.5</td>\n",
       "      <td>1.800000e+01</td>\n",
       "      <td>LINESTRING (-13638443.325 4563844.610, -136384...</td>\n",
       "      <td>0</td>\n",
       "      <td>0.0</td>\n",
       "      <td>0.0</td>\n",
       "      <td>0.0</td>\n",
       "      <td>1.800000e+01</td>\n",
       "    </tr>\n",
       "    <tr>\n",
       "      <th>4</th>\n",
       "      <td>4</td>\n",
       "      <td>15917</td>\n",
       "      <td>17356</td>\n",
       "      <td>real</td>\n",
       "      <td>service</td>\n",
       "      <td>3.91</td>\n",
       "      <td>1.0</td>\n",
       "      <td>25</td>\n",
       "      <td>0.349932</td>\n",
       "      <td>0.349932</td>\n",
       "      <td>0.5</td>\n",
       "      <td>1.800000e+01</td>\n",
       "      <td>LINESTRING (-13638424.667 4563856.030, -136384...</td>\n",
       "      <td>0</td>\n",
       "      <td>0.0</td>\n",
       "      <td>0.0</td>\n",
       "      <td>0.0</td>\n",
       "      <td>1.800000e+01</td>\n",
       "    </tr>\n",
       "    <tr>\n",
       "      <th>...</th>\n",
       "      <td>...</td>\n",
       "      <td>...</td>\n",
       "      <td>...</td>\n",
       "      <td>...</td>\n",
       "      <td>...</td>\n",
       "      <td>...</td>\n",
       "      <td>...</td>\n",
       "      <td>...</td>\n",
       "      <td>...</td>\n",
       "      <td>...</td>\n",
       "      <td>...</td>\n",
       "      <td>...</td>\n",
       "      <td>...</td>\n",
       "      <td>...</td>\n",
       "      <td>...</td>\n",
       "      <td>...</td>\n",
       "      <td>...</td>\n",
       "      <td>...</td>\n",
       "    </tr>\n",
       "    <tr>\n",
       "      <th>17766</th>\n",
       "      <td>vl_17766</td>\n",
       "      <td>vn_17766</td>\n",
       "      <td>17766</td>\n",
       "      <td>virtual</td>\n",
       "      <td>virtual</td>\n",
       "      <td>1.00</td>\n",
       "      <td>100000000.0</td>\n",
       "      <td>1000</td>\n",
       "      <td>0.002237</td>\n",
       "      <td>0.002237</td>\n",
       "      <td>50000000.0</td>\n",
       "      <td>1.000000e+08</td>\n",
       "      <td>None</td>\n",
       "      <td>0</td>\n",
       "      <td>0.0</td>\n",
       "      <td>75.0</td>\n",
       "      <td>0.0</td>\n",
       "      <td>9.999962e+07</td>\n",
       "    </tr>\n",
       "    <tr>\n",
       "      <th>17767</th>\n",
       "      <td>vl_17767</td>\n",
       "      <td>vn_17767</td>\n",
       "      <td>17767</td>\n",
       "      <td>virtual</td>\n",
       "      <td>virtual</td>\n",
       "      <td>1.00</td>\n",
       "      <td>100000000.0</td>\n",
       "      <td>1000</td>\n",
       "      <td>0.002237</td>\n",
       "      <td>0.002237</td>\n",
       "      <td>50000000.0</td>\n",
       "      <td>1.000000e+08</td>\n",
       "      <td>None</td>\n",
       "      <td>0</td>\n",
       "      <td>0.0</td>\n",
       "      <td>45.0</td>\n",
       "      <td>0.0</td>\n",
       "      <td>9.999978e+07</td>\n",
       "    </tr>\n",
       "    <tr>\n",
       "      <th>17809</th>\n",
       "      <td>vl_17809</td>\n",
       "      <td>vn_17809</td>\n",
       "      <td>17809</td>\n",
       "      <td>virtual</td>\n",
       "      <td>virtual</td>\n",
       "      <td>1.00</td>\n",
       "      <td>100000000.0</td>\n",
       "      <td>1000</td>\n",
       "      <td>0.002237</td>\n",
       "      <td>0.002237</td>\n",
       "      <td>50000000.0</td>\n",
       "      <td>1.000000e+08</td>\n",
       "      <td>None</td>\n",
       "      <td>0</td>\n",
       "      <td>0.0</td>\n",
       "      <td>9.0</td>\n",
       "      <td>0.0</td>\n",
       "      <td>9.999996e+07</td>\n",
       "    </tr>\n",
       "    <tr>\n",
       "      <th>17830</th>\n",
       "      <td>vl_17830</td>\n",
       "      <td>vn_17830</td>\n",
       "      <td>17830</td>\n",
       "      <td>virtual</td>\n",
       "      <td>virtual</td>\n",
       "      <td>1.00</td>\n",
       "      <td>100000000.0</td>\n",
       "      <td>1000</td>\n",
       "      <td>0.002237</td>\n",
       "      <td>0.002237</td>\n",
       "      <td>50000000.0</td>\n",
       "      <td>1.000000e+08</td>\n",
       "      <td>None</td>\n",
       "      <td>0</td>\n",
       "      <td>0.0</td>\n",
       "      <td>10.0</td>\n",
       "      <td>0.0</td>\n",
       "      <td>9.999995e+07</td>\n",
       "    </tr>\n",
       "    <tr>\n",
       "      <th>17836</th>\n",
       "      <td>vl_17836</td>\n",
       "      <td>vn_17836</td>\n",
       "      <td>17836</td>\n",
       "      <td>virtual</td>\n",
       "      <td>virtual</td>\n",
       "      <td>1.00</td>\n",
       "      <td>100000000.0</td>\n",
       "      <td>1000</td>\n",
       "      <td>0.002237</td>\n",
       "      <td>0.002237</td>\n",
       "      <td>50000000.0</td>\n",
       "      <td>1.000000e+08</td>\n",
       "      <td>None</td>\n",
       "      <td>0</td>\n",
       "      <td>0.0</td>\n",
       "      <td>10.0</td>\n",
       "      <td>0.0</td>\n",
       "      <td>9.999995e+07</td>\n",
       "    </tr>\n",
       "  </tbody>\n",
       "</table>\n",
       "<p>40953 rows × 18 columns</p>\n",
       "</div>"
      ],
      "text/plain": [
       "        link_id start_node_id  end_node_id link_type road_type   length  \\\n",
       "0             0           207        15434      real   vl_link  1000.00   \n",
       "1             1         17848        15434      real   vl_link  1000.00   \n",
       "2             2         16577        16576      real  tertiary     3.43   \n",
       "3             3         17356        15917      real   service     3.91   \n",
       "4             4         15917        17356      real   service     3.91   \n",
       "...         ...           ...          ...       ...       ...      ...   \n",
       "17766  vl_17766      vn_17766        17766   virtual   virtual     1.00   \n",
       "17767  vl_17767      vn_17767        17767   virtual   virtual     1.00   \n",
       "17809  vl_17809      vn_17809        17809   virtual   virtual     1.00   \n",
       "17830  vl_17830      vn_17830        17830   virtual   virtual     1.00   \n",
       "17836  vl_17836      vn_17836        17836   virtual   virtual     1.00   \n",
       "\n",
       "             lanes    maxmph       fft       rtt    capacity       storage  \\\n",
       "0        1000000.0  10000000  0.000224  0.000224    500000.0  1.000000e+09   \n",
       "1        1000000.0  10000000  0.000224  0.000224    500000.0  1.000000e+09   \n",
       "2              1.0        25  0.306973  0.303904         0.5  1.800000e+01   \n",
       "3              1.0        25  0.349932  0.349932         0.5  1.800000e+01   \n",
       "4              1.0        25  0.349932  0.349932         0.5  1.800000e+01   \n",
       "...            ...       ...       ...       ...         ...           ...   \n",
       "17766  100000000.0      1000  0.002237  0.002237  50000000.0  1.000000e+08   \n",
       "17767  100000000.0      1000  0.002237  0.002237  50000000.0  1.000000e+08   \n",
       "17809  100000000.0      1000  0.002237  0.002237  50000000.0  1.000000e+08   \n",
       "17830  100000000.0      1000  0.002237  0.002237  50000000.0  1.000000e+08   \n",
       "17836  100000000.0      1000  0.002237  0.002237  50000000.0  1.000000e+08   \n",
       "\n",
       "                                                geometry  storage_add_times  \\\n",
       "0      LINESTRING (-13634479.059 4571408.963, -136343...                  0   \n",
       "1      LINESTRING (-13634470.120 4571447.471, -136343...                  0   \n",
       "2      LINESTRING (-13640430.177 4579490.118, -136404...                  0   \n",
       "3      LINESTRING (-13638443.325 4563844.610, -136384...                  0   \n",
       "4      LINESTRING (-13638424.667 4563856.030, -136384...                  0   \n",
       "...                                                  ...                ...   \n",
       "17766                                               None                  0   \n",
       "17767                                               None                  0   \n",
       "17809                                               None                  0   \n",
       "17830                                               None                  0   \n",
       "17836                                               None                  0   \n",
       "\n",
       "       undeparted  queue  run  storage_remain  \n",
       "0             0.0    0.0  0.0    1.000000e+09  \n",
       "1             0.0    0.0  0.0    1.000000e+09  \n",
       "2             0.0    0.0  0.0    1.800000e+01  \n",
       "3             0.0    0.0  0.0    1.800000e+01  \n",
       "4             0.0    0.0  0.0    1.800000e+01  \n",
       "...           ...    ...  ...             ...  \n",
       "17766         0.0   75.0  0.0    9.999962e+07  \n",
       "17767         0.0   45.0  0.0    9.999978e+07  \n",
       "17809         0.0    9.0  0.0    9.999996e+07  \n",
       "17830         0.0   10.0  0.0    9.999995e+07  \n",
       "17836         0.0   10.0  0.0    9.999995e+07  \n",
       "\n",
       "[40953 rows x 18 columns]"
      ]
     },
     "execution_count": 51,
     "metadata": {},
     "output_type": "execute_result"
    }
   ],
   "source": [
    "simulation_vect.network.links"
   ]
  },
  {
   "cell_type": "code",
   "execution_count": 52,
   "metadata": {},
   "outputs": [],
   "source": [
    "node_uv_link_dict = dict(zip(zip(links_df['start_node_id'], links_df['end_node_id']), links_df['link_id']))"
   ]
  },
  {
   "cell_type": "code",
   "execution_count": 53,
   "metadata": {},
   "outputs": [],
   "source": [
    "#node_uv_link_dict.get((7758, 17311))"
   ]
  },
  {
   "cell_type": "code",
   "execution_count": 54,
   "metadata": {},
   "outputs": [
    {
     "name": "stderr",
     "output_type": "stream",
     "text": [
      "100%|██████████| 5846/5846 [00:00<00:00, 33258.24it/s]\n"
     ]
    }
   ],
   "source": [
    "from tqdm import tqdm\n",
    "agents_links_dict = {}\n",
    "for agent_id in tqdm(agents_routes_dict):\n",
    "    links_list = []\n",
    "    routes = agents_routes_dict[agent_id]\n",
    "    for node_u, node_v in routes.items():\n",
    "        #link_id_tmp = links_df.loc[(links_df['start_node_id'] == node_u) & (links_df['end_node_id'] == node_v), 'link_id'].values[0]\n",
    "        link_id_tmp = node_uv_link_dict.get((node_u, node_v))\n",
    "        links_list.append(link_id_tmp)\n",
    "    agents_links_dict[agent_id] = links_list"
   ]
  },
  {
   "cell_type": "code",
   "execution_count": 55,
   "metadata": {},
   "outputs": [
    {
     "data": {
      "text/plain": [
       "5846"
      ]
     },
     "execution_count": 55,
     "metadata": {},
     "output_type": "execute_result"
    }
   ],
   "source": [
    "len(agents_links_dict)"
   ]
  },
  {
   "cell_type": "code",
   "execution_count": 56,
   "metadata": {},
   "outputs": [],
   "source": [
    "#agents_links_dict[120145]"
   ]
  },
  {
   "cell_type": "code",
   "execution_count": 57,
   "metadata": {},
   "outputs": [],
   "source": [
    "links_passed = list(agents_links_dict.values())\n",
    "links_passed = sum(links_passed,[])"
   ]
  },
  {
   "cell_type": "code",
   "execution_count": 58,
   "metadata": {},
   "outputs": [],
   "source": [
    "unique, counts = np.unique(links_passed, return_counts=True)\n",
    "links_passed_count = dict(zip(unique, counts))"
   ]
  },
  {
   "cell_type": "code",
   "execution_count": 59,
   "metadata": {},
   "outputs": [],
   "source": [
    "link_geometry_dict = dict(zip(links_df['link_id'], links_df['geometry']))\n",
    "link_lanes_dict = dict(zip(links_df['link_id'], links_df['lanes']))"
   ]
  },
  {
   "cell_type": "code",
   "execution_count": 60,
   "metadata": {},
   "outputs": [],
   "source": [
    "#link_lanes_dict.get(22430)"
   ]
  },
  {
   "cell_type": "code",
   "execution_count": 61,
   "metadata": {},
   "outputs": [],
   "source": [
    "link_passed_df = pd.DataFrame()\n",
    "link_passed_df['link_id'] = list(links_passed_count.keys())\n",
    "link_passed_df['count'] = link_passed_df['link_id'].map(links_passed_count)\n",
    "link_passed_df['lanes'] = link_passed_df['link_id'].map(link_lanes_dict)\n",
    "link_passed_df['geometry'] = link_passed_df['link_id'].map(link_geometry_dict)"
   ]
  },
  {
   "cell_type": "code",
   "execution_count": 62,
   "metadata": {},
   "outputs": [
    {
     "data": {
      "text/html": [
       "<div>\n",
       "<style scoped>\n",
       "    .dataframe tbody tr th:only-of-type {\n",
       "        vertical-align: middle;\n",
       "    }\n",
       "\n",
       "    .dataframe tbody tr th {\n",
       "        vertical-align: top;\n",
       "    }\n",
       "\n",
       "    .dataframe thead th {\n",
       "        text-align: right;\n",
       "    }\n",
       "</style>\n",
       "<table border=\"1\" class=\"dataframe\">\n",
       "  <thead>\n",
       "    <tr style=\"text-align: right;\">\n",
       "      <th></th>\n",
       "      <th>link_id</th>\n",
       "      <th>count</th>\n",
       "      <th>lanes</th>\n",
       "      <th>geometry</th>\n",
       "    </tr>\n",
       "  </thead>\n",
       "  <tbody>\n",
       "  </tbody>\n",
       "</table>\n",
       "</div>"
      ],
      "text/plain": [
       "Empty DataFrame\n",
       "Columns: [link_id, count, lanes, geometry]\n",
       "Index: []"
      ]
     },
     "execution_count": 62,
     "metadata": {},
     "output_type": "execute_result"
    }
   ],
   "source": [
    "link_passed_df[link_passed_df['link_id'] == 22430]"
   ]
  },
  {
   "cell_type": "code",
   "execution_count": 63,
   "metadata": {},
   "outputs": [
    {
     "data": {
      "text/plain": [
       "count     762.000000\n",
       "mean      322.712598\n",
       "std      1019.318277\n",
       "min         2.000000\n",
       "25%         6.000000\n",
       "50%        16.500000\n",
       "75%        99.750000\n",
       "max      5846.000000\n",
       "Name: count, dtype: float64"
      ]
     },
     "execution_count": 63,
     "metadata": {},
     "output_type": "execute_result"
    }
   ],
   "source": [
    "link_passed_df[link_passed_df['count']!=1195]['count'].describe()"
   ]
  },
  {
   "cell_type": "code",
   "execution_count": 64,
   "metadata": {},
   "outputs": [
    {
     "data": {
      "text/html": [
       "<div>\n",
       "<style scoped>\n",
       "    .dataframe tbody tr th:only-of-type {\n",
       "        vertical-align: middle;\n",
       "    }\n",
       "\n",
       "    .dataframe tbody tr th {\n",
       "        vertical-align: top;\n",
       "    }\n",
       "\n",
       "    .dataframe thead th {\n",
       "        text-align: right;\n",
       "    }\n",
       "</style>\n",
       "<table border=\"1\" class=\"dataframe\">\n",
       "  <thead>\n",
       "    <tr style=\"text-align: right;\">\n",
       "      <th></th>\n",
       "      <th>link_id</th>\n",
       "      <th>count</th>\n",
       "      <th>lanes</th>\n",
       "      <th>geometry</th>\n",
       "    </tr>\n",
       "  </thead>\n",
       "  <tbody>\n",
       "    <tr>\n",
       "      <th>0</th>\n",
       "      <td>8</td>\n",
       "      <td>923</td>\n",
       "      <td>1</td>\n",
       "      <td>LINESTRING(-122.53565976666668 37.896282766666...</td>\n",
       "    </tr>\n",
       "    <tr>\n",
       "      <th>1</th>\n",
       "      <td>45</td>\n",
       "      <td>2064</td>\n",
       "      <td>1</td>\n",
       "      <td>LINESTRING(-122.53006264999999 37.892831224999...</td>\n",
       "    </tr>\n",
       "    <tr>\n",
       "      <th>2</th>\n",
       "      <td>86</td>\n",
       "      <td>2088</td>\n",
       "      <td>2</td>\n",
       "      <td>LINESTRING(-122.5257551 37.8815096, -122.52544...</td>\n",
       "    </tr>\n",
       "    <tr>\n",
       "      <th>3</th>\n",
       "      <td>121</td>\n",
       "      <td>5243</td>\n",
       "      <td>2</td>\n",
       "      <td>LINESTRING(-122.5249256 37.8821267, -122.52486...</td>\n",
       "    </tr>\n",
       "    <tr>\n",
       "      <th>4</th>\n",
       "      <td>138</td>\n",
       "      <td>5804</td>\n",
       "      <td>2</td>\n",
       "      <td>LINESTRING(-122.5164638 37.8788044, -122.51639...</td>\n",
       "    </tr>\n",
       "  </tbody>\n",
       "</table>\n",
       "</div>"
      ],
      "text/plain": [
       "   link_id  count  lanes                                           geometry\n",
       "0        8    923      1  LINESTRING(-122.53565976666668 37.896282766666...\n",
       "1       45   2064      1  LINESTRING(-122.53006264999999 37.892831224999...\n",
       "2       86   2088      2  LINESTRING(-122.5257551 37.8815096, -122.52544...\n",
       "3      121   5243      2  LINESTRING(-122.5249256 37.8821267, -122.52486...\n",
       "4      138   5804      2  LINESTRING(-122.5164638 37.8788044, -122.51639..."
      ]
     },
     "execution_count": 64,
     "metadata": {},
     "output_type": "execute_result"
    }
   ],
   "source": [
    "link_passed_df.head()"
   ]
  },
  {
   "cell_type": "code",
   "execution_count": 65,
   "metadata": {},
   "outputs": [],
   "source": [
    "link_passed_df = link_passed_df[link_passed_df['lanes'] < 100]\n",
    "link_passed_df.to_csv('./{}_evacuees_links_passed_count_new.csv'.format(case), index = False)"
   ]
  },
  {
   "cell_type": "code",
   "execution_count": 66,
   "metadata": {},
   "outputs": [],
   "source": [
    "link_passed_df1 = link_passed_df[link_passed_df['count'] >= 1195]\n",
    "link_passed_df1.to_csv('./{}_evacuees_links_frequently_passed_count_new.csv'.format(case), index = False)"
   ]
  },
  {
   "cell_type": "code",
   "execution_count": null,
   "metadata": {},
   "outputs": [],
   "source": []
  },
  {
   "cell_type": "code",
   "execution_count": null,
   "metadata": {},
   "outputs": [],
   "source": []
  }
 ],
 "metadata": {
  "kernelspec": {
   "display_name": "Python 3",
   "language": "python",
   "name": "python3"
  },
  "language_info": {
   "codemirror_mode": {
    "name": "ipython",
    "version": 3
   },
   "file_extension": ".py",
   "mimetype": "text/x-python",
   "name": "python",
   "nbconvert_exporter": "python",
   "pygments_lexer": "ipython3",
   "version": "3.6.8"
  }
 },
 "nbformat": 4,
 "nbformat_minor": 2
}
